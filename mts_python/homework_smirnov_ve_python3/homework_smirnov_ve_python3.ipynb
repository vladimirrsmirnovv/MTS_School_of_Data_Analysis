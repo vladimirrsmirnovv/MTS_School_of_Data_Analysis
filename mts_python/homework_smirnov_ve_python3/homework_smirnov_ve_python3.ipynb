{
 "cells": [
  {
   "cell_type": "markdown",
   "metadata": {
    "id": "ive9kZsYsugz"
   },
   "source": [
    "Уважаемые студенты!\n",
    "\n",
    "Задачи выполняются с помощью стандартных библиотек питона без установки сторонних библиотек. Все задачи направлены на проверку усвоения пройденного материала. Вспомните как работать с библиотекой Pandas.\n",
    "\n",
    "Желаем удачи!"
   ]
  },
  {
   "cell_type": "code",
   "execution_count": 2,
   "metadata": {},
   "outputs": [],
   "source": [
    "import pandas as pd\n",
    "import numpy as np\n",
    "import seaborn as sns\n",
    "import matplotlib.pyplot as plt\n",
    "plt.style.use('ggplot')  # стиль для графиков\n",
    "%matplotlib inline"
   ]
  },
  {
   "cell_type": "markdown",
   "metadata": {
    "id": "trn8NQkq0Dl-"
   },
   "source": [
    "**Задача №1**. **Создание и базовый анализ DataFrame:**\n",
    "\n",
    "- Создайте DataFrame из словаря, где ключи — имена столбцов, а значения — списки данных.\n",
    "- Выполните базовый анализ данных с помощью методов head(), info(), describe() и shape.\n"
   ]
  },
  {
   "cell_type": "code",
   "execution_count": 4,
   "metadata": {
    "id": "ctA20rpC35L6"
   },
   "outputs": [
    {
     "name": "stdout",
     "output_type": "stream",
     "text": [
      "<class 'pandas.core.frame.DataFrame'>\n",
      "RangeIndex: 5 entries, 0 to 4\n",
      "Data columns (total 3 columns):\n",
      " #   Column   Non-Null Count  Dtype \n",
      "---  ------   --------------  ----- \n",
      " 0   Имя      5 non-null      object\n",
      " 1   Возраст  5 non-null      int64 \n",
      " 2   Город    5 non-null      object\n",
      "dtypes: int64(1), object(2)\n",
      "memory usage: 252.0+ bytes\n"
     ]
    },
    {
     "data": {
      "text/plain": [
       "(5, 3)"
      ]
     },
     "execution_count": 4,
     "metadata": {},
     "output_type": "execute_result"
    }
   ],
   "source": [
    "data = {\n",
    "    'Имя': ['Анна', 'Борис', 'Виктор', 'Галина', 'Дмитрий'],\n",
    "    'Возраст': [23, 30, 35, 29, 40],\n",
    "    'Город': ['Москва', 'Санкт-Петербург', 'Новосибирск', 'Екатеринбург', 'Казань']\n",
    "}\n",
    "\n",
    "# Создал\n",
    "df = pd.DataFrame(data)\n",
    "# Первые 3 строки\n",
    "df.head(3)\n",
    "# Статистика по столбцам\n",
    "df.info()\n",
    "# Описательные статистики для кол. переменной\n",
    "df.describe()\n",
    "# Размерность\n",
    "df.shape\n",
    "# (5, 3)"
   ]
  },
  {
   "cell_type": "markdown",
   "metadata": {
    "id": "9KbBnRVC4_ug"
   },
   "source": [
    "**Задача №2**. **Работа с индексами и фильтрация:**\n",
    "\n",
    "- Отфильтруйте строки, основываясь на значениях в одном или нескольких столбцах.\n"
   ]
  },
  {
   "cell_type": "code",
   "execution_count": 6,
   "metadata": {
    "id": "MGzLCTNc5gao"
   },
   "outputs": [
    {
     "data": {
      "text/html": [
       "<div>\n",
       "<style scoped>\n",
       "    .dataframe tbody tr th:only-of-type {\n",
       "        vertical-align: middle;\n",
       "    }\n",
       "\n",
       "    .dataframe tbody tr th {\n",
       "        vertical-align: top;\n",
       "    }\n",
       "\n",
       "    .dataframe thead th {\n",
       "        text-align: right;\n",
       "    }\n",
       "</style>\n",
       "<table border=\"1\" class=\"dataframe\">\n",
       "  <thead>\n",
       "    <tr style=\"text-align: right;\">\n",
       "      <th></th>\n",
       "      <th>Имя</th>\n",
       "      <th>Возраст</th>\n",
       "      <th>Город</th>\n",
       "    </tr>\n",
       "  </thead>\n",
       "  <tbody>\n",
       "    <tr>\n",
       "      <th>1</th>\n",
       "      <td>Борис</td>\n",
       "      <td>30</td>\n",
       "      <td>Санкт-Петербург</td>\n",
       "    </tr>\n",
       "  </tbody>\n",
       "</table>\n",
       "</div>"
      ],
      "text/plain": [
       "     Имя  Возраст            Город\n",
       "1  Борис       30  Санкт-Петербург"
      ]
     },
     "execution_count": 6,
     "metadata": {},
     "output_type": "execute_result"
    }
   ],
   "source": [
    "df = pd.DataFrame(data)\n",
    "\n",
    "# Вообще как угодно что ли фильтровать?\n",
    "\n",
    "df = df.query('Возраст > 29 and Город == \"Санкт-Петербург\"')\n",
    "df"
   ]
  },
  {
   "cell_type": "markdown",
   "metadata": {
    "id": "_AmVFE8K5yWj"
   },
   "source": [
    "**Задача №3**. **Обработка отсутствующих данных:**\n",
    "\n",
    "  - Заполните отсутствующие значения методом fillna(), используя среднее значение по столбцу.\n",
    "  - Удалите строки с отсутствующими значениями методом dropna().\n"
   ]
  },
  {
   "cell_type": "code",
   "execution_count": 8,
   "metadata": {
    "id": "dedDwRAw6F8M"
   },
   "outputs": [
    {
     "data": {
      "text/html": [
       "<div>\n",
       "<style scoped>\n",
       "    .dataframe tbody tr th:only-of-type {\n",
       "        vertical-align: middle;\n",
       "    }\n",
       "\n",
       "    .dataframe tbody tr th {\n",
       "        vertical-align: top;\n",
       "    }\n",
       "\n",
       "    .dataframe thead th {\n",
       "        text-align: right;\n",
       "    }\n",
       "</style>\n",
       "<table border=\"1\" class=\"dataframe\">\n",
       "  <thead>\n",
       "    <tr style=\"text-align: right;\">\n",
       "      <th></th>\n",
       "      <th>Имя</th>\n",
       "      <th>Возраст</th>\n",
       "      <th>Город</th>\n",
       "    </tr>\n",
       "  </thead>\n",
       "  <tbody>\n",
       "    <tr>\n",
       "      <th>0</th>\n",
       "      <td>Анна</td>\n",
       "      <td>23.0</td>\n",
       "      <td>Москва</td>\n",
       "    </tr>\n",
       "    <tr>\n",
       "      <th>1</th>\n",
       "      <td>Борис</td>\n",
       "      <td>29.0</td>\n",
       "      <td>Санкт-Петербург</td>\n",
       "    </tr>\n",
       "    <tr>\n",
       "      <th>2</th>\n",
       "      <td>Виктор</td>\n",
       "      <td>35.0</td>\n",
       "      <td>Новосибирск</td>\n",
       "    </tr>\n",
       "    <tr>\n",
       "      <th>4</th>\n",
       "      <td>Дмитрий</td>\n",
       "      <td>29.0</td>\n",
       "      <td>Казань</td>\n",
       "    </tr>\n",
       "  </tbody>\n",
       "</table>\n",
       "</div>"
      ],
      "text/plain": [
       "       Имя  Возраст            Город\n",
       "0     Анна     23.0           Москва\n",
       "1    Борис     29.0  Санкт-Петербург\n",
       "2   Виктор     35.0      Новосибирск\n",
       "4  Дмитрий     29.0           Казань"
      ]
     },
     "execution_count": 8,
     "metadata": {},
     "output_type": "execute_result"
    }
   ],
   "source": [
    "data = {\n",
    "    'Имя': ['Анна', 'Борис', 'Виктор', 'Галина', 'Дмитрий'],\n",
    "    'Возраст': [23, np.nan, 35, 29, np.nan],\n",
    "    'Город': ['Москва', 'Санкт-Петербург', 'Новосибирск', None, 'Казань']\n",
    "}\n",
    "\n",
    "df = pd.DataFrame(data)\n",
    "age_mean = df['Возраст'].mean()\n",
    "df = df.fillna({'Возраст': age_mean}) # df.fillna({'Возраст': age_mean, 'Город': \"Неизвестно\"})\n",
    "df = df.dropna()\n",
    "df"
   ]
  },
  {
   "cell_type": "markdown",
   "metadata": {
    "id": "wMwOIGdf6Yv0"
   },
   "source": [
    "**Задача №4**. **Группировка и агрегирование данных:**\n",
    "   - Создайте DataFrame из словаря и выполните его группировку по определённым категориям.\n",
    "   - Используйте методы groupby() и agg() для получения суммарных и средних значений по группе."
   ]
  },
  {
   "cell_type": "code",
   "execution_count": 10,
   "metadata": {
    "id": "LwPocVme6q2e"
   },
   "outputs": [
    {
     "data": {
      "text/html": [
       "<div>\n",
       "<style scoped>\n",
       "    .dataframe tbody tr th:only-of-type {\n",
       "        vertical-align: middle;\n",
       "    }\n",
       "\n",
       "    .dataframe tbody tr th {\n",
       "        vertical-align: top;\n",
       "    }\n",
       "\n",
       "    .dataframe thead tr th {\n",
       "        text-align: left;\n",
       "    }\n",
       "</style>\n",
       "<table border=\"1\" class=\"dataframe\">\n",
       "  <thead>\n",
       "    <tr>\n",
       "      <th></th>\n",
       "      <th>Группа</th>\n",
       "      <th colspan=\"2\" halign=\"left\">Значение</th>\n",
       "    </tr>\n",
       "    <tr>\n",
       "      <th></th>\n",
       "      <th></th>\n",
       "      <th>mean</th>\n",
       "      <th>sum</th>\n",
       "    </tr>\n",
       "  </thead>\n",
       "  <tbody>\n",
       "    <tr>\n",
       "      <th>0</th>\n",
       "      <td>A</td>\n",
       "      <td>21.67</td>\n",
       "      <td>65</td>\n",
       "    </tr>\n",
       "    <tr>\n",
       "      <th>1</th>\n",
       "      <td>B</td>\n",
       "      <td>22.50</td>\n",
       "      <td>45</td>\n",
       "    </tr>\n",
       "  </tbody>\n",
       "</table>\n",
       "</div>"
      ],
      "text/plain": [
       "  Группа Значение    \n",
       "             mean sum\n",
       "0      A    21.67  65\n",
       "1      B    22.50  45"
      ]
     },
     "execution_count": 10,
     "metadata": {},
     "output_type": "execute_result"
    }
   ],
   "source": [
    "data = {\n",
    "    'Группа': ['A', 'B', 'A', 'B', 'A'],\n",
    "    'Значение': [10, 20, 15, 25, 40]\n",
    "}\n",
    "\n",
    "#### \n",
    "df = pd.DataFrame(data)\n",
    "\n",
    "agg_functions = {\"Значение\": [\"mean\", \"sum\"]} \n",
    "\n",
    "df_grouped = df.groupby(\"Группа\", as_index=False).agg(agg_functions).round(2)\n",
    "df_grouped"
   ]
  },
  {
   "cell_type": "markdown",
   "metadata": {
    "id": "Z9Ashfeo7XDD"
   },
   "source": [
    "**Задача №5**. **Объединение и слияние DataFrame:**\n",
    "   - Создайте два DataFrame из словарей.\n",
    "   - Примените методы merge() и concat(), чтобы объединить эти DataFrame разными способами."
   ]
  },
  {
   "cell_type": "code",
   "execution_count": 12,
   "metadata": {
    "id": "qLx5Srwp7sca"
   },
   "outputs": [
    {
     "data": {
      "text/html": [
       "<div>\n",
       "<style scoped>\n",
       "    .dataframe tbody tr th:only-of-type {\n",
       "        vertical-align: middle;\n",
       "    }\n",
       "\n",
       "    .dataframe tbody tr th {\n",
       "        vertical-align: top;\n",
       "    }\n",
       "\n",
       "    .dataframe thead th {\n",
       "        text-align: right;\n",
       "    }\n",
       "</style>\n",
       "<table border=\"1\" class=\"dataframe\">\n",
       "  <thead>\n",
       "    <tr style=\"text-align: right;\">\n",
       "      <th></th>\n",
       "      <th>Имя</th>\n",
       "      <th>Возраст</th>\n",
       "    </tr>\n",
       "  </thead>\n",
       "  <tbody>\n",
       "    <tr>\n",
       "      <th>0</th>\n",
       "      <td>Анна</td>\n",
       "      <td>23</td>\n",
       "    </tr>\n",
       "    <tr>\n",
       "      <th>1</th>\n",
       "      <td>Борис</td>\n",
       "      <td>30</td>\n",
       "    </tr>\n",
       "    <tr>\n",
       "      <th>2</th>\n",
       "      <td>Виктор</td>\n",
       "      <td>35</td>\n",
       "    </tr>\n",
       "    <tr>\n",
       "      <th>3</th>\n",
       "      <td>Галина</td>\n",
       "      <td>29</td>\n",
       "    </tr>\n",
       "  </tbody>\n",
       "</table>\n",
       "</div>"
      ],
      "text/plain": [
       "      Имя  Возраст\n",
       "0    Анна       23\n",
       "1   Борис       30\n",
       "2  Виктор       35\n",
       "3  Галина       29"
      ]
     },
     "execution_count": 12,
     "metadata": {},
     "output_type": "execute_result"
    }
   ],
   "source": [
    "data1 = {\n",
    "    'Имя': ['Анна', 'Борис'],\n",
    "    'Возраст': [23, 30]\n",
    "}\n",
    "\n",
    "data2 = {\n",
    "    'Имя': ['Виктор', 'Галина'],\n",
    "    'Возраст': [35, 29]\n",
    "}\n",
    "\n",
    "df1 = pd.DataFrame(data1)\n",
    "df2 = pd.DataFrame(data2)\n",
    "\n",
    "# merge aka SQL-JOIN не имеет смысла, так как нет ключей, по которым мы можем объединить таблички\n",
    "\n",
    "df_1_2_merged = df1.merge(df2, how='outer', on='Имя')\n",
    "df_1_2_merged\n",
    "\n",
    "df_1_2_concated = pd.concat([df1, df2], ignore_index=True)\n",
    "df_1_2_concated"
   ]
  },
  {
   "cell_type": "markdown",
   "metadata": {
    "id": "Mgbb4RhI8DIq"
   },
   "source": [
    "**Задача №6**. **Применение функций к данным:**\n",
    "  - Создайте DataFrame из словаря и используйте метод apply() для преобразования данных в колонке \"Возраст\" (например, умножьте все значения на 2)."
   ]
  },
  {
   "cell_type": "code",
   "execution_count": 14,
   "metadata": {
    "id": "bfdw4sGB8VkX"
   },
   "outputs": [
    {
     "data": {
      "text/html": [
       "<div>\n",
       "<style scoped>\n",
       "    .dataframe tbody tr th:only-of-type {\n",
       "        vertical-align: middle;\n",
       "    }\n",
       "\n",
       "    .dataframe tbody tr th {\n",
       "        vertical-align: top;\n",
       "    }\n",
       "\n",
       "    .dataframe thead th {\n",
       "        text-align: right;\n",
       "    }\n",
       "</style>\n",
       "<table border=\"1\" class=\"dataframe\">\n",
       "  <thead>\n",
       "    <tr style=\"text-align: right;\">\n",
       "      <th></th>\n",
       "      <th>Имя</th>\n",
       "      <th>Возраст</th>\n",
       "    </tr>\n",
       "  </thead>\n",
       "  <tbody>\n",
       "    <tr>\n",
       "      <th>0</th>\n",
       "      <td>Анна</td>\n",
       "      <td>46</td>\n",
       "    </tr>\n",
       "    <tr>\n",
       "      <th>1</th>\n",
       "      <td>Борис</td>\n",
       "      <td>60</td>\n",
       "    </tr>\n",
       "    <tr>\n",
       "      <th>2</th>\n",
       "      <td>Виктор</td>\n",
       "      <td>70</td>\n",
       "    </tr>\n",
       "  </tbody>\n",
       "</table>\n",
       "</div>"
      ],
      "text/plain": [
       "      Имя  Возраст\n",
       "0    Анна       46\n",
       "1   Борис       60\n",
       "2  Виктор       70"
      ]
     },
     "execution_count": 14,
     "metadata": {},
     "output_type": "execute_result"
    }
   ],
   "source": [
    "data = {\n",
    "    'Имя': ['Анна', 'Борис', 'Виктор'],\n",
    "    'Возраст': [23, 30, 35]\n",
    "}\n",
    "df = pd.DataFrame(data)\n",
    "\n",
    "df['Возраст'] = df['Возраст'].apply(lambda x: x * 2)\n",
    "df"
   ]
  },
  {
   "cell_type": "markdown",
   "metadata": {
    "id": "iRD3YL7T8ua-"
   },
   "source": [
    "**Задача №7**. **Временные ряды и данные по дате и времени:**\n",
    "  - Создайте DataFrame с временными данными, используя pd.date_range().\n",
    "  - Выполните операции ресемплирования (resample()) для агрегирования данных на основе временных интервалов."
   ]
  },
  {
   "cell_type": "code",
   "execution_count": 16,
   "metadata": {
    "id": "c-OtAlC99NzU"
   },
   "outputs": [
    {
     "data": {
      "text/html": [
       "<div>\n",
       "<style scoped>\n",
       "    .dataframe tbody tr th:only-of-type {\n",
       "        vertical-align: middle;\n",
       "    }\n",
       "\n",
       "    .dataframe tbody tr th {\n",
       "        vertical-align: top;\n",
       "    }\n",
       "\n",
       "    .dataframe thead th {\n",
       "        text-align: right;\n",
       "    }\n",
       "</style>\n",
       "<table border=\"1\" class=\"dataframe\">\n",
       "  <thead>\n",
       "    <tr style=\"text-align: right;\">\n",
       "      <th></th>\n",
       "      <th>Дата</th>\n",
       "      <th>Значение</th>\n",
       "    </tr>\n",
       "  </thead>\n",
       "  <tbody>\n",
       "    <tr>\n",
       "      <th>0</th>\n",
       "      <td>2024-01-01</td>\n",
       "      <td>100</td>\n",
       "    </tr>\n",
       "    <tr>\n",
       "      <th>1</th>\n",
       "      <td>2024-01-02</td>\n",
       "      <td>150</td>\n",
       "    </tr>\n",
       "    <tr>\n",
       "      <th>2</th>\n",
       "      <td>2024-01-03</td>\n",
       "      <td>200</td>\n",
       "    </tr>\n",
       "    <tr>\n",
       "      <th>3</th>\n",
       "      <td>2024-01-04</td>\n",
       "      <td>250</td>\n",
       "    </tr>\n",
       "    <tr>\n",
       "      <th>4</th>\n",
       "      <td>2024-01-05</td>\n",
       "      <td>300</td>\n",
       "    </tr>\n",
       "  </tbody>\n",
       "</table>\n",
       "</div>"
      ],
      "text/plain": [
       "        Дата  Значение\n",
       "0 2024-01-01       100\n",
       "1 2024-01-02       150\n",
       "2 2024-01-03       200\n",
       "3 2024-01-04       250\n",
       "4 2024-01-05       300"
      ]
     },
     "execution_count": 16,
     "metadata": {},
     "output_type": "execute_result"
    }
   ],
   "source": [
    "date_range = pd.date_range(start=pd.to_datetime(\"1/1/2024\"), \n",
    "                           end=pd.to_datetime(\"1/5/2024\"),\n",
    "                           periods=5\n",
    "                          )\n",
    "data = {\n",
    "    'Дата': date_range,\n",
    "    'Значение': [100, 150, 200, 250, 300]\n",
    "}\n",
    "\n",
    "df_time_series = pd.DataFrame(data)\n",
    "\n",
    "# Агрегирую по трем дням\n",
    "df_time_series_resampled = df_time_series.resample('3D', on='Дата').mean()\n",
    "df_time_series_resampled\n",
    "\n",
    "df_time_series"
   ]
  },
  {
   "cell_type": "markdown",
   "metadata": {
    "id": "LXN5g3Rs9c5z"
   },
   "source": [
    "**Задача №8**. **Визуализация данных с помощью Pandas**\n",
    "  - Создайте DataFrame из словаря\n",
    "  - Постройте диаграмму для вашего DataFrame используя matplotlib.pyplot."
   ]
  },
  {
   "cell_type": "code",
   "execution_count": 18,
   "metadata": {
    "id": "l-ozrlsB90Cf"
   },
   "outputs": [
    {
     "data": {
      "text/plain": [
       "Text(0.5, 1.0, 'Возраст участников')"
      ]
     },
     "execution_count": 18,
     "metadata": {},
     "output_type": "execute_result"
    },
    {
     "data": {
      "image/png": "[encoded data removed]",
      "text/plain": [
       "<Figure size 640x480 with 1 Axes>"
      ]
     },
     "metadata": {},
     "output_type": "display_data"
    }
   ],
   "source": [
    "data = {\n",
    "    'Имя': ['Анна', 'Борис', 'Виктор', 'Галина', 'Дмитрий'],\n",
    "    'Возраст': [23, 30, 35, 29, 40]\n",
    "}\n",
    "\n",
    "df = pd.DataFrame(data)\n",
    "\n",
    "# sns.barplot(data=df, x='Имя', y='Возраст', color=\"pink\", edgecolor=\"black\", alpha=0.8)\n",
    "\n",
    "plt.bar(df['Имя'], df['Возраст'], color=\"pink\", edgecolor=\"black\", alpha=0.8)\n",
    "\n",
    "plt.xlabel(\"Имя\")\n",
    "plt.ylabel(\"Возраст\")\n",
    "plt.title(\"Возраст участников\")"
   ]
  }
 ],
 "metadata": {
  "colab": {
   "provenance": []
  },
  "kernelspec": {
   "display_name": "Python 3 (ipykernel)",
   "language": "python",
   "name": "python3"
  },
  "language_info": {
   "codemirror_mode": {
    "name": "ipython",
    "version": 3
   },
   "file_extension": ".py",
   "mimetype": "text/x-python",
   "name": "python",
   "nbconvert_exporter": "python",
   "pygments_lexer": "ipython3",
   "version": "3.12.4"
  }
 },
 "nbformat": 4,
 "nbformat_minor": 4
}
