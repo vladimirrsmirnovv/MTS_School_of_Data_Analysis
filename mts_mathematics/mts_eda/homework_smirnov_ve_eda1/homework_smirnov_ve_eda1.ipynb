{
 "cells": [
  {
   "cell_type": "code",
   "execution_count": 1,
   "id": "6b984403",
   "metadata": {},
   "outputs": [
    {
     "data": {
      "application/javascript": [
       "IPython.notebook.set_autosave_interval(60000)"
      ]
     },
     "metadata": {},
     "output_type": "display_data"
    },
    {
     "name": "stdout",
     "output_type": "stream",
     "text": [
      "Autosaving every 60 seconds\n"
     ]
    }
   ],
   "source": [
    "%autosave 60"
   ]
  },
  {
   "cell_type": "markdown",
   "id": "8cef55d3",
   "metadata": {},
   "source": [
    "# Домашнее задание EDA | МТС Тета\n",
    "-----\n",
    "- Нужно провести EDA любого датасета на ваше усмотрение в специально подготовленном ipynb\n",
    "- В этом ноутбуке будут блоки под разные типы графиков\n",
    "- Нужно выбрать такой датасет, который позволит построить каждый из этих графиков корректно\n",
    "- В ноутбуке так же будет дополнительное поле для графика на ваш выбор. В нем должен быть график, который не был построен ранее в ноутбуке (другой тип графика)\n",
    "- Ноутбук должен отбегать в режиме run all, а так же сохранять все изображения шаблонным образом, как заложено в ноутбуке\n",
    "- Для каждого графика должны быть написаны выводы\n",
    "- __Вместе с ноутбуком нужно сдать сохраненные изображения (проверьте корректность их сохранения перед отправкой ДЗ)__\n",
    "- изображения должны быть в формате png или jpeg. Не сохраняйте изображения в html (так делает plotly)\n",
    "____\n",
    "\n",
    "**Критерии оценки**\n",
    "\n",
    "- Вы построили все основные графики без критических ошибок – 8 баллов\n",
    "- Вы выполнили пункт 1, а так же построили дополнительный график - 10 баллов\n",
    "- Доп. баллы выставляются за победу в tinder игре – подробности будут позже. Но чтобы в ней победить, ваш график должен оказаться самым красивым. \n",
    "- Доп. Баллы получат топ 10 человек итогового рейтинга. \n",
    "---\n",
    "- Максимум 10 баллов (и +5 дополнительных)\n",
    "- 1-4 балла: незачет\n",
    "- 5-6 баллов: 3, незачет\n",
    "- 7-8 баллов: 4, зачет\n",
    "- 9-10 баллов: 5, зачет"
   ]
  },
  {
   "cell_type": "markdown",
   "id": "309f3bec",
   "metadata": {},
   "source": [
    "## Подготовка"
   ]
  },
  {
   "cell_type": "code",
   "execution_count": null,
   "id": "c63c8fa2",
   "metadata": {},
   "outputs": [],
   "source": [
    "import os\n",
    "import matplotlib.pyplot as plt\n",
    "import seaborn as sns\n",
    "import pandas as pd\n",
    "import numpy as np\n",
    "from sklearn.datasets import load_diabetes\n",
    "import seaborn as sns"
   ]
  },
  {
   "cell_type": "code",
   "execution_count": null,
   "id": "a718aaba",
   "metadata": {},
   "outputs": [],
   "source": [
    "# подставьте ваше имя и фамилию в эту переменную как в примере, (например Максим_Шаланкин)\n",
    "image_name_prefix = 'Владимир_Смирнов'\n",
    "\n",
    "# можно поменять, а можно оставить - сюда будут сохраняться изображения\n",
    "path_to_save_images = 'C:\\\\Users\\\\smirn\\\\OneDrive\\\\Рабочий стол\\\\eda_1_jupiter_images'"
   ]
  },
  {
   "cell_type": "code",
   "execution_count": null,
   "id": "b29731b8",
   "metadata": {},
   "outputs": [],
   "source": [
    "os.makedirs(path_to_save_images, exist_ok=True)"
   ]
  },
  {
   "cell_type": "markdown",
   "id": "0c821efe-a855-43d4-9bab-38afd1c2b717",
   "metadata": {},
   "source": [
    "## Подготовка данных\n",
    "\n"
   ]
  },
  {
   "cell_type": "markdown",
   "id": "be427998-1250-4d72-8d18-7c1d67a183a1",
   "metadata": {},
   "source": [
    "### Credit Risk Analysis for extending Bank Loans\n",
    "\n",
    "[Link](https://www.kaggle.com/datasets/atulmittal199174/credit-risk-analysis-for-extending-bank-loans)\n",
    "\n",
    "Нет описания к данным, но датасет показался мне достаточно интересным. Учитывая контекст задания, придумаю собственные полные описания переменных:\n",
    "\n",
    "| Колонка    | Полное название | Описание |\n",
    "|------------|----------------|----------|\n",
    "| **age** | Age of the Customers | Возраст клиента в годах на момент подачи заявки |\n",
    "| **ed** | Education Level | Уровень образования клиента (1, 2, 3, 4, 5) |\n",
    "| **employ** | Work Experience | Количество лет трудового стажа клиента |\n",
    "| **address** | Address of the Customer | Количество лет проживания клиента по текущему адресу |\n",
    "| **income** | Yearly Income of the Customer | Годовой доход клиента (в тысячах долларов или другой валюте) |\n",
    "| **debtinc** | Debt to Income Ratio | Соотношение общей суммы долга к годовому доходу (в процентах) |\n",
    "| **creddebt** | Credit to Debt Ratio | Сумма задолженности по кредитным картам относительно общего долга |\n",
    "| **othdebt** | Other Debts | Сумма других долгов, таких как ипотека или автокредит |\n",
    "| **default** | Customer Defaulted in the Past (1 = defaulted, 0 = Never Defaulted) | Факт дефолта: 1 – клиент допускал дефолт, 0 – не допускал |\n"
   ]
  },
  {
   "cell_type": "code",
   "execution_count": null,
   "id": "3c1b9157-193f-4187-8c67-4cd90ad85ac2",
   "metadata": {},
   "outputs": [],
   "source": [
    "# Загружаю данные\n",
    "df = pd.read_csv('bankloans.csv')\n",
    "df"
   ]
  },
  {
   "cell_type": "code",
   "execution_count": null,
   "id": "6e5c1029-db04-4b67-a172-543e90afc4e3",
   "metadata": {},
   "outputs": [],
   "source": [
    "df.describe()"
   ]
  },
  {
   "cell_type": "code",
   "execution_count": null,
   "id": "6d623b80-f765-483a-9fb8-e9e6b70d068b",
   "metadata": {},
   "outputs": [],
   "source": [
    "np.quantile(df['income'], q=[0.75, 0.8, 0.85, 0.9, 0.95, 0.99, 0.995, 0.999])"
   ]
  },
  {
   "cell_type": "markdown",
   "id": "f63d107d-a45b-4d7b-a6c5-bab40388299e",
   "metadata": {},
   "source": [
    "## Мысли\n",
    "\n",
    "Интересно, что если мы смотрим на пункт дохода, можно заметить, что 75%-перцентиль находится на отметке 56.75 тыс. долл., а максимальное значение - 446 тыс. долл.\n",
    "Посмотрев внимательнее на разбивку по перцентилям, можно заметить, что даже на отметке 0.999 (99.9%) находится 324 тыс. долл. (все равно не максимум!).\n",
    "\n",
    "**Выхода тут два:**\n",
    "- Мы либо удаляем выбросы (неоднозначное решение для скоринговой задачи)\n",
    "- Или мы смотрим на робастные к выбросам метрики (можно забыть про квадратичные функционалы; можно подумать насчет комбинированных функций потерь или функционалы с логарифмами)\n",
    "\n",
    "При дальнейшем анализе обнаружил, что у нас всего лишь 1 наблюдение на отметке за 400 тыс. долл. и 1 на отметке за 300 тыс. долл. Руководствуясь собственной интуицией, мне кажется, что данных клиентов банка включать в модель будет нерационально, так как они будут вносить существенное смещение в наши оценки, предсказания. Предлагаю отфильтровать их."
   ]
  },
  {
   "cell_type": "code",
   "execution_count": null,
   "id": "fdb047c4-e98b-4737-b4a2-782328516899",
   "metadata": {},
   "outputs": [],
   "source": [
    "# import math\n",
    "# df['income_log'] = np.log(df['income'])\n",
    "df = df[df['income'] < 300]\n",
    "\n",
    "df"
   ]
  },
  {
   "cell_type": "code",
   "execution_count": null,
   "id": "657a9502-179f-4c8f-9a26-19ae60af8d0c",
   "metadata": {},
   "outputs": [],
   "source": [
    "# Настройка стиля\n",
    "sns.set_style(\"whitegrid\")  \n",
    "palette = sns.color_palette(\"pastel\", 8)\n",
    "%matplotlib inline"
   ]
  },
  {
   "cell_type": "code",
   "execution_count": null,
   "id": "e6fdf045-bea5-4fce-b28a-b546f928cf98",
   "metadata": {},
   "outputs": [],
   "source": [
    "# default_count_by_age = df.groupby(by=['age'], sort=True)['default'].sum()\n",
    "# default_count_by_employ = df.groupby(by=['employ'], sort=True)['default'].sum()"
   ]
  },
  {
   "cell_type": "markdown",
   "id": "82ab90ad",
   "metadata": {},
   "source": [
    "## (1) line plot"
   ]
  },
  {
   "cell_type": "markdown",
   "id": "4653c00a-7a95-4382-8675-5ce1364be2e8",
   "metadata": {},
   "source": [
    "Давайте посмотрим на линейный график. Рассмотрим зависимость дохода от возраста клиента - достаточно тривиальная, но крайне логичная для рассмотрения концепция."
   ]
  },
  {
   "cell_type": "code",
   "execution_count": null,
   "id": "22859b21",
   "metadata": {},
   "outputs": [],
   "source": [
    "sns.set_style(\"whitegrid\")  \n",
    "palette = sns.color_palette(\"husl\", 8)\n",
    "\n",
    "sns.lineplot(data=df, \n",
    "             x='age', \n",
    "             y='income', \n",
    "             errorbar=None,\n",
    "             # estimator=None,\n",
    "             # palette=palette, \n",
    "             color='#0078c1',\n",
    "             # hue=None,\n",
    "             marker='o',\n",
    "             markerfacecolor='#003366',\n",
    "             markersize=4.5,\n",
    "             markeredgecolor='black'\n",
    "             )\n",
    "\n",
    "# sns.histplot(x=df['age'], y=df['default'])\n",
    "\n",
    "plt.xlabel('Возраст (лет)', fontsize=12)\n",
    "plt.ylabel('Доход (тыс. $)', fontsize=12)\n",
    "plt.title('График зависимости усредненного дохода от возраста клиента', fontsize=12, fontweight='bold')\n",
    "# plt.legend(title=\"Доход\", fontsize=10, title_fontsize=12)\n",
    "plt.grid(True, linestyle='--', alpha=0.5)\n",
    "\n",
    "# plt.ylim(0, df['income'].max())\n",
    "\n",
    "plt.tight_layout()\n",
    "\n",
    "\n",
    "# этот код сохраняет картинку для отправки ДЗ\n",
    "plt.savefig(\n",
    "    os.path.join(path_to_save_images, f'{image_name_prefix}_image_1.png')\n",
    ")"
   ]
  },
  {
   "cell_type": "markdown",
   "id": "8aafc0e7",
   "metadata": {
    "execution": {
     "iopub.execute_input": "2025-02-27T09:42:02.145773Z",
     "iopub.status.busy": "2025-02-27T09:42:02.145187Z",
     "iopub.status.idle": "2025-02-27T09:42:02.149850Z",
     "shell.execute_reply": "2025-02-27T09:42:02.149153Z",
     "shell.execute_reply.started": "2025-02-27T09:42:02.145737Z"
    }
   },
   "source": [
    "### Выводы (1):\n",
    "\n",
    "Наблюдется рост в доходах клиента по мере его взросления; ближе к отметке возраста 50-55 начинает становиться заметным спад - скорее всего, связан с тем, что (потенциально, американцы) клиенты выходят на пенсию."
   ]
  },
  {
   "cell_type": "markdown",
   "id": "f8c5428a",
   "metadata": {},
   "source": [
    "## (2) (bar plot или stacked bar plot)"
   ]
  },
  {
   "cell_type": "code",
   "execution_count": null,
   "id": "d97ae13c-7cf4-415d-b7a6-b7bf74518df3",
   "metadata": {},
   "outputs": [],
   "source": [
    "education_labels = {\n",
    "    1: \"Начальное\",\n",
    "    2: \"Среднее\",\n",
    "    3: \"Среднее спец.\",\n",
    "    4: \"Высшее\",\n",
    "    5: \"Аспирантура\"\n",
    "}\n",
    "df[\"ed_label\"] = df[\"ed\"].map(education_labels)"
   ]
  },
  {
   "cell_type": "code",
   "execution_count": null,
   "id": "c35d7f88",
   "metadata": {},
   "outputs": [],
   "source": [
    "plt.figure(figsize=(8, 6))\n",
    "\n",
    "sns.histplot(data=df, \n",
    "             x='ed_label',\n",
    "             multiple='dodge',\n",
    "             hue='default',\n",
    "             stat=\"percent\",\n",
    "             palette=['#00833f', '#c20430'],\n",
    "             discrete=True,\n",
    "             shrink=0.7,\n",
    "             alpha=1,\n",
    "             edgecolor='black'\n",
    "            )\n",
    "\n",
    "plt.xlabel('Степень образования клиента', fontsize=12)\n",
    "plt.ylabel('Процент дефолтов в категории', fontsize=12)\n",
    "plt.title('Гистограмма дефолтов в различных категориях образования', fontsize=14, fontweight='bold')\n",
    "plt.legend(title=\"Статус по дефолту\", labels=['Дефолт', 'Нет дефолта'], fontsize=10, title_fontsize=12)\n",
    "plt.grid(True, linestyle='--', alpha=0.5)\n",
    "\n",
    "plt.tight_layout()\n",
    "\n",
    "# этот код сохраняет картинку для отправки ДЗ\n",
    "plt.savefig(\n",
    "    os.path.join(path_to_save_images, f'{image_name_prefix}_image_2.png')\n",
    ")"
   ]
  },
  {
   "cell_type": "markdown",
   "id": "02ac607b",
   "metadata": {
    "execution": {
     "iopub.execute_input": "2025-02-27T09:42:02.145773Z",
     "iopub.status.busy": "2025-02-27T09:42:02.145187Z",
     "iopub.status.idle": "2025-02-27T09:42:02.149850Z",
     "shell.execute_reply": "2025-02-27T09:42:02.149153Z",
     "shell.execute_reply.started": "2025-02-27T09:42:02.145737Z"
    }
   },
   "source": [
    "### Выводы (2): \n",
    "Наибольший процент дефолтов среди групп клиентов, имеющих лишь начальное или лишь среднее образование. Наименьший - среди клиентов с высшим образованием и окончивших аспирантуру (для простоты восприятия назовем её так)"
   ]
  },
  {
   "cell_type": "markdown",
   "id": "33e86855",
   "metadata": {},
   "source": [
    "##  (3) (hist plot или pair plot или kde plot)"
   ]
  },
  {
   "cell_type": "code",
   "execution_count": null,
   "id": "47d6acc3",
   "metadata": {},
   "outputs": [],
   "source": [
    "plt.figure(figsize=(8, 6))\n",
    "\n",
    "sns.histplot(data=df, \n",
    "             x='income',\n",
    "             kde=True, \n",
    "             edgecolor=\"black\", \n",
    "             alpha=1,\n",
    "             shrink=1,\n",
    "             stat=\"density\",\n",
    "             color='#00833f'\n",
    "            )\n",
    "\n",
    "sns.kdeplot(data=df, x='income', color=\"#c20430\", linewidth=2)\n",
    "\n",
    "plt.axvline(df['income'].median(), color='orange', linestyle='--', label='Медиана')\n",
    "plt.axvline(df['income'].mean(), color='blue', linestyle=':', label='Среднее')\n",
    "\n",
    "plt.xlabel('Доход (тыс. $)', fontsize=12)\n",
    "plt.ylabel('Плотность', fontsize=12)\n",
    "plt.title('Плотность распределения дохода клиентов банка', fontsize=14, fontweight='bold')\n",
    "plt.grid(True, linestyle='--', alpha=0.7, linewidth=0.8)\n",
    "plt.legend(title=\"Статистика\", fontsize=10, title_fontsize=12)\n",
    "plt.tight_layout()\n",
    "\n",
    "# этот код сохраняет картинку для отправки ДЗ\n",
    "plt.savefig(\n",
    "    os.path.join(path_to_save_images, f'{image_name_prefix}_image_3.png')\n",
    ")"
   ]
  },
  {
   "cell_type": "markdown",
   "id": "4aa0cbb0",
   "metadata": {
    "execution": {
     "iopub.execute_input": "2025-02-27T09:42:02.145773Z",
     "iopub.status.busy": "2025-02-27T09:42:02.145187Z",
     "iopub.status.idle": "2025-02-27T09:42:02.149850Z",
     "shell.execute_reply": "2025-02-27T09:42:02.149153Z",
     "shell.execute_reply.started": "2025-02-27T09:42:02.145737Z"
    }
   },
   "source": [
    "### Выводы (3): \n",
    "Клиентов с доходами до 50 тыс. долл. значительно больше в выборке, чем клиентов более обеспеченных."
   ]
  },
  {
   "cell_type": "markdown",
   "id": "ee3f2ac9",
   "metadata": {},
   "source": [
    "##  (4) heatmap plot"
   ]
  },
  {
   "cell_type": "code",
   "execution_count": null,
   "id": "4cb13899-12c2-43b7-9061-9dd6873d2baf",
   "metadata": {},
   "outputs": [],
   "source": [
    "df = df.drop('ed_label', axis=1)"
   ]
  },
  {
   "cell_type": "code",
   "execution_count": null,
   "id": "6362229a",
   "metadata": {},
   "outputs": [],
   "source": [
    "corr_matrix = df.corr()\n",
    "sns.set(style=\"white\")\n",
    "\n",
    "plt.figure(figsize=(10, 8))\n",
    "\n",
    "mask = np.triu(np.ones_like(corr_matrix, dtype=bool))\n",
    "\n",
    "sns.heatmap(corr_matrix, \n",
    "            annot=True, \n",
    "            cmap='magma_r',\n",
    "            # fmt='.2f',\n",
    "            linewidths=0.3,\n",
    "            mask=mask, \n",
    "            vmin=-1, \n",
    "            vmax=1, \n",
    "            linecolor='white',\n",
    "            square=True)\n",
    "plt.title('Корреляционная матрица', fontsize=16, fontweight='bold')\n",
    "\n",
    "# Подпись не переносится на image при сохранении, так как частично не влезает во фрейм... Как идею на будущее оставил.\n",
    "\n",
    "# plt.figtext(0.15, -0.005, \"Светлый - сильная отрицательная корреляция, Темный - сильная положительная\", \n",
    "#             fontsize=12, \n",
    "#             fontstyle='italic', \n",
    "#             fontweight='bold')\n",
    "\n",
    "plt.tight_layout()\n",
    "\n",
    "# этот код сохраняет картинку для отправки ДЗ\n",
    "plt.savefig(\n",
    "    os.path.join(path_to_save_images, f'{image_name_prefix}_image_4.png')\n",
    ")"
   ]
  },
  {
   "cell_type": "markdown",
   "id": "3a8adc9f",
   "metadata": {
    "execution": {
     "iopub.execute_input": "2025-02-27T09:42:02.145773Z",
     "iopub.status.busy": "2025-02-27T09:42:02.145187Z",
     "iopub.status.idle": "2025-02-27T09:42:02.149850Z",
     "shell.execute_reply": "2025-02-27T09:42:02.149153Z",
     "shell.execute_reply.started": "2025-02-27T09:42:02.145737Z"
    }
   },
   "source": [
    "### Выводы (4):\n",
    "Ожидаемо, признаки с наиболее высоким коэффициентом корреляции - доход / количество лет стажа / возраст; скоррелированы разные виды задолженностей (некоторые являются производными друг от друга). Количество лет проживания по текущему адресу и возраст - интересная, бесспорно, корреляция, но в целом, логика за этим действительно присутствует."
   ]
  },
  {
   "cell_type": "markdown",
   "id": "77e6b68f",
   "metadata": {},
   "source": [
    "##  (5) plot  на ваш выбор"
   ]
  },
  {
   "cell_type": "code",
   "execution_count": null,
   "id": "be33b6b2",
   "metadata": {},
   "outputs": [],
   "source": [
    "# plt.figure(figsize=(6, 5))\n",
    "plt.figure(figsize=(8, 6))\n",
    "\n",
    "\n",
    "sns.set_style(\"whitegrid\")\n",
    "palette = sns.color_palette(\"coolwarm\", as_cmap=True)\n",
    "\n",
    "\n",
    "sns.scatterplot(data=df,\n",
    "                x='employ',\n",
    "                y='income',\n",
    "                hue='income',\n",
    "                palette=palette,\n",
    "                size=\"income\",\n",
    "                sizes=(20, 100), \n",
    "                s=80,  \n",
    "                alpha=0.5, \n",
    "                edgecolor=\"black\",\n",
    "                linewidth=0.5\n",
    "                # marker='o'\n",
    ")\n",
    "\n",
    "sns.regplot(data=df, \n",
    "            x='employ', \n",
    "            y='income', \n",
    "            scatter=False, \n",
    "            # order=2,\n",
    "            lowess=True,\n",
    "            # lowess=True, \n",
    "            color='red', \n",
    "            line_kws={'linewidth': 2, 'linestyle': '--'})\n",
    "\n",
    "# sns.stripplot(data=df, x='employ', y='income', jitter=True, alpha=0.3)\n",
    "\n",
    "key_points = [5, 10, 15, 20, 25, 30]\n",
    "for iter in key_points:\n",
    "    median_income = df[df['employ'] == iter]['income'].median()\n",
    "    plt.text(iter, median_income + 5, f\"{int(median_income)} тыс. $\", fontsize=10, ha='center', color='black', fontweight='bold')\n",
    "# plt.axvline(x, linestyle='--', color='gray', alpha=0.5)\n",
    "\n",
    "plt.title('Доход клиента в зависимости от лет стажа', fontsize=14, fontweight='bold')\n",
    "plt.xlabel('Стаж (лет)', fontsize=14)\n",
    "plt.ylabel('Доход (тыс. $)', fontsize=14)\n",
    "# plt.xticks(fontsize=10)\n",
    "# plt.yticks(fontsize=10)\n",
    "\n",
    "\n",
    "plt.grid(True, linestyle='-.', linewidth=0.7, alpha=0.7) \n",
    "# plt.grid(True, which='both', linestyle='--', alpha=0.5)\n",
    "plt.legend(title=\"Доход\", fontsize=10, title_fontsize=12, frameon=True, edgecolor=\"black\", facecolor=\"white\")\n",
    "\n",
    "plt.tight_layout()\n",
    "\n",
    "# этот код сохраняет картинку для отправки ДЗ\n",
    "plt.savefig(\n",
    "    os.path.join(path_to_save_images, f'{image_name_prefix}_image_5.png')\n",
    ")"
   ]
  },
  {
   "cell_type": "markdown",
   "id": "77708355",
   "metadata": {
    "execution": {
     "iopub.execute_input": "2025-02-27T09:42:02.145773Z",
     "iopub.status.busy": "2025-02-27T09:42:02.145187Z",
     "iopub.status.idle": "2025-02-27T09:42:02.149850Z",
     "shell.execute_reply": "2025-02-27T09:42:02.149153Z",
     "shell.execute_reply.started": "2025-02-27T09:42:02.145737Z"
    }
   },
   "source": [
    "### Выводы (5):\n",
    "\n",
    "Заметна окололинейная (скорее, нелинейная) зависимость между стажем клиента в годах и его доходом. Чем более опытный работник клиент - тем больше он имеет заработок. \n",
    "Моделируя аппроксимирующую линюю, между сглаживанием и 2-ой степенью полиномиальности, выбрал сглаживание."
   ]
  },
  {
   "cell_type": "markdown",
   "id": "f9f107a8",
   "metadata": {},
   "source": [
    "## Итоговый вывод по всему датасету (по всему EDA)\n",
    "\n"
   ]
  },
  {
   "cell_type": "markdown",
   "id": "412b36d0-c5c6-4d27-9298-f198a908dff6",
   "metadata": {},
   "source": [
    "- В целом, значимых проблем в будущем при построении скоринговой модели не обнаружено;\n",
    "- Можно отметить, что на данный момент у нас крайне мало признаков для моделирования;\n",
    "- Было бы неплохо получить скоринговые метрики и добавить их в модель в будущем (ECL/PD/EAD/LGD);\n",
    "- Особый интерес представляют клиенты с крайне высоким уровнем дохода. Необходимо выявить некую эвристику для работы с данной группой клиентов банка, так как использование их в модели напрямую будет вносить существенное смещение в наши итоговые оценки."
   ]
  }
 ],
 "metadata": {
  "kernelspec": {
   "display_name": "Python 3 (ipykernel)",
   "language": "python",
   "name": "python3"
  },
  "language_info": {
   "codemirror_mode": {
    "name": "ipython",
    "version": 3
   },
   "file_extension": ".py",
   "mimetype": "text/x-python",
   "name": "python",
   "nbconvert_exporter": "python",
   "pygments_lexer": "ipython3",
   "version": "3.12.4"
  }
 },
 "nbformat": 4,
 "nbformat_minor": 5
}
