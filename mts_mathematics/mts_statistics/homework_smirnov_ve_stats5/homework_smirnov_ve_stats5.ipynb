{
 "cells": [
  {
   "cell_type": "markdown",
   "id": "cab21699-54df-4662-a70f-e231ba4b67cf",
   "metadata": {},
   "source": [
    "# Математика - Домашнее задание 7\n",
    "\n",
    "**Дедлайн:** 23:59, 17 января\n",
    "\n",
    "**Задание:**\n",
    "Для датасета из прошлого домашнего задания необходимо:\n",
    "\n",
    "1. Сформировать двухвыборочные гипотезы касательно медиан и распределений для дискретного и непрерывного случая. Если дискретного показателя нет - создайте его дополнительно. Итого 4 гипотезы (4 пункта)\n",
    "2. Каждую гипотезу проверить релевантным тестом и обосновать, почему выбрали именно его. 5-м пунктом будет проверка результатов с бутстрапом\n",
    "3. Сравнить результаты из 4 пунктов с результатами бутстрапа и обосновать различия, если они есть\n",
    "4. Определить какой подход мощнее в конкретном случае и почему\n",
    "\n",
    "**Для получения зачета необходимо:**\n",
    "1. **Зачет на 4:** выполнены 4 пункта без сравнения с бутстрапом\n",
    "2. **Зачет на 5:** выполнены все пункты с небольшими недочетами"
   ]
  },
  {
   "cell_type": "markdown",
   "id": "de6a03e6-9bd1-44cd-affc-6776531f7c7e",
   "metadata": {},
   "source": [
    "#### Библиотеки"
   ]
  },
  {
   "cell_type": "code",
   "execution_count": 4,
   "id": "12ef3eeb-5f69-4d12-b5de-2716cc90df3a",
   "metadata": {},
   "outputs": [],
   "source": [
    "import numpy as np\n",
    "import pandas as pd\n",
    "import math\n",
    "import matplotlib.pyplot as plt\n",
    "import seaborn as sns\n",
    "import scipy\n",
    "from scipy.stats import ttest_ind, mannwhitneyu, norm, shapiro, normaltest, ttest_ind_from_stats, kstest, anderson, normaltest, chisquare, median_test\n",
    "from itertools import combinations\n",
    "import scipy.stats as sts\n",
    "from scipy import stats\n",
    "\n",
    "# Настройка стиля\n",
    "sns.set_style(\"whitegrid\")  \n",
    "palette = sns.color_palette(\"husl\", 8)\n",
    "%matplotlib inline"
   ]
  },
  {
   "cell_type": "markdown",
   "id": "a16088c3-4af3-4885-bb4f-fd4183742814",
   "metadata": {},
   "source": [
    "## Подготовка данных"
   ]
  },
  {
   "cell_type": "markdown",
   "id": "7643a1ca-d812-4872-9caa-9f071854cc91",
   "metadata": {},
   "source": [
    "#### **Predict Online Course Engagement Dataset**\n",
    "**Understanding User Behavior and Course Completion**\n",
    "\n",
    "\n",
    "\n",
    "[Link](https://www.kaggle.com/datasets/rabieelkharoua/predict-online-course-engagement-dataset)"
   ]
  },
  {
   "cell_type": "code",
   "execution_count": 775,
   "id": "d3bff6a8-83fb-420d-a058-24cf6a1744f5",
   "metadata": {},
   "outputs": [],
   "source": [
    "# Загружаю данные\n",
    "df = pd.read_csv('online_course_engagement_data.csv')\n",
    "df.head(10)\n",
    "\n",
    "# Удалю переменные, на которые не хочу смотреть\n",
    "\n",
    "df = df.drop(['CourseCompletion', 'DeviceType'], axis=1)"
   ]
  },
  {
   "cell_type": "markdown",
   "id": "1bd48ca7-8d47-44ec-9d0e-2edabf9c80cf",
   "metadata": {},
   "source": [
    "#### Новые метрики"
   ]
  },
  {
   "cell_type": "code",
   "execution_count": 777,
   "id": "7ce5533c-2e67-4dcd-9515-d629231896ef",
   "metadata": {},
   "outputs": [],
   "source": [
    "# Average Time Spent Per Video\n",
    "# TimeSpentOnCourse/NumberOfVideosWatched\n",
    "\n",
    "df['AverageTimeSpentPerVideo'] = np.where(\n",
    "    df['NumberOfVideosWatched'] > 0,\n",
    "    df['TimeSpentOnCourse'] / df['NumberOfVideosWatched'],\n",
    "    0\n",
    ")\n",
    "# Average Quiz Score\n",
    "# QuizScores/NumberOfQuizzesTaken\n",
    "\n",
    "df['AverageQuizScore'] = np.where(\n",
    "    df['NumberOfQuizzesTaken'] > 0,\n",
    "    df['QuizScores'] / df['NumberOfQuizzesTaken'],\n",
    "    0\n",
    ")"
   ]
  },
  {
   "cell_type": "code",
   "execution_count": 778,
   "id": "1e0faa86-12f4-4f79-af5d-8e3c095ac6ca",
   "metadata": {},
   "outputs": [
    {
     "data": {
      "text/html": [
       "<div>\n",
       "<style scoped>\n",
       "    .dataframe tbody tr th:only-of-type {\n",
       "        vertical-align: middle;\n",
       "    }\n",
       "\n",
       "    .dataframe tbody tr th {\n",
       "        vertical-align: top;\n",
       "    }\n",
       "\n",
       "    .dataframe thead th {\n",
       "        text-align: right;\n",
       "    }\n",
       "</style>\n",
       "<table border=\"1\" class=\"dataframe\">\n",
       "  <thead>\n",
       "    <tr style=\"text-align: right;\">\n",
       "      <th></th>\n",
       "      <th>UserID</th>\n",
       "      <th>CourseCategory</th>\n",
       "      <th>TimeSpentOnCourse</th>\n",
       "      <th>CompletionRate</th>\n",
       "      <th>AverageTimeSpentPerVideo</th>\n",
       "      <th>AverageQuizScore</th>\n",
       "    </tr>\n",
       "  </thead>\n",
       "  <tbody>\n",
       "    <tr>\n",
       "      <th>0</th>\n",
       "      <td>5618</td>\n",
       "      <td>Health</td>\n",
       "      <td>29.979719</td>\n",
       "      <td>20.860773</td>\n",
       "      <td>1.763513</td>\n",
       "      <td>16.788552</td>\n",
       "    </tr>\n",
       "    <tr>\n",
       "      <th>1</th>\n",
       "      <td>4326</td>\n",
       "      <td>Arts</td>\n",
       "      <td>27.802640</td>\n",
       "      <td>65.632415</td>\n",
       "      <td>27.802640</td>\n",
       "      <td>12.523194</td>\n",
       "    </tr>\n",
       "    <tr>\n",
       "      <th>2</th>\n",
       "      <td>5849</td>\n",
       "      <td>Arts</td>\n",
       "      <td>86.820485</td>\n",
       "      <td>63.812007</td>\n",
       "      <td>6.201463</td>\n",
       "      <td>39.229481</td>\n",
       "    </tr>\n",
       "    <tr>\n",
       "      <th>3</th>\n",
       "      <td>4992</td>\n",
       "      <td>Science</td>\n",
       "      <td>35.038427</td>\n",
       "      <td>95.433162</td>\n",
       "      <td>2.061084</td>\n",
       "      <td>5.919885</td>\n",
       "    </tr>\n",
       "    <tr>\n",
       "      <th>4</th>\n",
       "      <td>3866</td>\n",
       "      <td>Programming</td>\n",
       "      <td>92.490647</td>\n",
       "      <td>18.102478</td>\n",
       "      <td>5.780665</td>\n",
       "      <td>0.000000</td>\n",
       "    </tr>\n",
       "    <tr>\n",
       "      <th>...</th>\n",
       "      <td>...</td>\n",
       "      <td>...</td>\n",
       "      <td>...</td>\n",
       "      <td>...</td>\n",
       "      <td>...</td>\n",
       "      <td>...</td>\n",
       "    </tr>\n",
       "    <tr>\n",
       "      <th>8995</th>\n",
       "      <td>8757</td>\n",
       "      <td>Health</td>\n",
       "      <td>37.445225</td>\n",
       "      <td>32.990704</td>\n",
       "      <td>2.674659</td>\n",
       "      <td>13.617340</td>\n",
       "    </tr>\n",
       "    <tr>\n",
       "      <th>8996</th>\n",
       "      <td>894</td>\n",
       "      <td>Science</td>\n",
       "      <td>48.631443</td>\n",
       "      <td>0.254625</td>\n",
       "      <td>6.947349</td>\n",
       "      <td>8.487608</td>\n",
       "    </tr>\n",
       "    <tr>\n",
       "      <th>8997</th>\n",
       "      <td>6323</td>\n",
       "      <td>Health</td>\n",
       "      <td>38.212512</td>\n",
       "      <td>70.188159</td>\n",
       "      <td>12.737504</td>\n",
       "      <td>23.169432</td>\n",
       "    </tr>\n",
       "    <tr>\n",
       "      <th>8998</th>\n",
       "      <td>3652</td>\n",
       "      <td>Health</td>\n",
       "      <td>70.048665</td>\n",
       "      <td>72.975225</td>\n",
       "      <td>5.388359</td>\n",
       "      <td>7.965518</td>\n",
       "    </tr>\n",
       "    <tr>\n",
       "      <th>8999</th>\n",
       "      <td>5595</td>\n",
       "      <td>Health</td>\n",
       "      <td>93.589781</td>\n",
       "      <td>11.299071</td>\n",
       "      <td>13.369969</td>\n",
       "      <td>11.254909</td>\n",
       "    </tr>\n",
       "  </tbody>\n",
       "</table>\n",
       "<p>7246 rows × 6 columns</p>\n",
       "</div>"
      ],
      "text/plain": [
       "      UserID CourseCategory  TimeSpentOnCourse  CompletionRate  \\\n",
       "0       5618         Health          29.979719       20.860773   \n",
       "1       4326           Arts          27.802640       65.632415   \n",
       "2       5849           Arts          86.820485       63.812007   \n",
       "3       4992        Science          35.038427       95.433162   \n",
       "4       3866    Programming          92.490647       18.102478   \n",
       "...      ...            ...                ...             ...   \n",
       "8995    8757         Health          37.445225       32.990704   \n",
       "8996     894        Science          48.631443        0.254625   \n",
       "8997    6323         Health          38.212512       70.188159   \n",
       "8998    3652         Health          70.048665       72.975225   \n",
       "8999    5595         Health          93.589781       11.299071   \n",
       "\n",
       "      AverageTimeSpentPerVideo  AverageQuizScore  \n",
       "0                     1.763513         16.788552  \n",
       "1                    27.802640         12.523194  \n",
       "2                     6.201463         39.229481  \n",
       "3                     2.061084          5.919885  \n",
       "4                     5.780665          0.000000  \n",
       "...                        ...               ...  \n",
       "8995                  2.674659         13.617340  \n",
       "8996                  6.947349          8.487608  \n",
       "8997                 12.737504         23.169432  \n",
       "8998                  5.388359          7.965518  \n",
       "8999                 13.369969         11.254909  \n",
       "\n",
       "[7246 rows x 6 columns]"
      ]
     },
     "execution_count": 778,
     "metadata": {},
     "output_type": "execute_result"
    }
   ],
   "source": [
    "# Рассчитываем AverageTimeSpentPerVideo и AverageQuizScore\n",
    "\n",
    "df = df[(df['CompletionRate'] != 0)]\n",
    "\n",
    "# И удалю дубликаты по id и по курсу - точно один и тот же пользователь\n",
    "df= df.drop_duplicates(subset=['UserID', 'CourseCategory'], keep=False)\n",
    "\n",
    "# Удалю переменные, на которые не хочу смотреть\n",
    "\n",
    "df = df.drop(['NumberOfVideosWatched', 'NumberOfQuizzesTaken', 'QuizScores', ], axis=1)\n",
    "df"
   ]
  },
  {
   "cell_type": "markdown",
   "id": "48e51657-3ce4-4ea5-81c8-3d310f2b2bb3",
   "metadata": {},
   "source": [
    "#### Создам дискретный показатель. Пусть это будет показатель, характеризующий оценку пользователем курса, который он проходит, по шкале от 1 до 10."
   ]
  },
  {
   "cell_type": "code",
   "execution_count": 780,
   "id": "219b10a3-4f94-4d9a-8d18-0a2da4d7e286",
   "metadata": {},
   "outputs": [
    {
     "data": {
      "text/html": [
       "<div>\n",
       "<style scoped>\n",
       "    .dataframe tbody tr th:only-of-type {\n",
       "        vertical-align: middle;\n",
       "    }\n",
       "\n",
       "    .dataframe tbody tr th {\n",
       "        vertical-align: top;\n",
       "    }\n",
       "\n",
       "    .dataframe thead th {\n",
       "        text-align: right;\n",
       "    }\n",
       "</style>\n",
       "<table border=\"1\" class=\"dataframe\">\n",
       "  <thead>\n",
       "    <tr style=\"text-align: right;\">\n",
       "      <th></th>\n",
       "      <th>UserID</th>\n",
       "      <th>CourseCategory</th>\n",
       "      <th>TimeSpentOnCourse</th>\n",
       "      <th>CompletionRate</th>\n",
       "      <th>AverageTimeSpentPerVideo</th>\n",
       "      <th>AverageQuizScore</th>\n",
       "      <th>UserRating</th>\n",
       "    </tr>\n",
       "  </thead>\n",
       "  <tbody>\n",
       "    <tr>\n",
       "      <th>0</th>\n",
       "      <td>5618</td>\n",
       "      <td>Health</td>\n",
       "      <td>29.979719</td>\n",
       "      <td>20.860773</td>\n",
       "      <td>1.763513</td>\n",
       "      <td>16.788552</td>\n",
       "      <td>7</td>\n",
       "    </tr>\n",
       "    <tr>\n",
       "      <th>1</th>\n",
       "      <td>4326</td>\n",
       "      <td>Arts</td>\n",
       "      <td>27.802640</td>\n",
       "      <td>65.632415</td>\n",
       "      <td>27.802640</td>\n",
       "      <td>12.523194</td>\n",
       "      <td>4</td>\n",
       "    </tr>\n",
       "    <tr>\n",
       "      <th>2</th>\n",
       "      <td>5849</td>\n",
       "      <td>Arts</td>\n",
       "      <td>86.820485</td>\n",
       "      <td>63.812007</td>\n",
       "      <td>6.201463</td>\n",
       "      <td>39.229481</td>\n",
       "      <td>8</td>\n",
       "    </tr>\n",
       "    <tr>\n",
       "      <th>3</th>\n",
       "      <td>4992</td>\n",
       "      <td>Science</td>\n",
       "      <td>35.038427</td>\n",
       "      <td>95.433162</td>\n",
       "      <td>2.061084</td>\n",
       "      <td>5.919885</td>\n",
       "      <td>5</td>\n",
       "    </tr>\n",
       "    <tr>\n",
       "      <th>4</th>\n",
       "      <td>3866</td>\n",
       "      <td>Programming</td>\n",
       "      <td>92.490647</td>\n",
       "      <td>18.102478</td>\n",
       "      <td>5.780665</td>\n",
       "      <td>0.000000</td>\n",
       "      <td>7</td>\n",
       "    </tr>\n",
       "    <tr>\n",
       "      <th>...</th>\n",
       "      <td>...</td>\n",
       "      <td>...</td>\n",
       "      <td>...</td>\n",
       "      <td>...</td>\n",
       "      <td>...</td>\n",
       "      <td>...</td>\n",
       "      <td>...</td>\n",
       "    </tr>\n",
       "    <tr>\n",
       "      <th>8995</th>\n",
       "      <td>8757</td>\n",
       "      <td>Health</td>\n",
       "      <td>37.445225</td>\n",
       "      <td>32.990704</td>\n",
       "      <td>2.674659</td>\n",
       "      <td>13.617340</td>\n",
       "      <td>5</td>\n",
       "    </tr>\n",
       "    <tr>\n",
       "      <th>8996</th>\n",
       "      <td>894</td>\n",
       "      <td>Science</td>\n",
       "      <td>48.631443</td>\n",
       "      <td>0.254625</td>\n",
       "      <td>6.947349</td>\n",
       "      <td>8.487608</td>\n",
       "      <td>10</td>\n",
       "    </tr>\n",
       "    <tr>\n",
       "      <th>8997</th>\n",
       "      <td>6323</td>\n",
       "      <td>Health</td>\n",
       "      <td>38.212512</td>\n",
       "      <td>70.188159</td>\n",
       "      <td>12.737504</td>\n",
       "      <td>23.169432</td>\n",
       "      <td>9</td>\n",
       "    </tr>\n",
       "    <tr>\n",
       "      <th>8998</th>\n",
       "      <td>3652</td>\n",
       "      <td>Health</td>\n",
       "      <td>70.048665</td>\n",
       "      <td>72.975225</td>\n",
       "      <td>5.388359</td>\n",
       "      <td>7.965518</td>\n",
       "      <td>1</td>\n",
       "    </tr>\n",
       "    <tr>\n",
       "      <th>8999</th>\n",
       "      <td>5595</td>\n",
       "      <td>Health</td>\n",
       "      <td>93.589781</td>\n",
       "      <td>11.299071</td>\n",
       "      <td>13.369969</td>\n",
       "      <td>11.254909</td>\n",
       "      <td>1</td>\n",
       "    </tr>\n",
       "  </tbody>\n",
       "</table>\n",
       "<p>7246 rows × 7 columns</p>\n",
       "</div>"
      ],
      "text/plain": [
       "      UserID CourseCategory  TimeSpentOnCourse  CompletionRate  \\\n",
       "0       5618         Health          29.979719       20.860773   \n",
       "1       4326           Arts          27.802640       65.632415   \n",
       "2       5849           Arts          86.820485       63.812007   \n",
       "3       4992        Science          35.038427       95.433162   \n",
       "4       3866    Programming          92.490647       18.102478   \n",
       "...      ...            ...                ...             ...   \n",
       "8995    8757         Health          37.445225       32.990704   \n",
       "8996     894        Science          48.631443        0.254625   \n",
       "8997    6323         Health          38.212512       70.188159   \n",
       "8998    3652         Health          70.048665       72.975225   \n",
       "8999    5595         Health          93.589781       11.299071   \n",
       "\n",
       "      AverageTimeSpentPerVideo  AverageQuizScore  UserRating  \n",
       "0                     1.763513         16.788552           7  \n",
       "1                    27.802640         12.523194           4  \n",
       "2                     6.201463         39.229481           8  \n",
       "3                     2.061084          5.919885           5  \n",
       "4                     5.780665          0.000000           7  \n",
       "...                        ...               ...         ...  \n",
       "8995                  2.674659         13.617340           5  \n",
       "8996                  6.947349          8.487608          10  \n",
       "8997                 12.737504         23.169432           9  \n",
       "8998                  5.388359          7.965518           1  \n",
       "8999                 13.369969         11.254909           1  \n",
       "\n",
       "[7246 rows x 7 columns]"
      ]
     },
     "execution_count": 780,
     "metadata": {},
     "output_type": "execute_result"
    }
   ],
   "source": [
    "np.random.seed(42)\n",
    "df[\"UserRating\"] = np.random.randint(1, 11, size=len(df))\n",
    "df"
   ]
  },
  {
   "cell_type": "markdown",
   "id": "8ba07a44-f5b1-4935-97aa-a1d2b7ed29ac",
   "metadata": {},
   "source": [
    "Разделим аудиторию на сегменты по категории курса. Напомню: 'Health', 'Arts', 'Science', 'Programming', 'Business'.\n",
    "**Данные итак агрегированные, нет смысла в группировке - id повторяются только для одинаковых id при разных CourseCategory, то есть, если человек проходил, например, сразу два курса.**"
   ]
  },
  {
   "cell_type": "code",
   "execution_count": 782,
   "id": "76fdb675-f76c-4197-b542-c7ae19282e36",
   "metadata": {},
   "outputs": [],
   "source": [
    "business_sample = df.query('CourseCategory == \"Business\"')\n",
    "\n",
    "health_sample = df.query('CourseCategory == \"Health\"')\n",
    "\n",
    "arts_sample = df.query('CourseCategory == \"Arts\"')\n",
    "\n",
    "science_sample = df.query('CourseCategory == \"Science\"')\n",
    "\n",
    "programming_sample = df.query('CourseCategory == \"Programming\"')"
   ]
  },
  {
   "cell_type": "markdown",
   "id": "356dcb4f-7936-4ce7-a3e7-2a5d9a752647",
   "metadata": {},
   "source": [
    "## 1. Сформировать двухвыборочные гипотезы касательно медиан и распределений для дискретного и непрерывного случая. Если дискретного показателя нет - создайте его дополнительно. Итого 4 гипотезы (4 пункта)"
   ]
  },
  {
   "cell_type": "markdown",
   "id": "5059b637-37cc-47bc-9baf-8c3ddc0decfc",
   "metadata": {},
   "source": [
    "#### Выборки являются несвязанными \n",
    "\n",
    "##### (но лишь частично связанными - так как один и тот же пользователь может встречаться сразу в нескольких категориях курсов (можно аналитически в этом убедиться, посмотрев дубли пользователей и какой категории они соответствуют))."
   ]
  },
  {
   "cell_type": "markdown",
   "id": "4abbea44-6446-4d13-94c3-448be7f0f51b",
   "metadata": {},
   "source": [
    "#### Предварительно давайте убедимся в соответствии наших данных нормальному распределению, а также соответствию выборочных средних нормальному распределению."
   ]
  },
  {
   "cell_type": "code",
   "execution_count": 786,
   "id": "6e683bef-c6bc-4c8c-9326-aec81057fcc1",
   "metadata": {},
   "outputs": [
    {
     "name": "stdout",
     "output_type": "stream",
     "text": [
      "TimeSpentOnCourse: Данные не распределены нормально (p = 0.00000)\n",
      "CompletionRate: Данные не распределены нормально (p = 0.00000)\n",
      "AverageTimeSpentPerVideo: Данные не распределены нормально (p = 0.00000)\n",
      "AverageQuizScore: Данные не распределены нормально (p = 0.00000)\n",
      "Средние значения TimeSpentOnCourse распределены нормально (p = 0.99262)\n",
      "Средние значения CompletionRate распределены нормально (p = 0.80160)\n",
      "Средние значения AverageTimeSpentPerVideo распределены нормально (p = 0.24710)\n",
      "Средние значения AverageQuizScore распределены нормально (p = 0.19750)\n"
     ]
    },
    {
     "name": "stderr",
     "output_type": "stream",
     "text": [
      "D:\\Anaconda\\Lib\\site-packages\\scipy\\stats\\_axis_nan_policy.py:573: UserWarning: scipy.stats.shapiro: For N > 5000, computed p-value may not be accurate. Current N is 7246.\n",
      "  res = hypotest_fun_out(*samples, **kwds)\n"
     ]
    }
   ],
   "source": [
    "def check_normality(df, column_name):\n",
    "    values = df[column_name].dropna().values\n",
    "    stat, p = shapiro(values)\n",
    "    if p >= 0.05:\n",
    "        print(f\"{column_name}: Данные распределены нормально (p = {p:.5f})\")\n",
    "    else:\n",
    "        print(f\"{column_name}: Данные не распределены нормально (p = {p:.5f})\")\n",
    "\n",
    "quantitative_columns = [\n",
    "    \"TimeSpentOnCourse\", \"CompletionRate\", \"AverageTimeSpentPerVideo\",\n",
    "    \"AverageQuizScore\"\n",
    "]\n",
    "\n",
    "# Применяем проверку на нормальность для каждого столбца\n",
    "for col in quantitative_columns:\n",
    "    check_normality(df, col)\n",
    "\n",
    "# Функция для проверки нормальности выборочных средних\n",
    "def check_normality_of_means(df, group_column, value_column):\n",
    "    group_means = df.groupby(group_column)[value_column].mean().values\n",
    "    stat, p = shapiro(group_means)\n",
    "    if p > 0.05:\n",
    "        print(f\"Средние значения {value_column} распределены нормально (p = {p:.5f})\")\n",
    "    else:\n",
    "        print(f\"Средние значения {value_column} не распределены нормально (p = {p:.5f})\")\n",
    "\n",
    "group_column = \"CourseCategory\"\n",
    "quantitative_columns = [\n",
    "    \"TimeSpentOnCourse\", \"CompletionRate\", \"AverageTimeSpentPerVideo\",\n",
    "    \"AverageQuizScore\"\n",
    "]\n",
    "for col in quantitative_columns:\n",
    "    check_normality_of_means(df, group_column, col)"
   ]
  },
  {
   "cell_type": "markdown",
   "id": "4d5bddee-1ea1-433f-8708-73bef4ef85ec",
   "metadata": {},
   "source": [
    "### Формируем гипотезы!!!\n",
    "\n",
    "Помним, что выборки являются несвязанными / данные не распределены нормально / средние не распределены нормально при выборе соответствующего критерия.\n",
    "Предполагаю, что данные взяты из распределения с одной формой (смотрим на один и тот же показатель в рамках одной и той же платформы в разрезе крайне схожих продуктов)\n",
    "\n",
    "$\\alpha = 0.05$\n",
    "\n",
    "Если $p < \\alpha$, то нулевая гипотеза отвергается в пользу альтернативы. Если $p \\ge \\alpha$, то нулевая гипотеза не отвергается.\n",
    "\n",
    "Давайте сравним моменты для категории здоровья и категории бизнеса. Health & Business.\n",
    "\n",
    "#### Двухвыборочная гипотеза о медиане для непрерывного случая (**Критерий Уилкоксона-Манна-Уитни**):\n",
    "\n",
    "Подходит, так как оценим значимость сдвига распределений + для независимых выборок.\n",
    "\n",
    "Будем смотреть на time spent on course - проведенное за прохождением курса время.\n",
    "\n",
    "Конкретизируем гипотезу как:\n",
    "\n",
    "$H_0$ - $F_X(x) = F_Y(x)$ (разница в медианных значениях проведенного над курсом времени по выборкам клиентов по категории бизнес курсы и курсы по здоровью НЕ ЯВЛЯЕТСЯ статистически значимой (подробнее 0 между выборками X и Y нет статистически значимого сдвига, где выборка X - business_sample, выборка Y - health_sample))\n",
    "\n",
    "$H_1$ - $F_X(x) = F_Y(x+m), m\\neq0$ (разница в медианных значениях проведенного над курсом времени по выборкам клиентов по категории бизнес курсы и курсы по здоровью ЯВЛЯЕТСЯ статистически значимой; между выборками X и Y есть статистически значимый сдвиг)\n",
    "\n",
    "\n",
    "#### Двухвыборочная гипотеза о распределении для непрерывного случая (**Двувыборочный тест Колмогорова-Смирнова**):\n",
    "\n",
    "Посмотрим на схожесть распределений в двух выборках (для непрерывного случая)\n",
    "\n",
    "Будем смотреть на time spent on course - проведенное за прохождением курса время.\n",
    "\n",
    "ПОЧЕМУ? Критерий работает для непрерывных распределений\n",
    "\n",
    "**ФОРМУЛИРОВКА:** Идентичны ли распределения в двух выборках (выборках business_sample и health_sample)?\n",
    "\n",
    "$H_0$ - выборки проведенного над курсом времени по выборкам клиентов по категории бизнес курсы и курсы по здоровью к нам пришли из некоторого распределения $F_0$, идентичного по параметрам.\n",
    "\n",
    "$H_1$ - выборки проведенного над курсом времени по выборкам клиентов по категории бизнес курсы и курсы по здоровью к нам НЕ пришли из некоторого распределения $F_0$, идентичного по параметрам.\n",
    "\n",
    "\n",
    "#### Двухвыборочная гипотеза о распределении для дискретного случая (**Критерий Пирсона**):\n",
    "\n",
    "**Гипотеза о неизвестном законе распределения:** \n",
    "\n",
    "$H_0$ - выборки оценок пользователей (UserRating) по выборкам клиентов по категории бизнес курсы и курсы по здоровью к нам пришли из некоторого распределения $F_0$, идентичного по параметрам.\n",
    "\n",
    "$H_1$ - выборки оценок пользователей (UserRating) по выборкам клиентов по категории бизнес курсы и курсы по здоровью к нам НЕ пришли из некоторого распределения $F_0$, идентичного по параметрам.\n",
    "\n",
    "$$\n",
    "\\begin{aligned}\n",
    "H_0 : X \\sim F_0 \\\\\n",
    "H_1 : X \\nsim F_0\n",
    "\\end{aligned}\n",
    "$$\n",
    "\n",
    "#### Двухвыборочная гипотеза о медиане для дискретного случая (**Тест Муда**):\n",
    "\n",
    "Хочу взять Median Non Parametric Hypothesis Test\n",
    "\n",
    "\"This test works when the dependent variable is continuous or discrete count, and the independent variables are discrete with two or more attributes.\"\n",
    "\n",
    "$H_0$ - выборки оценок пользователей (UserRating) по выборкам клиентов по категории бизнес курсы и курсы по здоровью имеют одинаковые медианные значения.\n",
    "\n",
    "$H_1$ - выборки оценок пользователей (UserRating) по выборкам клиентов по категории бизнес курсы и курсы по здоровью имеют разные медианные значения.\n",
    "\n",
    "$H_0: {Med}(X_1 - Y_1) = 0$,\n",
    "\n",
    "$H_1: {Med}(X_1 - Y_1) \\neq 0$"
   ]
  },
  {
   "cell_type": "markdown",
   "id": "56504a17-c8a8-470e-9daa-3651c97d9b7c",
   "metadata": {},
   "source": [
    "## 2. Каждую гипотезу проверить релевантным тестом и обосновать, почему выбрали именно его. 5-м пунктом будет проверка результатов с бутстрапом"
   ]
  },
  {
   "cell_type": "markdown",
   "id": "f2a50598-e8e2-49bc-978d-ed21829bcfd9",
   "metadata": {},
   "source": [
    "### Объяснил, почему выбрал в пункте 1.\n",
    "Сейчас проверю"
   ]
  },
  {
   "cell_type": "markdown",
   "id": "08fc3d83-3f63-4fec-bc7e-17635e2a3593",
   "metadata": {},
   "source": [
    "#### Двухвыборочная гипотеза о медиане для непрерывного случая (**Критерий Уилкоксона-Манна-Уитни**):\n",
    "\n",
    "$H_0$ - $F_X(x) = F_Y(x)$ (разница в медианных значениях проведенного над курсом времени по выборкам клиентов по категории бизнес курсы и курсы по здоровью не являтся статистически значимой (подробнее 0 между выборками X и Y нет статистически значимого сдвига, где выборка X - business_sample, выборка Y - health_sample))\n",
    "\n",
    "$H_1$ - $F_X(x) = F_Y(x+m), m\\neq0$ (разница в медианных значениях проведенного над курсом времени по выборкам клиентов по категории бизнес курсы и курсы по здоровью являтся статистически значимой; между выборками X и Y есть статистически значимый сдвиг)"
   ]
  },
  {
   "cell_type": "code",
   "execution_count": 791,
   "id": "efd61721-5a53-45a4-b2a1-24ef20297f49",
   "metadata": {},
   "outputs": [
    {
     "data": {
      "text/plain": [
       "MannwhitneyuResult(statistic=1060184.0, pvalue=0.7120347935080252)"
      ]
     },
     "execution_count": 791,
     "metadata": {},
     "output_type": "execute_result"
    }
   ],
   "source": [
    "stats.mannwhitneyu(business_sample['TimeSpentOnCourse'], health_sample['TimeSpentOnCourse'], alternative='two-sided')\n",
    "\n",
    "# pvalue=0.7120347935080252 - выборки пришли из одного распределения и имеют схожие параметры среднего и технически медианы"
   ]
  },
  {
   "cell_type": "markdown",
   "id": "52defe73-15c6-4dfd-8d16-c455518f2720",
   "metadata": {},
   "source": [
    "#### Двухвыборочная гипотеза о распределении для непрерывного случая (**Двувыборочный тест Колмогорова-Смирнова**):\n",
    "\n",
    "$H_0$ - выборки проведенного над курсом времени по выборкам клиентов по категории бизнес курсы и курсы по здоровью к нам пришли из некоторого распределения $F_0$, идентичного по параметрам.\n",
    "\n",
    "$H_1$ - выборки проведенного над курсом времени по выборкам клиентов по категории бизнес курсы и курсы по здоровью к нам НЕ пришли из некоторого распределения $F_0$, идентичного по параметрам.\n"
   ]
  },
  {
   "cell_type": "code",
   "execution_count": 2,
   "id": "cafcb4fa-0f3c-4810-b8dc-c79eb2ce9d94",
   "metadata": {},
   "outputs": [
    {
     "ename": "NameError",
     "evalue": "name 'sts' is not defined",
     "output_type": "error",
     "traceback": [
      "\u001b[1;31m---------------------------------------------------------------------------\u001b[0m",
      "\u001b[1;31mNameError\u001b[0m                                 Traceback (most recent call last)",
      "Cell \u001b[1;32mIn[2], line 1\u001b[0m\n\u001b[1;32m----> 1\u001b[0m sts\u001b[38;5;241m.\u001b[39mks_2samp(business_sample[\u001b[38;5;124m'\u001b[39m\u001b[38;5;124mTimeSpentOnCourse\u001b[39m\u001b[38;5;124m'\u001b[39m], health_sample[\u001b[38;5;124m'\u001b[39m\u001b[38;5;124mTimeSpentOnCourse\u001b[39m\u001b[38;5;124m'\u001b[39m], alternative\u001b[38;5;241m=\u001b[39m\u001b[38;5;124m'\u001b[39m\u001b[38;5;124mtwo-sided\u001b[39m\u001b[38;5;124m'\u001b[39m)\n",
      "\u001b[1;31mNameError\u001b[0m: name 'sts' is not defined"
     ]
    }
   ],
   "source": [
    "stats.ks_2samp(business_sample['TimeSpentOnCourse'], health_sample['TimeSpentOnCourse'], alternative='two-sided')\n",
    "\n",
    "# pvalue=0.9203308054404328 - выборки пришли из одного распределения."
   ]
  },
  {
   "cell_type": "markdown",
   "id": "2f8a8b50-100f-4dd5-9034-464dc25f49ee",
   "metadata": {},
   "source": [
    "#### Двухвыборочная гипотеза о распределении для дискретного случая (**Критерий Пирсона**):\n",
    "\n",
    "$H_0$ - выборки оценок пользователей (UserRating) по выборкам клиентов по категории бизнес курсы и курсы по здоровью к нам пришли из некоторого распределения $F_0$, идентичного по параметрам.\n",
    "\n",
    "$H_1$ - выборки оценок пользователей (UserRating) по выборкам клиентов по категории бизнес курсы и курсы по здоровью к нам НЕ пришли из некоторого распределения $F_0$, идентичного по параметрам.\n",
    "\n",
    "$$\n",
    "\\begin{aligned}\n",
    "H_0 : X \\sim F_0 \\\\\n",
    "H_1 : X \\nsim F_0\n",
    "\\end{aligned}\n",
    "$$"
   ]
  },
  {
   "cell_type": "code",
   "execution_count": 795,
   "id": "4afcb236-ff6e-41fe-9b57-3d374060b40c",
   "metadata": {},
   "outputs": [
    {
     "data": {
      "text/html": [
       "<div>\n",
       "<style scoped>\n",
       "    .dataframe tbody tr th:only-of-type {\n",
       "        vertical-align: middle;\n",
       "    }\n",
       "\n",
       "    .dataframe tbody tr th {\n",
       "        vertical-align: top;\n",
       "    }\n",
       "\n",
       "    .dataframe thead th {\n",
       "        text-align: right;\n",
       "    }\n",
       "</style>\n",
       "<table border=\"1\" class=\"dataframe\">\n",
       "  <thead>\n",
       "    <tr style=\"text-align: right;\">\n",
       "      <th></th>\n",
       "      <th>Health</th>\n",
       "      <th>Business</th>\n",
       "    </tr>\n",
       "    <tr>\n",
       "      <th>UserRating</th>\n",
       "      <th></th>\n",
       "      <th></th>\n",
       "    </tr>\n",
       "  </thead>\n",
       "  <tbody>\n",
       "    <tr>\n",
       "      <th>1</th>\n",
       "      <td>144</td>\n",
       "      <td>143</td>\n",
       "    </tr>\n",
       "    <tr>\n",
       "      <th>2</th>\n",
       "      <td>126</td>\n",
       "      <td>152</td>\n",
       "    </tr>\n",
       "    <tr>\n",
       "      <th>3</th>\n",
       "      <td>140</td>\n",
       "      <td>155</td>\n",
       "    </tr>\n",
       "    <tr>\n",
       "      <th>4</th>\n",
       "      <td>147</td>\n",
       "      <td>123</td>\n",
       "    </tr>\n",
       "    <tr>\n",
       "      <th>5</th>\n",
       "      <td>155</td>\n",
       "      <td>152</td>\n",
       "    </tr>\n",
       "    <tr>\n",
       "      <th>6</th>\n",
       "      <td>136</td>\n",
       "      <td>150</td>\n",
       "    </tr>\n",
       "    <tr>\n",
       "      <th>7</th>\n",
       "      <td>144</td>\n",
       "      <td>162</td>\n",
       "    </tr>\n",
       "    <tr>\n",
       "      <th>8</th>\n",
       "      <td>147</td>\n",
       "      <td>141</td>\n",
       "    </tr>\n",
       "    <tr>\n",
       "      <th>9</th>\n",
       "      <td>151</td>\n",
       "      <td>159</td>\n",
       "    </tr>\n",
       "    <tr>\n",
       "      <th>10</th>\n",
       "      <td>157</td>\n",
       "      <td>140</td>\n",
       "    </tr>\n",
       "  </tbody>\n",
       "</table>\n",
       "</div>"
      ],
      "text/plain": [
       "            Health  Business\n",
       "UserRating                  \n",
       "1              144       143\n",
       "2              126       152\n",
       "3              140       155\n",
       "4              147       123\n",
       "5              155       152\n",
       "6              136       150\n",
       "7              144       162\n",
       "8              147       141\n",
       "9              151       159\n",
       "10             157       140"
      ]
     },
     "execution_count": 795,
     "metadata": {},
     "output_type": "execute_result"
    }
   ],
   "source": [
    "# chisquare(f_obs, f_exp=None, ddof=0, axis=0, *, sum_check=True)\n",
    "\n",
    "# Частоты для каждой категории\n",
    "\n",
    "business_ratings = business_sample['UserRating']\n",
    "health_ratings = health_sample['UserRating']\n",
    "\n",
    "business_counts = business_ratings.value_counts().sort_index()\n",
    "health_counts = health_ratings.value_counts().sort_index()\n",
    "\n",
    "# Формируем таблицу сопряженности\n",
    "contingency_table = pd.DataFrame({\n",
    "    'Health': health_counts,\n",
    "    'Business': business_counts\n",
    "})\n",
    "\n",
    "contingency_table"
   ]
  },
  {
   "cell_type": "code",
   "execution_count": 796,
   "id": "227b30a6-43e2-445a-9345-ec0b4d92c2c6",
   "metadata": {},
   "outputs": [
    {
     "data": {
      "text/plain": [
       "Chi2ContingencyResult(statistic=8.102209305024596, pvalue=0.5238797552462997, dof=9, expected_freq=array([[142.02770178, 137.57387141, 145.98666211, 133.61491108,\n",
       "        151.9251026 , 141.53283174, 151.43023256, 142.52257182,\n",
       "        153.40971272, 146.97640219],\n",
       "       [144.97229822, 140.42612859, 149.01333789, 136.38508892,\n",
       "        155.0748974 , 144.46716826, 154.56976744, 145.47742818,\n",
       "        156.59028728, 150.02359781]]))"
      ]
     },
     "execution_count": 796,
     "metadata": {},
     "output_type": "execute_result"
    }
   ],
   "source": [
    "stats.chi2_contingency(contingency_table.T)\n",
    "\n",
    "# pvalue=0.5238797552462997 - не отвергаем нулевую гипотезу, выборки пришли из одного распределения"
   ]
  },
  {
   "cell_type": "markdown",
   "id": "7907c591-482d-4f70-ac60-1f743901a843",
   "metadata": {},
   "source": [
    "#### Двухвыборочная гипотеза о медиане для дискретного случая (**Тест Муда**):\n",
    "\n",
    "$H_0$ - выборки оценок пользователей (UserRating) по выборкам клиентов по категории бизнес курсы и курсы по здоровью имеют одинаковые медианные значения.\n",
    "\n",
    "$H_1$ - выборки оценок пользователей (UserRating) по выборкам клиентов по категории бизнес курсы и курсы по здоровью имеют разные медианные значения.\n",
    "\n",
    "$H_0: {Med}(X_1 - Y_1) = 0$,\n",
    "\n",
    "$H_1: {Med}(X_1 - Y_1) \\neq 0$"
   ]
  },
  {
   "cell_type": "code",
   "execution_count": 798,
   "id": "4f161e1c-1d09-4bc9-a3b8-f478972559e8",
   "metadata": {},
   "outputs": [
    {
     "data": {
      "text/plain": [
       "MedianTestResult(statistic=0.09787394034687456, pvalue=0.7543960616599104, median=6.0, table=array([[599, 602],\n",
       "       [848, 875]], dtype=int64))"
      ]
     },
     "execution_count": 798,
     "metadata": {},
     "output_type": "execute_result"
    }
   ],
   "source": [
    "business_ratings = business_sample['UserRating']\n",
    "\n",
    "health_ratings = health_sample['UserRating']\n",
    "\n",
    "# Применяем тест Муда\n",
    "\n",
    "stats.median_test(health_ratings, business_ratings)\n",
    "\n",
    "# pvalue=0.7543960616599104 - медианные значения одинаковые"
   ]
  },
  {
   "cell_type": "markdown",
   "id": "db14cc13-ecce-4a42-acb4-775b06714d69",
   "metadata": {},
   "source": [
    "### Сводная таблица\n",
    "\n",
    "| Гипотеза                                  | Метод                                   | p-значение |\n",
    "| ----------------------------------------- | --------------------------------------- | ---------- |\n",
    "| **Медиана для непрерывного случая**       | Критерий Уилкоксона-Манна-Уитни         | 0.7120     |\n",
    "| **Распределение для непрерывного случая** | Двувыборочный тест Колмогорова-Смирнова | 0.9203     |\n",
    "| **Распределение для дискретного случая**  | Критерий Пирсона                        | 0.5239     |\n",
    "| **Медиана для дискретного случая**        | Тест Муда                               | 0.7544     |"
   ]
  },
  {
   "cell_type": "markdown",
   "id": "feddedce-d487-4387-8bab-e36afaf12228",
   "metadata": {},
   "source": [
    "## 3. Сравнить результаты из 4 пунктов с результатами бутстрапа и обосновать различия, если они есть"
   ]
  },
  {
   "cell_type": "markdown",
   "id": "c0e856df-9b14-4b46-8fd0-5ef8c25cc28f",
   "metadata": {},
   "source": [
    "### Бутстрап для оценки медианы по непрерывной колонке"
   ]
  },
  {
   "cell_type": "code",
   "execution_count": 802,
   "id": "d4e39c67-8284-4b82-ae9f-83e423057acc",
   "metadata": {},
   "outputs": [],
   "source": [
    "def bootstrap_median(sample1, sample2):\n",
    "    bootstrap_median_diff = [] \n",
    "    for _ in range(10000):\n",
    "        sample1_resampled = np.random.choice(sample1, size=len(sample1), replace=True)\n",
    "        sample2_resampled = np.random.choice(sample2, size=len(sample2), replace=True)\n",
    "        median_diff = np.median(sample1_resampled) - np.median(sample2_resampled)\n",
    "        bootstrap_median_diff.append(median_diff)\n",
    "    return bootstrap_median_diff"
   ]
  },
  {
   "cell_type": "code",
   "execution_count": 803,
   "id": "7e651ad0-3147-4922-a6af-97ad8998c065",
   "metadata": {},
   "outputs": [
    {
     "name": "stdout",
     "output_type": "stream",
     "text": [
      "95% доверительный интервал для boot_median1: [-3.51  3.39]\n",
      "MannwhitneyuResult(statistic=1060184.0, pvalue=0.7120347935080252)\n"
     ]
    }
   ],
   "source": [
    "np.random.seed(42)\n",
    "\n",
    "boot_median1 = bootstrap_median(business_sample['TimeSpentOnCourse'], health_sample['TimeSpentOnCourse'])\n",
    "\n",
    "# Доверительный интервал\n",
    "big_ci = np.percentile(boot_median1, q=[2.5, 97.5]).round(2)\n",
    "print(f\"95% доверительный интервал для boot_median1: {big_ci}\")\n",
    "\n",
    "print(stats.mannwhitneyu(business_sample['TimeSpentOnCourse'], health_sample['TimeSpentOnCourse'], alternative='two-sided'))"
   ]
  },
  {
   "cell_type": "markdown",
   "id": "c275e2d1-3874-4446-b5fd-03917803a111",
   "metadata": {},
   "source": [
    "### Бутстрап для оценки распределения по непрерывной колонке"
   ]
  },
  {
   "cell_type": "code",
   "execution_count": 805,
   "id": "4ddc21a6-b4ef-47ef-9e0c-eeb7cbc1fdf8",
   "metadata": {},
   "outputs": [],
   "source": [
    "def bootstrap_mean(sample1, sample2):\n",
    "    bootstrap_mean_diff = [] \n",
    "    for _ in range(10000):\n",
    "        sample1_resampled = np.random.choice(sample1, size=len(sample1), replace=True)\n",
    "        sample2_resampled = np.random.choice(sample2, size=len(sample2), replace=True)\n",
    "        mean_diff = np.mean(sample1_resampled) - np.mean(sample2_resampled)\n",
    "        bootstrap_mean_diff.append(mean_diff)\n",
    "    return bootstrap_mean_diff"
   ]
  },
  {
   "cell_type": "code",
   "execution_count": 806,
   "id": "2f071973-dab0-4262-afa2-433dd0bbba89",
   "metadata": {},
   "outputs": [
    {
     "name": "stdout",
     "output_type": "stream",
     "text": [
      "95% доверительный интервал для boot_mean1: [-2.39  1.66]\n",
      "KstestResult(statistic=0.020117264538636423, pvalue=0.9203308054404328, statistic_location=21.318158751250607, statistic_sign=1)\n"
     ]
    }
   ],
   "source": [
    "np.random.seed(42)\n",
    "\n",
    "boot_mean1 = bootstrap_mean(business_sample['TimeSpentOnCourse'], health_sample['TimeSpentOnCourse'])\n",
    "\n",
    "# Доверительный интервал\n",
    "big_ci = np.percentile(boot_mean1, q=[2.5, 97.5]).round(2)\n",
    "print(f\"95% доверительный интервал для boot_mean1: {big_ci}\")\n",
    "\n",
    "print(stats.ks_2samp(business_sample['TimeSpentOnCourse'], health_sample['TimeSpentOnCourse'], alternative='two-sided'))"
   ]
  },
  {
   "cell_type": "markdown",
   "id": "89d9ee87-5889-4da1-8bb6-fa962c9d0b7d",
   "metadata": {},
   "source": [
    "### Бутстрап для оценки медианы по дискретной колонке"
   ]
  },
  {
   "cell_type": "code",
   "execution_count": 808,
   "id": "b90599e8-82ff-45f6-85a6-10cc80e018b9",
   "metadata": {},
   "outputs": [],
   "source": [
    "def bootstrap_median(sample1, sample2):\n",
    "    bootstrap_median_diff = [] \n",
    "    for _ in range(10000):\n",
    "        sample1_resampled = np.random.choice(sample1, size=len(sample1), replace=True)\n",
    "        sample2_resampled = np.random.choice(sample2, size=len(sample2), replace=True)\n",
    "        median_diff = np.median(sample1_resampled) - np.median(sample2_resampled)\n",
    "        bootstrap_median_diff.append(median_diff)\n",
    "    return bootstrap_median_diff"
   ]
  },
  {
   "cell_type": "code",
   "execution_count": 809,
   "id": "40e9b6f5-6ec6-4701-ba8c-905a9e613c5d",
   "metadata": {},
   "outputs": [
    {
     "name": "stdout",
     "output_type": "stream",
     "text": [
      "95% доверительный интервал для boot_median2: [-1.  1.]\n",
      "MedianTestResult(statistic=0.09787394034687456, pvalue=0.7543960616599104, median=6.0, table=array([[599, 602],\n",
      "       [848, 875]], dtype=int64))\n"
     ]
    }
   ],
   "source": [
    "np.random.seed(42)\n",
    "\n",
    "boot_median2 = bootstrap_median(business_sample['UserRating'], health_sample['UserRating'])\n",
    "\n",
    "big_ci = np.percentile(boot_median2, q=[2.5, 97.5]).round(2)\n",
    "print(f\"95% доверительный интервал для boot_median2: {big_ci}\")\n",
    "\n",
    "print(stats.median_test(health_ratings, business_ratings))"
   ]
  },
  {
   "cell_type": "markdown",
   "id": "07574f9a-671f-492a-b607-8b5d1c783014",
   "metadata": {},
   "source": [
    "### Бутстрап для оценки распределения по дискретной колонке"
   ]
  },
  {
   "cell_type": "code",
   "execution_count": 811,
   "id": "61c5295b-0d7f-4df8-a6f0-da4e6c875da9",
   "metadata": {},
   "outputs": [],
   "source": [
    "def bootstrap_mean(sample1, sample2):\n",
    "    bootstrap_mean_diff = [] \n",
    "    for _ in range(10000):\n",
    "        sample1_resampled = np.random.choice(sample1, size=len(sample1), replace=True)\n",
    "        sample2_resampled = np.random.choice(sample2, size=len(sample2), replace=True)\n",
    "        mean_diff = np.mean(sample1_resampled) - np.mean(sample2_resampled)\n",
    "        bootstrap_mean_diff.append(mean_diff)\n",
    "    return bootstrap_mean_diff"
   ]
  },
  {
   "cell_type": "code",
   "execution_count": 812,
   "id": "3e8b655f-84f8-4114-9cd0-8b92c0dd8ebb",
   "metadata": {},
   "outputs": [
    {
     "name": "stdout",
     "output_type": "stream",
     "text": [
      "95% доверительный интервал для boot_mean2: [-0.28  0.13]\n",
      "Chi2ContingencyResult(statistic=8.102209305024596, pvalue=0.5238797552462997, dof=9, expected_freq=array([[142.02770178, 137.57387141, 145.98666211, 133.61491108,\n",
      "        151.9251026 , 141.53283174, 151.43023256, 142.52257182,\n",
      "        153.40971272, 146.97640219],\n",
      "       [144.97229822, 140.42612859, 149.01333789, 136.38508892,\n",
      "        155.0748974 , 144.46716826, 154.56976744, 145.47742818,\n",
      "        156.59028728, 150.02359781]]))\n"
     ]
    }
   ],
   "source": [
    "np.random.seed(42)\n",
    "\n",
    "boot_mean2 = bootstrap_mean(business_sample['UserRating'], health_sample['UserRating'])\n",
    "\n",
    "big_ci = np.percentile(boot_mean2, q=[2.5, 97.5]).round(2)\n",
    "print(f\"95% доверительный интервал для boot_mean2: {big_ci}\")\n",
    "\n",
    "print(stats.chi2_contingency(contingency_table.T))"
   ]
  },
  {
   "cell_type": "markdown",
   "id": "f1ec2240-c06f-4ec6-b761-73366da4e8e8",
   "metadata": {},
   "source": [
    "## Сводная таблица\n",
    "\n",
    "| **Случай**       | **На что смотрим** | **95% доверительный бутстрап-интервал для разницы** | **Статистический тест**                              | **$H_0$ принимается** |\n",
    "|-------------------|--------------------|-----------------------------------------------------|------------------------------------------------------|---------------------|\n",
    "| Непрерывная       | Медиана            | [-3.51, 3.39]                                      | Mann-Whitney U (Критерий Уилкоксона-Манна-Уитни)     | Да                  |\n",
    "| Непрерывная       | Распределение      | [-2.39, 1.66]                                      | Kolmogorov-Smirnov                                   | Да                  |\n",
    "| Дискретная        | Медиана            | [-1, 1]                                            | Median (Mood's) Test                                 | Да                  |\n",
    "| Дискретная        | Распределение      | [-0.28, 0.13]                                      | Chi-squared                                          | Да                  |\n",
    "\n",
    "\n",
    "| Гипотеза                                  | Метод                                   | p-значение | **$H_0$ принимается** |\n",
    "| ----------------------------------------- | --------------------------------------- | ---------- |---------------------|\n",
    "| **Медиана для непрерывного случая**       | Критерий Уилкоксона-Манна-Уитни         | 0.7120     | Да                  |\n",
    "| **Распределение для непрерывного случая** | Двувыборочный тест Колмогорова-Смирнова | 0.9203     | Да                  |\n",
    "| **Распределение для дискретного случая**  | Критерий Пирсона                        | 0.5239     | Да                  |\n",
    "| **Медиана для дискретного случая**        | Тест Муда                               | 0.7544     | Да                  |\n"
   ]
  },
  {
   "cell_type": "markdown",
   "id": "06894c03-fa94-4e2f-b31f-40956d98077c",
   "metadata": {},
   "source": [
    "#### Так или иначе, каждый доверительный интервал включает в себя 0, что говорит о том, что статистически значимых различий между группами нет, так как с заданной 95% доверительной вероятностью доверительный интервал охватывает истинное значение момента. Смотря на анализируемые параметры (для распределений генерировал средние в бутстрапе для более корректного подхода), можно делать релевантные выводы касательно того, что распределения выборок имеют определенное сходство, ровно как и заданный в гипотезах момент (медиана)."
   ]
  },
  {
   "cell_type": "markdown",
   "id": "174b9bd1-0d48-46a2-92c8-7b4da533af18",
   "metadata": {},
   "source": [
    "## 4. Определить какой подход мощнее в конкретном случае и почему"
   ]
  },
  {
   "cell_type": "markdown",
   "id": "08dcc58a-6386-4cdb-8bf7-dc3cc985abe4",
   "metadata": {},
   "source": [
    "Выводы: в данном случае оба подхода дают согласующиеся результаты.\n",
    "Тем не менее, релевантным предположением будет то, что доверительный интервал мощнее, если нам необходимо понять практическую суть-значимость разницы. Если цель заключается лишь в отвержении/не отвержении гипотезы, то рассматриваем p-value.\n",
    "Хотя, в целом, оба подхода показали, что мелкие различия в выборках им достаточно трудно выявлять."
   ]
  }
 ],
 "metadata": {
  "kernelspec": {
   "display_name": "Python 3 (ipykernel)",
   "language": "python",
   "name": "python3"
  },
  "language_info": {
   "codemirror_mode": {
    "name": "ipython",
    "version": 3
   },
   "file_extension": ".py",
   "mimetype": "text/x-python",
   "name": "python",
   "nbconvert_exporter": "python",
   "pygments_lexer": "ipython3",
   "version": "3.12.4"
  }
 },
 "nbformat": 4,
 "nbformat_minor": 5
}
