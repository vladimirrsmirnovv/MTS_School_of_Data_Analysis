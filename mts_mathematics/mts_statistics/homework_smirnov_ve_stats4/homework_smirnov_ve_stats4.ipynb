{
 "cells": [
  {
   "cell_type": "markdown",
   "id": "9f165814-4e31-4020-83da-8a8753725d2d",
   "metadata": {},
   "source": [
    "# Математика - Домашнее задание 6\n",
    "\n",
    "**Дедлайн:** 23:59, 12 января\n",
    "\n",
    "## Задание:\n",
    "Необходимо подготовить отчет с результатами применения обсужденных на лекции методов к произвольным данным, которые вы найдете в свободном доступе.\n",
    "\n",
    "1. На платформе Kaggle или на Github найдите достаточно большой датасет с логами пользования сервисов (просмотры Youtube или стриминговых сервисов, такси/каршеринг или что угодно, где есть много юзеров и история их взаимодействия с каким-нибудь сервисом). В случае, если такого датасета нет - сгенерируйте самостоятельно (например, как на лекции было показано распределение по просмотру в Кион).\n",
    "\n",
    "2. Разбейте на сегменты вашу аудиторию и примените для нескольких (примерно 3-4 метрики) метрик тесты Стьюдента, Манна-Уитни, Фишера (Фишера для нескольких сегментов). Проинтерпретируйте результаты, сделайте первые выводы.  \n",
    "3. Для >=3 сегментов сделайте попарные сравнения через тест Стьюдента и тест Фишера. Проверьте, соотносятся ли результаты.  \n",
    "4. Постройте точный и эфронов доверительные интервалы для выбранных метрик. Проверьте, соответствуют ли эти доверительные интервалы результатам теста Стьюдента.  \n",
    "5. Подумайте, можно ли использовать в пункте 2 другие стат. тесты. Приведите пару примеров.\n",
    "\n",
    "## Для получения зачета необходимо:\n",
    "- **Зачет на 4:** выполнены пункты 1-4 задания, допускаются небольшие недочеты.\n",
    "- **Зачет на 5:** выполнены все пункты задания, допускаются небольшие недочеты."
   ]
  },
  {
   "cell_type": "markdown",
   "id": "ae057967-c1b7-4cb6-83bb-728806710b92",
   "metadata": {},
   "source": [
    "### 1. На платформе Kaggle или на Github найдите достаточно большой датасет с логами пользования сервисов (просмотры Youtube или стриминговых сервисов, такси/каршеринг или что угодно, где есть много юзеров и история их взаимодействия с каким-нибудь сервисом). В случае, если такого датасета нет - сгенерируйте самостоятельно (например, как на лекции было показано распределение по просмотру в Кион)."
   ]
  },
  {
   "cell_type": "markdown",
   "id": "b850ad93-c6e4-4845-bf15-35c067a048c3",
   "metadata": {},
   "source": [
    "### **Predict Online Course Engagement Dataset**\r\n",
    "**Understanding User Behavior and Course Completion**\n",
    "\n",
    "\n",
    "\n",
    "[Link](https://www.kaggle.com/datasets/rabieelkharoua/predict-online-course-engagement-dataset)"
   ]
  },
  {
   "cell_type": "code",
   "execution_count": 720,
   "id": "8c3e3fd4-6d12-4d6b-8603-46d0a3427c6c",
   "metadata": {},
   "outputs": [],
   "source": [
    "import numpy as np\n",
    "import pandas as pd\n",
    "import math\n",
    "import matplotlib.pyplot as plt\n",
    "import seaborn as sns\n",
    "import scipy\n",
    "from scipy.stats import ttest_ind, mannwhitneyu, norm, shapiro, normaltest, ttest_ind_from_stats, kstest, anderson, normaltest\n",
    "from itertools import combinations\n",
    "import scipy.stats as sts\n",
    "from scipy import stats\n",
    "\n",
    "# Настройка стиля\n",
    "sns.set_style(\"whitegrid\")  \n",
    "palette = sns.color_palette(\"husl\", 8)\n",
    "%matplotlib inline"
   ]
  },
  {
   "cell_type": "markdown",
   "id": "74971345-0fda-4529-a7ff-bda08d6fbe25",
   "metadata": {},
   "source": [
    "#### Формулируем гипотезу $H_0$ об отсутствии значимых различий между сегментами по выбранным метрикам"
   ]
  },
  {
   "cell_type": "code",
   "execution_count": 722,
   "id": "e1fbee86-8327-4e92-8ca8-e8c0561a8ffe",
   "metadata": {},
   "outputs": [
    {
     "data": {
      "text/html": [
       "<div>\n",
       "<style scoped>\n",
       "    .dataframe tbody tr th:only-of-type {\n",
       "        vertical-align: middle;\n",
       "    }\n",
       "\n",
       "    .dataframe tbody tr th {\n",
       "        vertical-align: top;\n",
       "    }\n",
       "\n",
       "    .dataframe thead th {\n",
       "        text-align: right;\n",
       "    }\n",
       "</style>\n",
       "<table border=\"1\" class=\"dataframe\">\n",
       "  <thead>\n",
       "    <tr style=\"text-align: right;\">\n",
       "      <th></th>\n",
       "      <th>UserID</th>\n",
       "      <th>CourseCategory</th>\n",
       "      <th>TimeSpentOnCourse</th>\n",
       "      <th>NumberOfVideosWatched</th>\n",
       "      <th>NumberOfQuizzesTaken</th>\n",
       "      <th>QuizScores</th>\n",
       "      <th>CompletionRate</th>\n",
       "      <th>DeviceType</th>\n",
       "      <th>CourseCompletion</th>\n",
       "    </tr>\n",
       "  </thead>\n",
       "  <tbody>\n",
       "    <tr>\n",
       "      <th>0</th>\n",
       "      <td>5618</td>\n",
       "      <td>Health</td>\n",
       "      <td>29.979719</td>\n",
       "      <td>17</td>\n",
       "      <td>3</td>\n",
       "      <td>50.365656</td>\n",
       "      <td>20.860773</td>\n",
       "      <td>1</td>\n",
       "      <td>0</td>\n",
       "    </tr>\n",
       "    <tr>\n",
       "      <th>1</th>\n",
       "      <td>4326</td>\n",
       "      <td>Arts</td>\n",
       "      <td>27.802640</td>\n",
       "      <td>1</td>\n",
       "      <td>5</td>\n",
       "      <td>62.615970</td>\n",
       "      <td>65.632415</td>\n",
       "      <td>1</td>\n",
       "      <td>0</td>\n",
       "    </tr>\n",
       "    <tr>\n",
       "      <th>2</th>\n",
       "      <td>5849</td>\n",
       "      <td>Arts</td>\n",
       "      <td>86.820485</td>\n",
       "      <td>14</td>\n",
       "      <td>2</td>\n",
       "      <td>78.458962</td>\n",
       "      <td>63.812007</td>\n",
       "      <td>1</td>\n",
       "      <td>1</td>\n",
       "    </tr>\n",
       "    <tr>\n",
       "      <th>3</th>\n",
       "      <td>4992</td>\n",
       "      <td>Science</td>\n",
       "      <td>35.038427</td>\n",
       "      <td>17</td>\n",
       "      <td>10</td>\n",
       "      <td>59.198853</td>\n",
       "      <td>95.433162</td>\n",
       "      <td>0</td>\n",
       "      <td>1</td>\n",
       "    </tr>\n",
       "    <tr>\n",
       "      <th>4</th>\n",
       "      <td>3866</td>\n",
       "      <td>Programming</td>\n",
       "      <td>92.490647</td>\n",
       "      <td>16</td>\n",
       "      <td>0</td>\n",
       "      <td>98.428285</td>\n",
       "      <td>18.102478</td>\n",
       "      <td>0</td>\n",
       "      <td>0</td>\n",
       "    </tr>\n",
       "    <tr>\n",
       "      <th>5</th>\n",
       "      <td>8650</td>\n",
       "      <td>Health</td>\n",
       "      <td>79.466129</td>\n",
       "      <td>12</td>\n",
       "      <td>7</td>\n",
       "      <td>70.233329</td>\n",
       "      <td>76.484023</td>\n",
       "      <td>0</td>\n",
       "      <td>1</td>\n",
       "    </tr>\n",
       "    <tr>\n",
       "      <th>6</th>\n",
       "      <td>4321</td>\n",
       "      <td>Health</td>\n",
       "      <td>78.908724</td>\n",
       "      <td>10</td>\n",
       "      <td>2</td>\n",
       "      <td>86.836533</td>\n",
       "      <td>22.588896</td>\n",
       "      <td>1</td>\n",
       "      <td>0</td>\n",
       "    </tr>\n",
       "    <tr>\n",
       "      <th>7</th>\n",
       "      <td>4589</td>\n",
       "      <td>Business</td>\n",
       "      <td>12.068237</td>\n",
       "      <td>16</td>\n",
       "      <td>3</td>\n",
       "      <td>61.553646</td>\n",
       "      <td>27.410991</td>\n",
       "      <td>1</td>\n",
       "      <td>0</td>\n",
       "    </tr>\n",
       "    <tr>\n",
       "      <th>8</th>\n",
       "      <td>4215</td>\n",
       "      <td>Business</td>\n",
       "      <td>81.935709</td>\n",
       "      <td>8</td>\n",
       "      <td>4</td>\n",
       "      <td>90.264564</td>\n",
       "      <td>33.308437</td>\n",
       "      <td>0</td>\n",
       "      <td>1</td>\n",
       "    </tr>\n",
       "    <tr>\n",
       "      <th>9</th>\n",
       "      <td>8089</td>\n",
       "      <td>Programming</td>\n",
       "      <td>83.394026</td>\n",
       "      <td>15</td>\n",
       "      <td>10</td>\n",
       "      <td>63.956353</td>\n",
       "      <td>33.261300</td>\n",
       "      <td>1</td>\n",
       "      <td>0</td>\n",
       "    </tr>\n",
       "  </tbody>\n",
       "</table>\n",
       "</div>"
      ],
      "text/plain": [
       "   UserID CourseCategory  TimeSpentOnCourse  NumberOfVideosWatched  \\\n",
       "0    5618         Health          29.979719                     17   \n",
       "1    4326           Arts          27.802640                      1   \n",
       "2    5849           Arts          86.820485                     14   \n",
       "3    4992        Science          35.038427                     17   \n",
       "4    3866    Programming          92.490647                     16   \n",
       "5    8650         Health          79.466129                     12   \n",
       "6    4321         Health          78.908724                     10   \n",
       "7    4589       Business          12.068237                     16   \n",
       "8    4215       Business          81.935709                      8   \n",
       "9    8089    Programming          83.394026                     15   \n",
       "\n",
       "   NumberOfQuizzesTaken  QuizScores  CompletionRate  DeviceType  \\\n",
       "0                     3   50.365656       20.860773           1   \n",
       "1                     5   62.615970       65.632415           1   \n",
       "2                     2   78.458962       63.812007           1   \n",
       "3                    10   59.198853       95.433162           0   \n",
       "4                     0   98.428285       18.102478           0   \n",
       "5                     7   70.233329       76.484023           0   \n",
       "6                     2   86.836533       22.588896           1   \n",
       "7                     3   61.553646       27.410991           1   \n",
       "8                     4   90.264564       33.308437           0   \n",
       "9                    10   63.956353       33.261300           1   \n",
       "\n",
       "   CourseCompletion  \n",
       "0                 0  \n",
       "1                 0  \n",
       "2                 1  \n",
       "3                 1  \n",
       "4                 0  \n",
       "5                 1  \n",
       "6                 0  \n",
       "7                 0  \n",
       "8                 1  \n",
       "9                 0  "
      ]
     },
     "execution_count": 722,
     "metadata": {},
     "output_type": "execute_result"
    }
   ],
   "source": [
    "# Загружаю данные\n",
    "df = pd.read_csv('online_course_engagement_data.csv')\n",
    "df.head(10)"
   ]
  },
  {
   "cell_type": "code",
   "execution_count": 723,
   "id": "d6e6845f-2338-4da1-b7d3-14c6eae28006",
   "metadata": {},
   "outputs": [
    {
     "data": {
      "text/plain": [
       "(array([1821.,    0., 1718.,    0.,    0., 1814.,    0., 1810.,    0.,\n",
       "        1837.]),\n",
       " array([0. , 0.4, 0.8, 1.2, 1.6, 2. , 2.4, 2.8, 3.2, 3.6, 4. ]),\n",
       " <BarContainer object of 10 artists>)"
      ]
     },
     "execution_count": 723,
     "metadata": {},
     "output_type": "execute_result"
    },
    {
     "data": {
      "image/png": "[encoded data removed]",
      "text/plain": [
       "<Figure size 640x480 with 1 Axes>"
      ]
     },
     "metadata": {},
     "output_type": "display_data"
    }
   ],
   "source": [
    "# посмотрим на представленность классов\n",
    "\n",
    "plt.hist(df['CourseCategory'], color=\"green\", edgecolor=\"black\", alpha=0.8)"
   ]
  },
  {
   "cell_type": "code",
   "execution_count": 724,
   "id": "2d655251-f515-42ec-81f2-141593b00333",
   "metadata": {},
   "outputs": [],
   "source": [
    "# Удалю переменные, на которые не хочу смотреть\n",
    "\n",
    "df = df.drop(['CourseCompletion', 'DeviceType'], axis=1)"
   ]
  },
  {
   "cell_type": "markdown",
   "id": "302b7ac9-e098-47a8-bd63-cee30028e712",
   "metadata": {},
   "source": [
    "#### Введем новые метрики"
   ]
  },
  {
   "cell_type": "code",
   "execution_count": 726,
   "id": "204abae7-ee9e-45f7-a1f1-a5705df77ab4",
   "metadata": {},
   "outputs": [],
   "source": [
    "# Average Time Spent Per Video\n",
    "# TimeSpentOnCourse/NumberOfVideosWatched\n",
    "\n",
    "df['AverageTimeSpentPerVideo'] = np.where(\n",
    "    df['NumberOfVideosWatched'] > 0,\n",
    "    df['TimeSpentOnCourse'] / df['NumberOfVideosWatched'],\n",
    "    0\n",
    ")\n",
    "# Average Quiz Score\n",
    "# QuizScores/NumberOfQuizzesTaken\n",
    "\n",
    "df['AverageQuizScore'] = np.where(\n",
    "    df['NumberOfQuizzesTaken'] > 0,\n",
    "    df['QuizScores'] / df['NumberOfQuizzesTaken'],\n",
    "    0\n",
    ")"
   ]
  },
  {
   "cell_type": "markdown",
   "id": "37685933-6744-4d17-bbb5-224e31d9c3f2",
   "metadata": {},
   "source": [
    "#### Интересный вопрос\n",
    "\n",
    "Удаление строк, где значения в AverageTimeSpentPerVideo или AverageQuizScore равны 0 \n",
    "\n",
    "AverageTimeSpentPerVideo - так как не взаимодействовал с контентом визуально, AverageQuizScore - так как не решал задания\n",
    "\n",
    "Почему вообще так много людей, которые решали задания, но смотрели курс, или решали задания, но не смотрели курс? \n",
    "Насколько вообще адекватно их сравнивать?\n",
    "\n",
    "Оставлю, как есть, но удалю нули в completion rate, так как все-таки смысла в таких строках точно мало"
   ]
  },
  {
   "cell_type": "code",
   "execution_count": 728,
   "id": "9bbbfb11-f6e3-4bd2-a39a-5d2b37816f85",
   "metadata": {},
   "outputs": [
    {
     "data": {
      "text/html": [
       "<div>\n",
       "<style scoped>\n",
       "    .dataframe tbody tr th:only-of-type {\n",
       "        vertical-align: middle;\n",
       "    }\n",
       "\n",
       "    .dataframe tbody tr th {\n",
       "        vertical-align: top;\n",
       "    }\n",
       "\n",
       "    .dataframe thead th {\n",
       "        text-align: right;\n",
       "    }\n",
       "</style>\n",
       "<table border=\"1\" class=\"dataframe\">\n",
       "  <thead>\n",
       "    <tr style=\"text-align: right;\">\n",
       "      <th></th>\n",
       "      <th>UserID</th>\n",
       "      <th>CourseCategory</th>\n",
       "      <th>TimeSpentOnCourse</th>\n",
       "      <th>CompletionRate</th>\n",
       "      <th>AverageTimeSpentPerVideo</th>\n",
       "      <th>AverageQuizScore</th>\n",
       "    </tr>\n",
       "  </thead>\n",
       "  <tbody>\n",
       "    <tr>\n",
       "      <th>0</th>\n",
       "      <td>5618</td>\n",
       "      <td>Health</td>\n",
       "      <td>29.979719</td>\n",
       "      <td>20.860773</td>\n",
       "      <td>1.763513</td>\n",
       "      <td>16.788552</td>\n",
       "    </tr>\n",
       "    <tr>\n",
       "      <th>1</th>\n",
       "      <td>4326</td>\n",
       "      <td>Arts</td>\n",
       "      <td>27.802640</td>\n",
       "      <td>65.632415</td>\n",
       "      <td>27.802640</td>\n",
       "      <td>12.523194</td>\n",
       "    </tr>\n",
       "    <tr>\n",
       "      <th>2</th>\n",
       "      <td>5849</td>\n",
       "      <td>Arts</td>\n",
       "      <td>86.820485</td>\n",
       "      <td>63.812007</td>\n",
       "      <td>6.201463</td>\n",
       "      <td>39.229481</td>\n",
       "    </tr>\n",
       "    <tr>\n",
       "      <th>3</th>\n",
       "      <td>4992</td>\n",
       "      <td>Science</td>\n",
       "      <td>35.038427</td>\n",
       "      <td>95.433162</td>\n",
       "      <td>2.061084</td>\n",
       "      <td>5.919885</td>\n",
       "    </tr>\n",
       "    <tr>\n",
       "      <th>4</th>\n",
       "      <td>3866</td>\n",
       "      <td>Programming</td>\n",
       "      <td>92.490647</td>\n",
       "      <td>18.102478</td>\n",
       "      <td>5.780665</td>\n",
       "      <td>0.000000</td>\n",
       "    </tr>\n",
       "    <tr>\n",
       "      <th>...</th>\n",
       "      <td>...</td>\n",
       "      <td>...</td>\n",
       "      <td>...</td>\n",
       "      <td>...</td>\n",
       "      <td>...</td>\n",
       "      <td>...</td>\n",
       "    </tr>\n",
       "    <tr>\n",
       "      <th>8995</th>\n",
       "      <td>8757</td>\n",
       "      <td>Health</td>\n",
       "      <td>37.445225</td>\n",
       "      <td>32.990704</td>\n",
       "      <td>2.674659</td>\n",
       "      <td>13.617340</td>\n",
       "    </tr>\n",
       "    <tr>\n",
       "      <th>8996</th>\n",
       "      <td>894</td>\n",
       "      <td>Science</td>\n",
       "      <td>48.631443</td>\n",
       "      <td>0.254625</td>\n",
       "      <td>6.947349</td>\n",
       "      <td>8.487608</td>\n",
       "    </tr>\n",
       "    <tr>\n",
       "      <th>8997</th>\n",
       "      <td>6323</td>\n",
       "      <td>Health</td>\n",
       "      <td>38.212512</td>\n",
       "      <td>70.188159</td>\n",
       "      <td>12.737504</td>\n",
       "      <td>23.169432</td>\n",
       "    </tr>\n",
       "    <tr>\n",
       "      <th>8998</th>\n",
       "      <td>3652</td>\n",
       "      <td>Health</td>\n",
       "      <td>70.048665</td>\n",
       "      <td>72.975225</td>\n",
       "      <td>5.388359</td>\n",
       "      <td>7.965518</td>\n",
       "    </tr>\n",
       "    <tr>\n",
       "      <th>8999</th>\n",
       "      <td>5595</td>\n",
       "      <td>Health</td>\n",
       "      <td>93.589781</td>\n",
       "      <td>11.299071</td>\n",
       "      <td>13.369969</td>\n",
       "      <td>11.254909</td>\n",
       "    </tr>\n",
       "  </tbody>\n",
       "</table>\n",
       "<p>7246 rows × 6 columns</p>\n",
       "</div>"
      ],
      "text/plain": [
       "      UserID CourseCategory  TimeSpentOnCourse  CompletionRate  \\\n",
       "0       5618         Health          29.979719       20.860773   \n",
       "1       4326           Arts          27.802640       65.632415   \n",
       "2       5849           Arts          86.820485       63.812007   \n",
       "3       4992        Science          35.038427       95.433162   \n",
       "4       3866    Programming          92.490647       18.102478   \n",
       "...      ...            ...                ...             ...   \n",
       "8995    8757         Health          37.445225       32.990704   \n",
       "8996     894        Science          48.631443        0.254625   \n",
       "8997    6323         Health          38.212512       70.188159   \n",
       "8998    3652         Health          70.048665       72.975225   \n",
       "8999    5595         Health          93.589781       11.299071   \n",
       "\n",
       "      AverageTimeSpentPerVideo  AverageQuizScore  \n",
       "0                     1.763513         16.788552  \n",
       "1                    27.802640         12.523194  \n",
       "2                     6.201463         39.229481  \n",
       "3                     2.061084          5.919885  \n",
       "4                     5.780665          0.000000  \n",
       "...                        ...               ...  \n",
       "8995                  2.674659         13.617340  \n",
       "8996                  6.947349          8.487608  \n",
       "8997                 12.737504         23.169432  \n",
       "8998                  5.388359          7.965518  \n",
       "8999                 13.369969         11.254909  \n",
       "\n",
       "[7246 rows x 6 columns]"
      ]
     },
     "execution_count": 728,
     "metadata": {},
     "output_type": "execute_result"
    }
   ],
   "source": [
    "# Рассчитываем AverageTimeSpentPerVideo и AverageQuizScore\n",
    "\n",
    "df = df[(df['CompletionRate'] != 0)]\n",
    "\n",
    "# И удалю дубликаты по id и по курсу - точно один и тот же пользователь\n",
    "df= df.drop_duplicates(subset=['UserID', 'CourseCategory'], keep=False)\n",
    "\n",
    "# Удалю переменные, на которые не хочу смотреть\n",
    "\n",
    "df = df.drop(['NumberOfVideosWatched', 'NumberOfQuizzesTaken', 'QuizScores', ], axis=1)\n",
    "df"
   ]
  },
  {
   "cell_type": "code",
   "execution_count": 729,
   "id": "7a6c8963-4b6e-46b1-b0cb-865cbb6ca32f",
   "metadata": {},
   "outputs": [
    {
     "data": {
      "text/plain": [
       "UserID                      0\n",
       "CourseCategory              0\n",
       "TimeSpentOnCourse           0\n",
       "CompletionRate              0\n",
       "AverageTimeSpentPerVideo    0\n",
       "AverageQuizScore            0\n",
       "dtype: int64"
      ]
     },
     "execution_count": 729,
     "metadata": {},
     "output_type": "execute_result"
    }
   ],
   "source": [
    "# Проверю пропуски\n",
    "pd.isnull(df).sum()"
   ]
  },
  {
   "cell_type": "code",
   "execution_count": 730,
   "id": "8a7ee27d-36de-4c70-a454-ebc2376befae",
   "metadata": {},
   "outputs": [
    {
     "data": {
      "text/plain": [
       "UserID                        int64\n",
       "CourseCategory               object\n",
       "TimeSpentOnCourse           float64\n",
       "CompletionRate              float64\n",
       "AverageTimeSpentPerVideo    float64\n",
       "AverageQuizScore            float64\n",
       "dtype: object"
      ]
     },
     "execution_count": 730,
     "metadata": {},
     "output_type": "execute_result"
    }
   ],
   "source": [
    "# Проверка типов данных\n",
    "df.dtypes"
   ]
  },
  {
   "cell_type": "code",
   "execution_count": 731,
   "id": "efca2204-a319-47b0-a3ea-304010030485",
   "metadata": {},
   "outputs": [
    {
     "data": {
      "text/html": [
       "<div>\n",
       "<style scoped>\n",
       "    .dataframe tbody tr th:only-of-type {\n",
       "        vertical-align: middle;\n",
       "    }\n",
       "\n",
       "    .dataframe tbody tr th {\n",
       "        vertical-align: top;\n",
       "    }\n",
       "\n",
       "    .dataframe thead th {\n",
       "        text-align: right;\n",
       "    }\n",
       "</style>\n",
       "<table border=\"1\" class=\"dataframe\">\n",
       "  <thead>\n",
       "    <tr style=\"text-align: right;\">\n",
       "      <th></th>\n",
       "      <th>UserID</th>\n",
       "      <th>TimeSpentOnCourse</th>\n",
       "      <th>CompletionRate</th>\n",
       "      <th>AverageTimeSpentPerVideo</th>\n",
       "      <th>AverageQuizScore</th>\n",
       "    </tr>\n",
       "  </thead>\n",
       "  <tbody>\n",
       "    <tr>\n",
       "      <th>count</th>\n",
       "      <td>7246.000000</td>\n",
       "      <td>7246.000000</td>\n",
       "      <td>7246.000000</td>\n",
       "      <td>7246.000000</td>\n",
       "      <td>7246.000000</td>\n",
       "    </tr>\n",
       "    <tr>\n",
       "      <th>mean</th>\n",
       "      <td>4511.882004</td>\n",
       "      <td>51.159088</td>\n",
       "      <td>52.247531</td>\n",
       "      <td>8.239180</td>\n",
       "      <td>19.302101</td>\n",
       "    </tr>\n",
       "    <tr>\n",
       "      <th>std</th>\n",
       "      <td>2613.329642</td>\n",
       "      <td>28.195201</td>\n",
       "      <td>29.182014</td>\n",
       "      <td>12.555532</td>\n",
       "      <td>19.533601</td>\n",
       "    </tr>\n",
       "    <tr>\n",
       "      <th>min</th>\n",
       "      <td>1.000000</td>\n",
       "      <td>1.005230</td>\n",
       "      <td>0.009327</td>\n",
       "      <td>0.000000</td>\n",
       "      <td>0.000000</td>\n",
       "    </tr>\n",
       "    <tr>\n",
       "      <th>25%</th>\n",
       "      <td>2245.250000</td>\n",
       "      <td>27.131607</td>\n",
       "      <td>27.344477</td>\n",
       "      <td>2.243253</td>\n",
       "      <td>8.609040</td>\n",
       "    </tr>\n",
       "    <tr>\n",
       "      <th>50%</th>\n",
       "      <td>4499.500000</td>\n",
       "      <td>50.908462</td>\n",
       "      <td>53.731055</td>\n",
       "      <td>4.620419</td>\n",
       "      <td>12.491036</td>\n",
       "    </tr>\n",
       "    <tr>\n",
       "      <th>75%</th>\n",
       "      <td>6781.750000</td>\n",
       "      <td>75.792551</td>\n",
       "      <td>77.815938</td>\n",
       "      <td>8.296786</td>\n",
       "      <td>21.627538</td>\n",
       "    </tr>\n",
       "    <tr>\n",
       "      <th>max</th>\n",
       "      <td>8999.000000</td>\n",
       "      <td>99.992558</td>\n",
       "      <td>99.979711</td>\n",
       "      <td>99.618379</td>\n",
       "      <td>99.994984</td>\n",
       "    </tr>\n",
       "  </tbody>\n",
       "</table>\n",
       "</div>"
      ],
      "text/plain": [
       "            UserID  TimeSpentOnCourse  CompletionRate  \\\n",
       "count  7246.000000        7246.000000     7246.000000   \n",
       "mean   4511.882004          51.159088       52.247531   \n",
       "std    2613.329642          28.195201       29.182014   \n",
       "min       1.000000           1.005230        0.009327   \n",
       "25%    2245.250000          27.131607       27.344477   \n",
       "50%    4499.500000          50.908462       53.731055   \n",
       "75%    6781.750000          75.792551       77.815938   \n",
       "max    8999.000000          99.992558       99.979711   \n",
       "\n",
       "       AverageTimeSpentPerVideo  AverageQuizScore  \n",
       "count               7246.000000       7246.000000  \n",
       "mean                   8.239180         19.302101  \n",
       "std                   12.555532         19.533601  \n",
       "min                    0.000000          0.000000  \n",
       "25%                    2.243253          8.609040  \n",
       "50%                    4.620419         12.491036  \n",
       "75%                    8.296786         21.627538  \n",
       "max                   99.618379         99.994984  "
      ]
     },
     "execution_count": 731,
     "metadata": {},
     "output_type": "execute_result"
    }
   ],
   "source": [
    "# Посмотрим на описательные статистики для данных\n",
    "\n",
    "df.describe()"
   ]
  },
  {
   "cell_type": "markdown",
   "id": "5eaacbca-b00c-424e-b6b9-8a82cbf01c9d",
   "metadata": {},
   "source": [
    "### 2. Разбейте на сегменты вашу аудиторию и примените для нескольких (примерно 3-4 метрики) метрик тесты Стьюдента, Манна-Уитни, Фишера (Фишера для нескольких сегментов). Проинтерпретируйте результаты, сделайте первые выводы.  "
   ]
  },
  {
   "cell_type": "markdown",
   "id": "3fce453c-1907-44b6-846a-c283bbb9305d",
   "metadata": {},
   "source": [
    "#### Проверка на нормальность исходных данных"
   ]
  },
  {
   "cell_type": "code",
   "execution_count": 734,
   "id": "0b590510-4160-4658-86f3-9d84858b7645",
   "metadata": {},
   "outputs": [
    {
     "name": "stdout",
     "output_type": "stream",
     "text": [
      "TimeSpentOnCourse: Данные не распределены нормально (p = 0.00000)\n",
      "CompletionRate: Данные не распределены нормально (p = 0.00000)\n",
      "AverageTimeSpentPerVideo: Данные не распределены нормально (p = 0.00000)\n",
      "AverageQuizScore: Данные не распределены нормально (p = 0.00000)\n"
     ]
    },
    {
     "name": "stderr",
     "output_type": "stream",
     "text": [
      "D:\\Anaconda\\Lib\\site-packages\\scipy\\stats\\_axis_nan_policy.py:573: UserWarning: scipy.stats.shapiro: For N > 5000, computed p-value may not be accurate. Current N is 7246.\n",
      "  res = hypotest_fun_out(*samples, **kwds)\n"
     ]
    }
   ],
   "source": [
    "def check_normality(df, column_name):\n",
    "    values = df[column_name].dropna().values\n",
    "    stat, p = shapiro(values)\n",
    "    if p >= 0.05:\n",
    "        print(f\"{column_name}: Данные распределены нормально (p = {p:.5f})\")\n",
    "    else:\n",
    "        print(f\"{column_name}: Данные не распределены нормально (p = {p:.5f})\")\n",
    "\n",
    "quantitative_columns = [\n",
    "    \"TimeSpentOnCourse\", \"CompletionRate\", \"AverageTimeSpentPerVideo\",\n",
    "    \"AverageQuizScore\"\n",
    "]\n",
    "\n",
    "# Применяем проверку на нормальность для каждого столбца\n",
    "for col in quantitative_columns:\n",
    "    check_normality(df, col)"
   ]
  },
  {
   "cell_type": "markdown",
   "id": "4ee802bb-f5ce-4104-bc03-a4c56e0e50a4",
   "metadata": {},
   "source": [
    "#### Проверка нормальности выборочных средних"
   ]
  },
  {
   "cell_type": "code",
   "execution_count": 736,
   "id": "46316397-67d7-492a-991c-3bc5d4b77e56",
   "metadata": {},
   "outputs": [
    {
     "name": "stdout",
     "output_type": "stream",
     "text": [
      "Средние значения TimeSpentOnCourse распределены нормально (p = 0.99262)\n",
      "Средние значения CompletionRate распределены нормально (p = 0.80160)\n",
      "Средние значения AverageTimeSpentPerVideo распределены нормально (p = 0.24710)\n",
      "Средние значения AverageQuizScore распределены нормально (p = 0.19750)\n"
     ]
    }
   ],
   "source": [
    "# Функция для проверки нормальности выборочных средних\n",
    "def check_normality_of_means(df, group_column, value_column):\n",
    "    group_means = df.groupby(group_column)[value_column].mean().values\n",
    "    stat, p = shapiro(group_means)\n",
    "    if p > 0.05:\n",
    "        print(f\"Средние значения {value_column} распределены нормально (p = {p:.5f})\")\n",
    "    else:\n",
    "        print(f\"Средние значения {value_column} не распределены нормально (p = {p:.5f})\")\n",
    "\n",
    "group_column = \"CourseCategory\"\n",
    "quantitative_columns = [\n",
    "    \"TimeSpentOnCourse\", \"CompletionRate\", \"AverageTimeSpentPerVideo\",\n",
    "    \"AverageQuizScore\"\n",
    "]\n",
    "for col in quantitative_columns:\n",
    "    check_normality_of_means(df, group_column, col)"
   ]
  },
  {
   "cell_type": "code",
   "execution_count": 737,
   "id": "a525c1f6-d35b-480a-b6cc-0f1d76de078e",
   "metadata": {},
   "outputs": [
    {
     "data": {
      "text/plain": [
       "array(['Health', 'Arts', 'Science', 'Programming', 'Business'],\n",
       "      dtype=object)"
      ]
     },
     "execution_count": 737,
     "metadata": {},
     "output_type": "execute_result"
    }
   ],
   "source": [
    "df['CourseCategory'].unique()\n",
    "\n",
    "# 'Health', 'Arts', 'Science', 'Programming', 'Business'"
   ]
  },
  {
   "cell_type": "markdown",
   "id": "31afc057-005a-46b4-8fdd-ace0ce0053fc",
   "metadata": {},
   "source": [
    "Разделим аудиторию на сегменты по категории курса. Напомню: 'Health', 'Arts', 'Science', 'Programming', 'Business'"
   ]
  },
  {
   "cell_type": "markdown",
   "id": "53b43c89-9dd7-49e8-afca-6192023381e6",
   "metadata": {},
   "source": [
    "**Данные итак агрегированные, нет смысла в группировке - id повторяются только для одинаковых id при разных CourseCategory, то есть, если человек проходил, например, сразу два курса.**"
   ]
  },
  {
   "cell_type": "code",
   "execution_count": 740,
   "id": "18068dd7-62d8-47e6-95ab-657360d7ca27",
   "metadata": {},
   "outputs": [],
   "source": [
    "business_sample = df.query('CourseCategory == \"Business\"')\n",
    "\n",
    "health_sample = df.query('CourseCategory == \"Health\"')\n",
    "\n",
    "arts_sample = df.query('CourseCategory == \"Arts\"')\n",
    "\n",
    "science_sample = df.query('CourseCategory == \"Science\"')\n",
    "\n",
    "programming_sample = df.query('CourseCategory == \"Programming\"')"
   ]
  },
  {
   "cell_type": "markdown",
   "id": "a54c60df-bb9e-409e-b705-f75cffc11f16",
   "metadata": {},
   "source": [
    "### Тесты Стьюдента"
   ]
  },
  {
   "cell_type": "markdown",
   "id": "2440fe12-9422-4e82-8f75-d6ea439c8941",
   "metadata": {},
   "source": [
    "#### Для метрик CompletionRate, AverageTimeSpentPerVideo, AverageQuizScore для бизнеса и здоровья"
   ]
  },
  {
   "cell_type": "code",
   "execution_count": 743,
   "id": "a659ff7d-01c7-4b67-8a2e-4c51afc5fc91",
   "metadata": {},
   "outputs": [
    {
     "name": "stdout",
     "output_type": "stream",
     "text": [
      "T-test for CompletionRate: TtestResult(statistic=0.33529527740798365, pvalue=0.7374264903316772, df=2914.114787163707)\n",
      "T-test for AverageTimeSpentPerVideo: TtestResult(statistic=-0.06915344274766058, pvalue=0.9448722580615265, df=2894.7190063960043)\n",
      "T-test for AverageQuizScore: TtestResult(statistic=-0.500963075495507, pvalue=0.6164349533302822, df=2913.533533443174)\n"
     ]
    }
   ],
   "source": [
    "# T-тест для метрики CompletionRate\n",
    "ttest_completion_rate = ttest_ind(business_sample['CompletionRate'], \n",
    "                                  health_sample['CompletionRate'], \n",
    "                                  equal_var=False)\n",
    "\n",
    "# T-тест для метрики AverageTimeSpentPerVideo\n",
    "ttest_time_spent = ttest_ind(business_sample['AverageTimeSpentPerVideo'], \n",
    "                             health_sample['AverageTimeSpentPerVideo'], \n",
    "                             equal_var=False)\n",
    "\n",
    "# T-тест для метрики AverageQuizScore\n",
    "ttest_quiz_score = ttest_ind(business_sample['AverageQuizScore'], \n",
    "                             health_sample['AverageQuizScore'], \n",
    "                             equal_var=False)\n",
    "\n",
    "print(\"T-test for CompletionRate:\", ttest_completion_rate)\n",
    "print(\"T-test for AverageTimeSpentPerVideo:\", ttest_time_spent)\n",
    "print(\"T-test for AverageQuizScore:\", ttest_quiz_score)"
   ]
  },
  {
   "cell_type": "markdown",
   "id": "91662016-e527-4545-b0c6-5c7d5cdd2f74",
   "metadata": {},
   "source": [
    "### Манна-Уитни"
   ]
  },
  {
   "cell_type": "code",
   "execution_count": 745,
   "id": "4049371c-fb3b-4fbd-af38-7d39ce0f5a94",
   "metadata": {},
   "outputs": [
    {
     "name": "stdout",
     "output_type": "stream",
     "text": [
      "MW test p-value for CompletionRate: 0.81\n",
      "MW test p-value for AverageTimeSpentPerVideo: 0.8\n",
      "MW test p-value for AverageQuizScore: 0.63\n"
     ]
    }
   ],
   "source": [
    "# Тест Манна–Уитни для метрики CompletionRate\n",
    "_, p_value_completion_rate = mannwhitneyu(\n",
    "    business_sample['CompletionRate'],\n",
    "    health_sample['CompletionRate'],\n",
    "    alternative='two-sided'\n",
    ")\n",
    "\n",
    "# Тест Манна–Уитни для метрики AverageTimeSpentPerVideo\n",
    "_, p_value_time_spent = mannwhitneyu(\n",
    "    business_sample['AverageTimeSpentPerVideo'],\n",
    "    health_sample['AverageTimeSpentPerVideo'],\n",
    "    alternative='two-sided'\n",
    ")\n",
    "\n",
    "# Тест Манна–Уитни для метрики AverageQuizScore\n",
    "_, p_value_quiz_score = mannwhitneyu(\n",
    "    business_sample['AverageQuizScore'],\n",
    "    health_sample['AverageQuizScore'],\n",
    "    alternative='two-sided'\n",
    ")\n",
    "\n",
    "# Вывод результатов\n",
    "print(f'MW test p-value for CompletionRate: {p_value_completion_rate:.2}')\n",
    "print(f'MW test p-value for AverageTimeSpentPerVideo: {p_value_time_spent:.2}')\n",
    "print(f'MW test p-value for AverageQuizScore: {p_value_quiz_score:.2}')"
   ]
  },
  {
   "cell_type": "markdown",
   "id": "93ed839a-f5ac-4d80-bf42-37a551de737c",
   "metadata": {},
   "source": [
    "### Фишера "
   ]
  },
  {
   "cell_type": "code",
   "execution_count": 747,
   "id": "607cb1be-7e49-4364-99e4-de8af441fa78",
   "metadata": {},
   "outputs": [
    {
     "name": "stdout",
     "output_type": "stream",
     "text": [
      "One-Way ANOVA for CompletionRate: F_onewayResult(statistic=0.11249564308359532, pvalue=0.7373446538486835)\n",
      "One-Way ANOVA for AverageTimeSpentPerVideo: F_onewayResult(statistic=0.00478972542271924, pvalue=0.9448289164636621)\n",
      "One-Way ANOVA for AverageQuizScore: F_onewayResult(statistic=0.2511360796591948, pvalue=0.6163140112376218)\n"
     ]
    }
   ],
   "source": [
    "# ANOVA для метрики CompletionRate\n",
    "one_way_anova_completion_rate = f_oneway(business_sample['CompletionRate'],\n",
    "                                         health_sample['CompletionRate'])\n",
    "\n",
    "# ANOVA для метрики AverageTimeSpentPerVideo\n",
    "one_way_anova_time_spent = f_oneway(business_sample['AverageTimeSpentPerVideo'],\n",
    "                                    health_sample['AverageTimeSpentPerVideo'])\n",
    "\n",
    "# ANOVA для метрики AverageQuizScore\n",
    "one_way_anova_quiz_score = f_oneway(business_sample['AverageQuizScore'],\n",
    "                                    health_sample['AverageQuizScore'])\n",
    "\n",
    "print(\"One-Way ANOVA for CompletionRate:\", one_way_anova_completion_rate)\n",
    "print(\"One-Way ANOVA for AverageTimeSpentPerVideo:\", one_way_anova_time_spent)\n",
    "print(\"One-Way ANOVA for AverageQuizScore:\", one_way_anova_quiz_score)"
   ]
  },
  {
   "cell_type": "markdown",
   "id": "c1bd2c20-ab83-468a-b405-c3404d649ad8",
   "metadata": {},
   "source": [
    "### Сводный датафрейм"
   ]
  },
  {
   "cell_type": "markdown",
   "id": "bbc2c7e5-f560-4c96-949f-500e5667d174",
   "metadata": {},
   "source": [
    "| Метрика                     | T-test (p-value) | MW test (p-value) | ANOVA (p-value) |\n",
    "|-----------------------------|------------------|-------------------|-----------------|\n",
    "| **CompletionRate**          | 0.7374           | 0.81              | 0.7373          |\n",
    "| **AverageTimeSpentPerVideo**| 0.9449           | 0.8               | 0.9448          |\n",
    "| **AverageQuizScore**        | 0.6164           | 0.63              | 0.6163          |\n",
    "\n",
    "\n",
    "##### Выводы:\n",
    "- Не отвергаем $H_0$ о равенстве средних значений - T-test;\n",
    "- Не отвергаем $H_0$ о равенстве средних (наличии значимых отличий) - ANOVA;\n",
    "- Не отвергаем $H_0$ о равенстве функций распределения двух выборок - MW test."
   ]
  },
  {
   "cell_type": "markdown",
   "id": "4edb52e0-6f8c-460b-840f-7f4345b326f0",
   "metadata": {},
   "source": [
    "### 3. Для >=3 сегментов сделайте попарные сравнения через тест Стьюдента и тест Фишера. Проверьте, соотносятся ли результаты.  "
   ]
  },
  {
   "cell_type": "code",
   "execution_count": 751,
   "id": "5b4c7357-29d9-4145-8cb3-11e2d9fd6445",
   "metadata": {},
   "outputs": [],
   "source": [
    "segments1 = [business_sample['CompletionRate'], \n",
    "            health_sample['CompletionRate'], \n",
    "            arts_sample['CompletionRate'], \n",
    "            science_sample['CompletionRate'], \n",
    "            programming_sample['CompletionRate']] \n",
    "\n",
    "segments_df = ['business_sample', 'health_sample', 'arts_sample', 'science_sample', 'programming_sample']"
   ]
  },
  {
   "cell_type": "code",
   "execution_count": 752,
   "id": "cd278201-bc64-443e-8431-da6b7a30fd26",
   "metadata": {},
   "outputs": [
    {
     "name": "stdout",
     "output_type": "stream",
     "text": [
      "\n",
      "Сравнения с использованием теста Фишера (ANOVA):\n",
      "p-value = 0.4568418908215518\n"
     ]
    }
   ],
   "source": [
    "print(\"\\nСравнения с использованием теста Фишера (ANOVA):\")\n",
    "stat, p_value_f = f_oneway(*segments1)\n",
    "print(f\"p-value = {p_value_f}\")"
   ]
  },
  {
   "cell_type": "code",
   "execution_count": 753,
   "id": "49b3ddcb-65eb-42c1-aed3-7802c84758a1",
   "metadata": {},
   "outputs": [
    {
     "name": "stdout",
     "output_type": "stream",
     "text": [
      "\n",
      "Сравнения с использованием теста Фишера (ANOVA):\n",
      "p-value = 0.9977383847245813\n"
     ]
    }
   ],
   "source": [
    "segments2 = [business_sample['AverageTimeSpentPerVideo'], \n",
    "            health_sample['AverageTimeSpentPerVideo'], \n",
    "            arts_sample['AverageTimeSpentPerVideo'], \n",
    "            science_sample['AverageTimeSpentPerVideo'], \n",
    "            programming_sample['AverageTimeSpentPerVideo']] \n",
    "\n",
    "print(\"\\nСравнения с использованием теста Фишера (ANOVA):\")\n",
    "stat, p_value_f = f_oneway(*segments2)\n",
    "print(f\"p-value = {p_value_f}\")"
   ]
  },
  {
   "cell_type": "code",
   "execution_count": 754,
   "id": "8ce9429c-6f9c-427a-a30a-9e2e26cfea00",
   "metadata": {},
   "outputs": [
    {
     "name": "stdout",
     "output_type": "stream",
     "text": [
      "\n",
      "Сравнения с использованием теста Фишера (ANOVA):\n",
      "p-value = 0.6878786406030173\n"
     ]
    }
   ],
   "source": [
    "segments3 = [business_sample['AverageQuizScore'], \n",
    "            health_sample['AverageQuizScore'], \n",
    "            arts_sample['AverageQuizScore'], \n",
    "            science_sample['AverageQuizScore'], \n",
    "            programming_sample['AverageQuizScore']] \n",
    "\n",
    "print(\"\\nСравнения с использованием теста Фишера (ANOVA):\")\n",
    "stat, p_value_f = f_oneway(*segments3)\n",
    "print(f\"p-value = {p_value_f}\")"
   ]
  },
  {
   "cell_type": "code",
   "execution_count": 755,
   "id": "340159b7-9f40-4a87-8f83-644c01283df1",
   "metadata": {},
   "outputs": [
    {
     "name": "stdout",
     "output_type": "stream",
     "text": [
      "Сравнения с использованием теста Стьюдента:\n",
      "p-value = 1.0\n",
      "p-value = 0.7373446538487317\n",
      "p-value = 0.09300646155678881\n",
      "p-value = 0.20919023076848223\n",
      "p-value = 0.31010587745947604\n"
     ]
    }
   ],
   "source": [
    "df2 = [business_sample, health_sample, arts_sample, science_sample, programming_sample]\n",
    "\n",
    "print(\"Сравнения с использованием теста Стьюдента:\")\n",
    "for df in df2:\n",
    "    stat, p_val = ttest_ind(business_sample['CompletionRate'], df['CompletionRate'])\n",
    "    print(f\"p-value = {p_val}\")"
   ]
  },
  {
   "cell_type": "code",
   "execution_count": 756,
   "id": "ee2b237f-09fa-4606-8272-75e8ffb350a6",
   "metadata": {},
   "outputs": [
    {
     "name": "stdout",
     "output_type": "stream",
     "text": [
      "Сравнения с использованием теста Стьюдента:\n",
      "p-value = 1.0\n",
      "p-value = 0.9448289164633258\n",
      "p-value = 0.9962587396047133\n",
      "p-value = 0.8183279712259469\n",
      "p-value = 0.9036723159785547\n"
     ]
    }
   ],
   "source": [
    "df2 = [business_sample, health_sample, arts_sample, science_sample, programming_sample]\n",
    "\n",
    "print(\"Сравнения с использованием теста Стьюдента:\")\n",
    "for df in df2:\n",
    "    stat, p_val = ttest_ind(business_sample['AverageTimeSpentPerVideo'], df['AverageTimeSpentPerVideo'])\n",
    "    print(f\"p-value = {p_val}\")"
   ]
  },
  {
   "cell_type": "code",
   "execution_count": 757,
   "id": "ed1d67f8-690e-4de9-a291-e240ef871934",
   "metadata": {},
   "outputs": [
    {
     "name": "stdout",
     "output_type": "stream",
     "text": [
      "Сравнения с использованием теста Стьюдента:\n",
      "p-value = 1.0\n",
      "p-value = 0.6163140112379781\n",
      "p-value = 0.7925398715944233\n",
      "p-value = 0.17139485122587939\n",
      "p-value = 0.7370357138014573\n"
     ]
    }
   ],
   "source": [
    "df2 = [business_sample, health_sample, arts_sample, science_sample, programming_sample]\n",
    "\n",
    "print(\"Сравнения с использованием теста Стьюдента:\")\n",
    "for df in df2:\n",
    "    stat, p_val = ttest_ind(business_sample['AverageQuizScore'], df['AverageQuizScore'])\n",
    "    print(f\"p-value = {p_val}\")"
   ]
  },
  {
   "cell_type": "markdown",
   "id": "3d25a870-5708-46ec-87ab-a198325d1c75",
   "metadata": {},
   "source": [
    "#### Сводный датафрейм и выводы\n",
    "\n",
    "| **Метрика**                | **Метод анализа** | **p-value**                          |\r\n",
    "|----------------------------|-------------------|---------------------------------------|\r\n",
    "| **CompletionRate**         | ANOVA            | 0.4568                                |\r\n",
    "|                            | t-тест           | 1.0                                   |\r\n",
    "|                            |                  | 0.7373                                |\r\n",
    "|                            |                  | 0.0930                                |\r\n",
    "|                            |                  | 0.2092                                |\r\n",
    "|                            |                  | 0.3101                                |\r\n",
    "| **AverageTimeSpentPerVideo**| ANOVA            | 0.9977                                |\r\n",
    "|                            | t-тест           | 1.0                                   |\r\n",
    "|                            |                  | 0.9448                                |\r\n",
    "|                            |                  | 0.9963                                |\r\n",
    "|                            |                  | 0.8183                                |\r\n",
    "|                            |                  | 0.9037                                |\r\n",
    "| **AverageQuizScore**       | ANOVA            | 0.6879                                |\r\n",
    "|                            | t-тест           | 1.0                                   |\r\n",
    "|                            |                  | 0.6163                                |\r\n",
    "|                            |                  | 0.7925                                |\r\n",
    "|                            |                  | 0.1714                                |\r\n",
    "|                            |                  | 0.7370                                |\r\n"
   ]
  },
  {
   "cell_type": "markdown",
   "id": "11fc2bf9-08f3-49e0-81c5-f2d1ccf226ed",
   "metadata": {},
   "source": [
    "### Что-то у меня сомнения, что исходные данные слишком идеальные изначально; как будто бы не должны сегменты вести себя настолько схожим образом."
   ]
  },
  {
   "cell_type": "markdown",
   "id": "9b14ca95-a5c9-499f-8ab5-333f2a375813",
   "metadata": {},
   "source": [
    "### 4. Постройте точный и эфронов доверительные интервалы для выбранных метрик. Проверьте, соответствуют ли эти доверительные интервалы результатам теста Стьюдента.  \n"
   ]
  },
  {
   "cell_type": "markdown",
   "id": "b4120f87-3ee9-4331-bc99-54a22aa0685b",
   "metadata": {},
   "source": [
    "### Точный доверительный интервал для среднего значения (на базе t-критического значения)\n",
    "\n",
    "$$\n",
    "\\bar x \\pm t_{1 - \\frac{\\alpha}{2}} \\cdot \\sqrt{\\frac{\\hat s^2}{n}}.\n",
    "$$"
   ]
  },
  {
   "cell_type": "code",
   "execution_count": 762,
   "id": "c1f860bd-0a98-46c4-b667-f4fc61fdefbe",
   "metadata": {},
   "outputs": [
    {
     "name": "stdout",
     "output_type": "stream",
     "text": [
      "Доверительный интервал для CompletionRate [50.5664; 53.5814] ширины 3.0150\n",
      "Доверительный интервал для AverageTimeSpentPerVideo [7.6592; 8.9348] ширины 1.2755\n",
      "Доверительный интервал для AverageQuizScore [18.1887; 20.1781] ширины 1.9894\n"
     ]
    }
   ],
   "source": [
    "# Считались nan-ы, так как в данных нули. Собственно, ответ на вопрос в начале ноутбука...\n",
    "\n",
    "def calculate_confidence_interval(data, alpha=0.05):\n",
    "    data = np.array(data)\n",
    "    if len(data) == 0:\n",
    "        return np.nan, np.nan, np.nan\n",
    "    \n",
    "    n = len(data)\n",
    "    mean = np.mean(data)\n",
    "    var_hat = np.var(data, ddof=1) / n\n",
    "    t_crit = stats.t.ppf(1 - alpha / 2, df=n - 1)\n",
    "    margin_error = t_crit * np.sqrt(var_hat)\n",
    "    return mean - margin_error, mean + margin_error, 2 * margin_error\n",
    "\n",
    "# Для CompletionRate\n",
    "CompletionRate_df = df['CompletionRate']\n",
    "left, right, width = calculate_confidence_interval(CompletionRate_df)\n",
    "print(\"Доверительный интервал для CompletionRate [{:.4f}; {:.4f}] ширины {:.4f}\".format(left, right, width))\n",
    "\n",
    "# Для AverageTimeSpentPerVideo\n",
    "AverageTimeSpentPerVideo_df = df['AverageTimeSpentPerVideo']\n",
    "left, right, width = calculate_confidence_interval(AverageTimeSpentPerVideo_df)\n",
    "print(\"Доверительный интервал для AverageTimeSpentPerVideo [{:.4f}; {:.4f}] ширины {:.4f}\".format(left, right, width))\n",
    "\n",
    "# Для AverageQuizScore\n",
    "AverageQuizScore_df = df['AverageQuizScore']\n",
    "left, right, width = calculate_confidence_interval(AverageQuizScore_df)\n",
    "print(\"Доверительный интервал для AverageQuizScore [{:.4f}; {:.4f}] ширины {:.4f}\".format(left, right, width))"
   ]
  },
  {
   "cell_type": "markdown",
   "id": "ed163795-cbd6-49d8-9035-79513bf20f17",
   "metadata": {},
   "source": [
    "### Эфронов доверительный интервал (бутстрап)"
   ]
  },
  {
   "cell_type": "code",
   "execution_count": 764,
   "id": "caa57caa-532e-461a-bd06-82c6874ebb27",
   "metadata": {},
   "outputs": [],
   "source": [
    "np.random.seed(42)\n",
    "\n",
    "# Запустим бутстрап\n",
    "\n",
    "def bootstrap_mean(sample):\n",
    "    means_list = []\n",
    "    for _ in range(10000):\n",
    "        bs_sample = np.random.choice(sample, size=len(sample), replace=True)\n",
    "        means_list.append(bs_sample.mean())\n",
    "    return means_list"
   ]
  },
  {
   "cell_type": "code",
   "execution_count": 765,
   "id": "a13bc587-e32b-422b-86f4-15201bd3c121",
   "metadata": {},
   "outputs": [
    {
     "data": {
      "image/png": "[encoded data removed]",
      "text/plain": [
       "<Figure size 640x480 with 1 Axes>"
      ]
     },
     "metadata": {},
     "output_type": "display_data"
    },
    {
     "name": "stdout",
     "output_type": "stream",
     "text": [
      "95% доверительный интервал для CompletionRate_df: [50.54 53.57]\n"
     ]
    }
   ],
   "source": [
    "# Бутстрап для CompletionRate_df\n",
    "CompletionRate_df_means = bootstrap_mean(CompletionRate_df)\n",
    "sns.histplot(CompletionRate_df_means, kde=True)\n",
    "plt.title(\"Бутстрап-средние для CompletionRate_df\")\n",
    "plt.show()\n",
    "\n",
    "# Доверительный интервал для CompletionRate_df\n",
    "small_ci = np.percentile(CompletionRate_df_means, q=[2.5, 97.5]).round(2)\n",
    "print(f\"95% доверительный интервал для CompletionRate_df: {small_ci}\")"
   ]
  },
  {
   "cell_type": "code",
   "execution_count": 766,
   "id": "bd102df2-3a96-4307-9c53-84da0506e871",
   "metadata": {},
   "outputs": [
    {
     "data": {
      "image/png": "[encoded data removed]",
      "text/plain": [
       "<Figure size 640x480 with 1 Axes>"
      ]
     },
     "metadata": {},
     "output_type": "display_data"
    },
    {
     "name": "stdout",
     "output_type": "stream",
     "text": [
      "95% доверительный интервал для AverageTimeSpentPerVideo: [7.69 8.95]\n"
     ]
    }
   ],
   "source": [
    "# Бутстрап для AverageTimeSpentPerVideo\n",
    "AverageTimeSpentPerVideo_df = df['AverageTimeSpentPerVideo'].dropna().values\n",
    "AverageTimeSpentPerVideo_means = bootstrap_mean(AverageTimeSpentPerVideo_df)\n",
    "sns.histplot(AverageTimeSpentPerVideo_means, kde=True)\n",
    "plt.title(\"Бутстрап-средние для AverageTimeSpentPerVideo\")\n",
    "plt.show()\n",
    "\n",
    "# Доверительный интервал для AverageTimeSpentPerVideo\n",
    "small_ci = np.percentile(AverageTimeSpentPerVideo_means, q=[2.5, 97.5]).round(2)\n",
    "print(f\"95% доверительный интервал для AverageTimeSpentPerVideo: {small_ci}\")"
   ]
  },
  {
   "cell_type": "code",
   "execution_count": 767,
   "id": "887ee171-b237-42cd-b01a-3b97907dd170",
   "metadata": {},
   "outputs": [
    {
     "data": {
      "image/png": "[encoded data removed]",
      "text/plain": [
       "<Figure size 640x480 with 1 Axes>"
      ]
     },
     "metadata": {},
     "output_type": "display_data"
    },
    {
     "name": "stdout",
     "output_type": "stream",
     "text": [
      "95% доверительный интервал для AverageQuizScore_df: [18.21 20.2 ]\n"
     ]
    }
   ],
   "source": [
    "# Бутстрап для AverageQuizScore\n",
    "AverageQuizScore_df = df['AverageQuizScore'].dropna().values\n",
    "AverageQuizScore_means = bootstrap_mean(AverageQuizScore_df)\n",
    "sns.histplot(AverageQuizScore_means, kde=True)\n",
    "plt.title(\"Бутстрап-средние для AverageQuizScore\")\n",
    "plt.show()\n",
    "\n",
    "# Доверительный интервал для AverageQuizScore\n",
    "small_ci = np.percentile(AverageQuizScore_means, q=[2.5, 97.5]).round(2)\n",
    "print(f\"95% доверительный интервал для AverageQuizScore_df: {small_ci}\")"
   ]
  },
  {
   "cell_type": "markdown",
   "id": "ebabb49a-8b06-4980-bdc8-5e02127fe25c",
   "metadata": {},
   "source": [
    "### Сводная таблица\n",
    "\n",
    "| Метрика                     | Точный доверительный интервал            | Эфронов доверительный интервал (бутстрап) |\n",
    "|-----------------------------|------------------------------------------|------------------------------------------|\n",
    "| **CompletionRate**          | [50.5664; 53.5814], ширина: 3.0150       | [50.54; 53.57]                           |\n",
    "| **AverageTimeSpentPerVideo**| [7.6592; 8.9348], ширина: 1.2755         | [7.69; 8.95]                             |\n",
    "| **AverageQuizScore**        | [18.1887; 20.1781], ширина: 1.9894       | [18.21; 20.20]                           |\n"
   ]
  },
  {
   "cell_type": "markdown",
   "id": "9f92d40c-1ba3-4638-8808-f79d1405b826",
   "metadata": {},
   "source": [
    "### 5. Подумайте, можно ли использовать в пункте 2 другие стат. тесты. Приведите пару примеров."
   ]
  },
  {
   "cell_type": "markdown",
   "id": "f399a842-9abb-4de7-94bd-f980623d5b64",
   "metadata": {},
   "source": [
    "Во-первых, можно было проверить данные на нормальность не только с помощью теста Шапиро-Уилка, но и с помощью методов визуального анализа данных - попробовать оценить гистограммы или же QQ-plot.\n",
    "\n",
    "Во-вторых, говоря о других критериях, рациональным подходом могло бы быть использованания критерия Пирсона.\n",
    "\"Критерий $χ2$ Пирсона – непараметрический метод, который позволяет оценить значимость различий...\""
   ]
  }
 ],
 "metadata": {
  "kernelspec": {
   "display_name": "Python 3 (ipykernel)",
   "language": "python",
   "name": "python3"
  },
  "language_info": {
   "codemirror_mode": {
    "name": "ipython",
    "version": 3
   },
   "file_extension": ".py",
   "mimetype": "text/x-python",
   "name": "python",
   "nbconvert_exporter": "python",
   "pygments_lexer": "ipython3",
   "version": "3.12.4"
  }
 },
 "nbformat": 4,
 "nbformat_minor": 5
}
