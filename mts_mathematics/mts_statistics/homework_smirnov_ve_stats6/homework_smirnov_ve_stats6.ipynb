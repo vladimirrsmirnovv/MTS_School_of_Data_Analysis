{
 "cells": [
  {
   "cell_type": "markdown",
   "id": "7124fb97-800d-45ed-93a7-3bcadf2fd9c7",
   "metadata": {},
   "source": [
    "# **Математика - Домашнее задание 8**\n",
    "\n",
    "**Дедлайн:** 23:59, 27 января\n",
    "\n",
    "### **Задание:**\n",
    "\n",
    "Необходимо взять (или сгенерировать самому) датасет, в котором для достаточно большой целевой аудитории (абоненты или лояльные клиенты) представлены еженедельные метрики (тут на ваш выбор). Например, в течение 2-3 месяцев вы собирали, накапливали ваши данные. Далее используйте различные техники для проверки распределений ваших метрик (1 метрика - непрерывная, 2-я дискретная [можно взять бинарную]).\n",
    "\n",
    "**Пример.** У меня есть 1 миллион юзеров Киона. Собираю по ним метрики за 12 недель (суммарное время просмотра за каждую неделю и флаг просмотра хотя бы одного фильма из какой-то категории). Далее сравниваем распределения метрик в динамике по разным неделям и делаем выводы о появлении отклонения (распределение начало изменяться или нет). Можно использовать техники, предложенные на занятии.\n",
    "\n",
    "**Для получения зачета необходимо:**\n",
    "\n",
    "**Зачет на 4:** рассмотрена только 1 метрика с незначительными замечаниями\n",
    "\n",
    "**Зачет на 5:** рассмотрена непрерывная и дискретная метрика с незначительными замечаниями"
   ]
  },
  {
   "cell_type": "markdown",
   "id": "db6e90c4-a067-4f3e-9222-9130e0722741",
   "metadata": {},
   "source": [
    "#### Библиотеки"
   ]
  },
  {
   "cell_type": "code",
   "execution_count": 3,
   "id": "07492d2b-cf2c-4965-870d-71839ef45549",
   "metadata": {},
   "outputs": [],
   "source": [
    "import numpy as np\n",
    "import pandas as pd\n",
    "import math\n",
    "import matplotlib.pyplot as plt\n",
    "import seaborn as sns\n",
    "import scipy\n",
    "import scipy.stats as sts\n",
    "from scipy import stats\n",
    "from sklearn.preprocessing import LabelEncoder\n",
    "\n",
    "# Настройка стиля\n",
    "plt.style.use('classic')\n",
    "palette = sns.color_palette(\"husl\", 8)\n",
    "%matplotlib inline"
   ]
  },
  {
   "cell_type": "markdown",
   "id": "438ef895-8eec-46b9-affa-85e1c8c97fb6",
   "metadata": {},
   "source": [
    "## Подготовка данных"
   ]
  },
  {
   "cell_type": "markdown",
   "id": "1dbd32d6-68bf-4daf-b810-6ee53402d152",
   "metadata": {},
   "source": [
    "#### **RecSys Course Competition**\n",
    "\n",
    "[Link](https://ods.ai/competitions/competition-recsys-21)\n",
    "\n",
    "Долго сомневался, можно ли брать или нет, так как Kion, но увидел, что коллеги используют, поэтому все-таки решился.\n",
    "\n",
    "Вам предоставлены данные из приложения МТС Kion по взаимодействиям пользователей с контентом за период 6 месяцев.\n",
    "В отдельных файлах есть:\n",
    "\n",
    "- факты просмотра контента пользователями\n",
    "- описание контента\n",
    "- описание пользователей"
   ]
  },
  {
   "cell_type": "code",
   "execution_count": 6,
   "id": "d8469048-d3ae-49e8-8b8b-051ff4ee52d4",
   "metadata": {},
   "outputs": [],
   "source": [
    "df_interactions = pd.read_csv('interactions.csv')\n",
    "df_items = pd.read_csv('items.csv')\n",
    "df_users = pd.read_csv('users.csv')"
   ]
  },
  {
   "cell_type": "code",
   "execution_count": 7,
   "id": "daf72520-41fe-4eb0-b9dc-58842246e3b5",
   "metadata": {},
   "outputs": [
    {
     "data": {
      "text/html": [
       "<div>\n",
       "<style scoped>\n",
       "    .dataframe tbody tr th:only-of-type {\n",
       "        vertical-align: middle;\n",
       "    }\n",
       "\n",
       "    .dataframe tbody tr th {\n",
       "        vertical-align: top;\n",
       "    }\n",
       "\n",
       "    .dataframe thead th {\n",
       "        text-align: right;\n",
       "    }\n",
       "</style>\n",
       "<table border=\"1\" class=\"dataframe\">\n",
       "  <thead>\n",
       "    <tr style=\"text-align: right;\">\n",
       "      <th></th>\n",
       "      <th>user_id</th>\n",
       "      <th>item_id</th>\n",
       "      <th>last_watch_dt</th>\n",
       "      <th>total_dur</th>\n",
       "      <th>watched_pct</th>\n",
       "    </tr>\n",
       "  </thead>\n",
       "  <tbody>\n",
       "    <tr>\n",
       "      <th>0</th>\n",
       "      <td>176549</td>\n",
       "      <td>9506</td>\n",
       "      <td>2021-05-11</td>\n",
       "      <td>4250</td>\n",
       "      <td>72.0</td>\n",
       "    </tr>\n",
       "    <tr>\n",
       "      <th>1</th>\n",
       "      <td>699317</td>\n",
       "      <td>1659</td>\n",
       "      <td>2021-05-29</td>\n",
       "      <td>8317</td>\n",
       "      <td>100.0</td>\n",
       "    </tr>\n",
       "    <tr>\n",
       "      <th>2</th>\n",
       "      <td>656683</td>\n",
       "      <td>7107</td>\n",
       "      <td>2021-05-09</td>\n",
       "      <td>10</td>\n",
       "      <td>0.0</td>\n",
       "    </tr>\n",
       "    <tr>\n",
       "      <th>3</th>\n",
       "      <td>864613</td>\n",
       "      <td>7638</td>\n",
       "      <td>2021-07-05</td>\n",
       "      <td>14483</td>\n",
       "      <td>100.0</td>\n",
       "    </tr>\n",
       "    <tr>\n",
       "      <th>4</th>\n",
       "      <td>964868</td>\n",
       "      <td>9506</td>\n",
       "      <td>2021-04-30</td>\n",
       "      <td>6725</td>\n",
       "      <td>100.0</td>\n",
       "    </tr>\n",
       "  </tbody>\n",
       "</table>\n",
       "</div>"
      ],
      "text/plain": [
       "   user_id  item_id last_watch_dt  total_dur  watched_pct\n",
       "0   176549     9506    2021-05-11       4250         72.0\n",
       "1   699317     1659    2021-05-29       8317        100.0\n",
       "2   656683     7107    2021-05-09         10          0.0\n",
       "3   864613     7638    2021-07-05      14483        100.0\n",
       "4   964868     9506    2021-04-30       6725        100.0"
      ]
     },
     "execution_count": 7,
     "metadata": {},
     "output_type": "execute_result"
    }
   ],
   "source": [
    "df_interactions.head()"
   ]
  },
  {
   "cell_type": "code",
   "execution_count": 8,
   "id": "bb8ce51d-604a-456a-b81a-b4dcfa23284b",
   "metadata": {},
   "outputs": [],
   "source": [
    "df_users = df_users.drop(['sex', 'kids_flg'], axis=1)\n",
    "df_items = df_items.drop(['title', 'title_orig', 'genres', 'countries', 'for_kids', 'age_rating', 'studios', \n",
    "                                 'directors', 'actors', 'keywords', 'description', 'release_year', 'content_type'], axis=1)"
   ]
  },
  {
   "cell_type": "code",
   "execution_count": 9,
   "id": "a6b986e2-a650-4628-8b09-37d79e1a91f2",
   "metadata": {},
   "outputs": [],
   "source": [
    "df_merged = df_interactions.merge(df_items, how='left', on='item_id')"
   ]
  },
  {
   "cell_type": "code",
   "execution_count": 10,
   "id": "1825133c-33f6-45c7-b728-dab45287cfb0",
   "metadata": {},
   "outputs": [
    {
     "data": {
      "text/html": [
       "<div>\n",
       "<style scoped>\n",
       "    .dataframe tbody tr th:only-of-type {\n",
       "        vertical-align: middle;\n",
       "    }\n",
       "\n",
       "    .dataframe tbody tr th {\n",
       "        vertical-align: top;\n",
       "    }\n",
       "\n",
       "    .dataframe thead th {\n",
       "        text-align: right;\n",
       "    }\n",
       "</style>\n",
       "<table border=\"1\" class=\"dataframe\">\n",
       "  <thead>\n",
       "    <tr style=\"text-align: right;\">\n",
       "      <th></th>\n",
       "      <th>user_id</th>\n",
       "      <th>item_id</th>\n",
       "      <th>last_watch_dt</th>\n",
       "      <th>total_dur</th>\n",
       "      <th>watched_pct</th>\n",
       "    </tr>\n",
       "  </thead>\n",
       "  <tbody>\n",
       "    <tr>\n",
       "      <th>0</th>\n",
       "      <td>176549</td>\n",
       "      <td>9506</td>\n",
       "      <td>2021-05-11</td>\n",
       "      <td>4250</td>\n",
       "      <td>72.0</td>\n",
       "    </tr>\n",
       "    <tr>\n",
       "      <th>1</th>\n",
       "      <td>699317</td>\n",
       "      <td>1659</td>\n",
       "      <td>2021-05-29</td>\n",
       "      <td>8317</td>\n",
       "      <td>100.0</td>\n",
       "    </tr>\n",
       "    <tr>\n",
       "      <th>2</th>\n",
       "      <td>656683</td>\n",
       "      <td>7107</td>\n",
       "      <td>2021-05-09</td>\n",
       "      <td>10</td>\n",
       "      <td>0.0</td>\n",
       "    </tr>\n",
       "    <tr>\n",
       "      <th>3</th>\n",
       "      <td>864613</td>\n",
       "      <td>7638</td>\n",
       "      <td>2021-07-05</td>\n",
       "      <td>14483</td>\n",
       "      <td>100.0</td>\n",
       "    </tr>\n",
       "    <tr>\n",
       "      <th>4</th>\n",
       "      <td>964868</td>\n",
       "      <td>9506</td>\n",
       "      <td>2021-04-30</td>\n",
       "      <td>6725</td>\n",
       "      <td>100.0</td>\n",
       "    </tr>\n",
       "  </tbody>\n",
       "</table>\n",
       "</div>"
      ],
      "text/plain": [
       "   user_id  item_id last_watch_dt  total_dur  watched_pct\n",
       "0   176549     9506    2021-05-11       4250         72.0\n",
       "1   699317     1659    2021-05-29       8317        100.0\n",
       "2   656683     7107    2021-05-09         10          0.0\n",
       "3   864613     7638    2021-07-05      14483        100.0\n",
       "4   964868     9506    2021-04-30       6725        100.0"
      ]
     },
     "execution_count": 10,
     "metadata": {},
     "output_type": "execute_result"
    }
   ],
   "source": [
    "df_merged.head()"
   ]
  },
  {
   "cell_type": "code",
   "execution_count": 11,
   "id": "6a7cf485-09b9-4555-9620-d093bdabfee2",
   "metadata": {},
   "outputs": [],
   "source": [
    "df_merged = df_merged.drop(['item_id'], axis=1)\n",
    "df_merged = df_merged.dropna()\n",
    "df = df_merged"
   ]
  },
  {
   "cell_type": "markdown",
   "id": "c277da13-36b4-415e-840f-9047f6c66fd0",
   "metadata": {},
   "source": [
    "#### Деление по неделям "
   ]
  },
  {
   "cell_type": "code",
   "execution_count": 13,
   "id": "1019effb-48bd-4594-b4f7-bc00ee249680",
   "metadata": {},
   "outputs": [
    {
     "data": {
      "text/html": [
       "<div>\n",
       "<style scoped>\n",
       "    .dataframe tbody tr th:only-of-type {\n",
       "        vertical-align: middle;\n",
       "    }\n",
       "\n",
       "    .dataframe tbody tr th {\n",
       "        vertical-align: top;\n",
       "    }\n",
       "\n",
       "    .dataframe thead th {\n",
       "        text-align: right;\n",
       "    }\n",
       "</style>\n",
       "<table border=\"1\" class=\"dataframe\">\n",
       "  <thead>\n",
       "    <tr style=\"text-align: right;\">\n",
       "      <th></th>\n",
       "      <th>user_id</th>\n",
       "      <th>last_watch_dt</th>\n",
       "      <th>total_dur</th>\n",
       "      <th>watched_pct</th>\n",
       "    </tr>\n",
       "  </thead>\n",
       "  <tbody>\n",
       "    <tr>\n",
       "      <th>0</th>\n",
       "      <td>176549</td>\n",
       "      <td>2021-05-11</td>\n",
       "      <td>4250</td>\n",
       "      <td>72.0</td>\n",
       "    </tr>\n",
       "    <tr>\n",
       "      <th>1</th>\n",
       "      <td>699317</td>\n",
       "      <td>2021-05-29</td>\n",
       "      <td>8317</td>\n",
       "      <td>100.0</td>\n",
       "    </tr>\n",
       "    <tr>\n",
       "      <th>2</th>\n",
       "      <td>656683</td>\n",
       "      <td>2021-05-09</td>\n",
       "      <td>10</td>\n",
       "      <td>0.0</td>\n",
       "    </tr>\n",
       "    <tr>\n",
       "      <th>3</th>\n",
       "      <td>864613</td>\n",
       "      <td>2021-07-05</td>\n",
       "      <td>14483</td>\n",
       "      <td>100.0</td>\n",
       "    </tr>\n",
       "    <tr>\n",
       "      <th>4</th>\n",
       "      <td>964868</td>\n",
       "      <td>2021-04-30</td>\n",
       "      <td>6725</td>\n",
       "      <td>100.0</td>\n",
       "    </tr>\n",
       "  </tbody>\n",
       "</table>\n",
       "</div>"
      ],
      "text/plain": [
       "   user_id last_watch_dt  total_dur  watched_pct\n",
       "0   176549    2021-05-11       4250         72.0\n",
       "1   699317    2021-05-29       8317        100.0\n",
       "2   656683    2021-05-09         10          0.0\n",
       "3   864613    2021-07-05      14483        100.0\n",
       "4   964868    2021-04-30       6725        100.0"
      ]
     },
     "execution_count": 13,
     "metadata": {},
     "output_type": "execute_result"
    }
   ],
   "source": [
    "df.head()"
   ]
  },
  {
   "cell_type": "code",
   "execution_count": 14,
   "id": "4cdcd497-2fb3-4c72-a4f6-0458e29d617f",
   "metadata": {},
   "outputs": [],
   "source": [
    "df['last_watch_dt'] = pd.to_datetime(df['last_watch_dt'])\n",
    "\n",
    "df['week'] = df['last_watch_dt'].dt.strftime('%Y-%U')\n",
    "\n",
    "grouped = df.groupby(['week', 'user_id']).agg({\n",
    "    'total_dur': 'sum',\n",
    "    'watched_pct': 'mean'})"
   ]
  },
  {
   "cell_type": "code",
   "execution_count": 15,
   "id": "bbffa92d-d9e5-4c36-a9ef-fe82b981e625",
   "metadata": {},
   "outputs": [
    {
     "data": {
      "text/html": [
       "<div>\n",
       "<style scoped>\n",
       "    .dataframe tbody tr th:only-of-type {\n",
       "        vertical-align: middle;\n",
       "    }\n",
       "\n",
       "    .dataframe tbody tr th {\n",
       "        vertical-align: top;\n",
       "    }\n",
       "\n",
       "    .dataframe thead th {\n",
       "        text-align: right;\n",
       "    }\n",
       "</style>\n",
       "<table border=\"1\" class=\"dataframe\">\n",
       "  <thead>\n",
       "    <tr style=\"text-align: right;\">\n",
       "      <th></th>\n",
       "      <th>week</th>\n",
       "      <th>user_id</th>\n",
       "      <th>total_dur</th>\n",
       "      <th>watched_pct</th>\n",
       "    </tr>\n",
       "  </thead>\n",
       "  <tbody>\n",
       "    <tr>\n",
       "      <th>0</th>\n",
       "      <td>2021-10</td>\n",
       "      <td>46</td>\n",
       "      <td>10647</td>\n",
       "      <td>12.000000</td>\n",
       "    </tr>\n",
       "    <tr>\n",
       "      <th>1</th>\n",
       "      <td>2021-10</td>\n",
       "      <td>82</td>\n",
       "      <td>5661</td>\n",
       "      <td>79.000000</td>\n",
       "    </tr>\n",
       "    <tr>\n",
       "      <th>2</th>\n",
       "      <td>2021-10</td>\n",
       "      <td>83</td>\n",
       "      <td>1222</td>\n",
       "      <td>18.000000</td>\n",
       "    </tr>\n",
       "    <tr>\n",
       "      <th>3</th>\n",
       "      <td>2021-10</td>\n",
       "      <td>133</td>\n",
       "      <td>960</td>\n",
       "      <td>4.666667</td>\n",
       "    </tr>\n",
       "    <tr>\n",
       "      <th>4</th>\n",
       "      <td>2021-10</td>\n",
       "      <td>571</td>\n",
       "      <td>2741</td>\n",
       "      <td>56.000000</td>\n",
       "    </tr>\n",
       "  </tbody>\n",
       "</table>\n",
       "</div>"
      ],
      "text/plain": [
       "      week  user_id  total_dur  watched_pct\n",
       "0  2021-10       46      10647    12.000000\n",
       "1  2021-10       82       5661    79.000000\n",
       "2  2021-10       83       1222    18.000000\n",
       "3  2021-10      133        960     4.666667\n",
       "4  2021-10      571       2741    56.000000"
      ]
     },
     "execution_count": 15,
     "metadata": {},
     "output_type": "execute_result"
    }
   ],
   "source": [
    "grouped_reset = grouped.reset_index()\n",
    "grouped_reset.head()"
   ]
  },
  {
   "cell_type": "code",
   "execution_count": 16,
   "id": "c763c1fd-6c1d-4e33-bbb9-7f34f44f8839",
   "metadata": {},
   "outputs": [
    {
     "data": {
      "text/html": [
       "<div>\n",
       "<style scoped>\n",
       "    .dataframe tbody tr th:only-of-type {\n",
       "        vertical-align: middle;\n",
       "    }\n",
       "\n",
       "    .dataframe tbody tr th {\n",
       "        vertical-align: top;\n",
       "    }\n",
       "\n",
       "    .dataframe thead th {\n",
       "        text-align: right;\n",
       "    }\n",
       "</style>\n",
       "<table border=\"1\" class=\"dataframe\">\n",
       "  <thead>\n",
       "    <tr style=\"text-align: right;\">\n",
       "      <th></th>\n",
       "      <th>week</th>\n",
       "      <th>user_id</th>\n",
       "      <th>total_dur</th>\n",
       "      <th>watched_pct</th>\n",
       "      <th>age</th>\n",
       "      <th>income</th>\n",
       "    </tr>\n",
       "  </thead>\n",
       "  <tbody>\n",
       "    <tr>\n",
       "      <th>0</th>\n",
       "      <td>2021-10</td>\n",
       "      <td>46</td>\n",
       "      <td>10647</td>\n",
       "      <td>12.000000</td>\n",
       "      <td>age_25_34</td>\n",
       "      <td>income_20_40</td>\n",
       "    </tr>\n",
       "    <tr>\n",
       "      <th>1</th>\n",
       "      <td>2021-10</td>\n",
       "      <td>82</td>\n",
       "      <td>5661</td>\n",
       "      <td>79.000000</td>\n",
       "      <td>age_25_34</td>\n",
       "      <td>income_40_60</td>\n",
       "    </tr>\n",
       "    <tr>\n",
       "      <th>2</th>\n",
       "      <td>2021-10</td>\n",
       "      <td>83</td>\n",
       "      <td>1222</td>\n",
       "      <td>18.000000</td>\n",
       "      <td>age_45_54</td>\n",
       "      <td>income_90_150</td>\n",
       "    </tr>\n",
       "    <tr>\n",
       "      <th>3</th>\n",
       "      <td>2021-10</td>\n",
       "      <td>133</td>\n",
       "      <td>960</td>\n",
       "      <td>4.666667</td>\n",
       "      <td>age_25_34</td>\n",
       "      <td>income_40_60</td>\n",
       "    </tr>\n",
       "    <tr>\n",
       "      <th>4</th>\n",
       "      <td>2021-10</td>\n",
       "      <td>571</td>\n",
       "      <td>2741</td>\n",
       "      <td>56.000000</td>\n",
       "      <td>age_25_34</td>\n",
       "      <td>income_40_60</td>\n",
       "    </tr>\n",
       "    <tr>\n",
       "      <th>...</th>\n",
       "      <td>...</td>\n",
       "      <td>...</td>\n",
       "      <td>...</td>\n",
       "      <td>...</td>\n",
       "      <td>...</td>\n",
       "      <td>...</td>\n",
       "    </tr>\n",
       "    <tr>\n",
       "      <th>2351707</th>\n",
       "      <td>2021-34</td>\n",
       "      <td>1097479</td>\n",
       "      <td>10993</td>\n",
       "      <td>1.000000</td>\n",
       "      <td>age_18_24</td>\n",
       "      <td>income_20_40</td>\n",
       "    </tr>\n",
       "    <tr>\n",
       "      <th>2351708</th>\n",
       "      <td>2021-34</td>\n",
       "      <td>1097502</td>\n",
       "      <td>1387</td>\n",
       "      <td>12.000000</td>\n",
       "      <td>age_18_24</td>\n",
       "      <td>income_20_40</td>\n",
       "    </tr>\n",
       "    <tr>\n",
       "      <th>2351709</th>\n",
       "      <td>2021-34</td>\n",
       "      <td>1097508</td>\n",
       "      <td>2464</td>\n",
       "      <td>4.500000</td>\n",
       "      <td>age_18_24</td>\n",
       "      <td>income_40_60</td>\n",
       "    </tr>\n",
       "    <tr>\n",
       "      <th>2351710</th>\n",
       "      <td>2021-34</td>\n",
       "      <td>1097521</td>\n",
       "      <td>1577</td>\n",
       "      <td>35.000000</td>\n",
       "      <td>age_25_34</td>\n",
       "      <td>income_20_40</td>\n",
       "    </tr>\n",
       "    <tr>\n",
       "      <th>2351711</th>\n",
       "      <td>2021-34</td>\n",
       "      <td>1097525</td>\n",
       "      <td>15</td>\n",
       "      <td>0.000000</td>\n",
       "      <td>age_25_34</td>\n",
       "      <td>income_40_60</td>\n",
       "    </tr>\n",
       "  </tbody>\n",
       "</table>\n",
       "<p>2351712 rows × 6 columns</p>\n",
       "</div>"
      ],
      "text/plain": [
       "            week  user_id  total_dur  watched_pct        age         income\n",
       "0        2021-10       46      10647    12.000000  age_25_34   income_20_40\n",
       "1        2021-10       82       5661    79.000000  age_25_34   income_40_60\n",
       "2        2021-10       83       1222    18.000000  age_45_54  income_90_150\n",
       "3        2021-10      133        960     4.666667  age_25_34   income_40_60\n",
       "4        2021-10      571       2741    56.000000  age_25_34   income_40_60\n",
       "...          ...      ...        ...          ...        ...            ...\n",
       "2351707  2021-34  1097479      10993     1.000000  age_18_24   income_20_40\n",
       "2351708  2021-34  1097502       1387    12.000000  age_18_24   income_20_40\n",
       "2351709  2021-34  1097508       2464     4.500000  age_18_24   income_40_60\n",
       "2351710  2021-34  1097521       1577    35.000000  age_25_34   income_20_40\n",
       "2351711  2021-34  1097525         15     0.000000  age_25_34   income_40_60\n",
       "\n",
       "[2351712 rows x 6 columns]"
      ]
     },
     "execution_count": 16,
     "metadata": {},
     "output_type": "execute_result"
    }
   ],
   "source": [
    "df = grouped_reset.merge(df_users, how='left', on='user_id')\n",
    "df"
   ]
  },
  {
   "cell_type": "code",
   "execution_count": 17,
   "id": "7a13e843-75bf-4783-b643-60b7b051025e",
   "metadata": {},
   "outputs": [],
   "source": [
    "df = df.dropna()"
   ]
  },
  {
   "cell_type": "code",
   "execution_count": 18,
   "id": "3d5ca2f8-066a-4a04-bb7c-c8961e4166c3",
   "metadata": {},
   "outputs": [
    {
     "data": {
      "text/plain": [
       "week           0\n",
       "user_id        0\n",
       "total_dur      0\n",
       "watched_pct    0\n",
       "age            0\n",
       "income         0\n",
       "dtype: int64"
      ]
     },
     "execution_count": 18,
     "metadata": {},
     "output_type": "execute_result"
    }
   ],
   "source": [
    "# Проверю пропуски\n",
    "pd.isnull(df).sum()"
   ]
  },
  {
   "cell_type": "code",
   "execution_count": 19,
   "id": "d6793076-9395-48d1-87f9-3f87abef2c13",
   "metadata": {},
   "outputs": [
    {
     "data": {
      "text/plain": [
       "week            object\n",
       "user_id          int64\n",
       "total_dur        int64\n",
       "watched_pct    float64\n",
       "age             object\n",
       "income          object\n",
       "dtype: object"
      ]
     },
     "execution_count": 19,
     "metadata": {},
     "output_type": "execute_result"
    }
   ],
   "source": [
    "# Проверка типов данных\n",
    "df.dtypes"
   ]
  },
  {
   "cell_type": "code",
   "execution_count": 20,
   "id": "bc4e9653-7099-43f2-9e51-5a39442cda03",
   "metadata": {},
   "outputs": [
    {
     "data": {
      "text/plain": [
       "array(['age_25_34', 'age_45_54', 'age_35_44', 'age_18_24', 'age_55_64',\n",
       "       'age_65_inf'], dtype=object)"
      ]
     },
     "execution_count": 20,
     "metadata": {},
     "output_type": "execute_result"
    }
   ],
   "source": [
    "df['age'].unique()\n",
    "\n",
    "# array(['age_25_34', 'age_45_54', 'age_35_44', 'age_18_24', 'age_55_64',\n",
    "#        'age_65_inf'], dtype=object)"
   ]
  },
  {
   "cell_type": "markdown",
   "id": "9a5a1430-00f2-42e5-801c-ec45764dc7a0",
   "metadata": {},
   "source": [
    "Закодирую возраст стандартно Label Encoder - так как в целом мы не переживаем, что данные по возрастным группам приобретут некий смысл возрастани"
   ]
  },
  {
   "cell_type": "code",
   "execution_count": 22,
   "id": "0ea3896c-0f50-4d94-957d-5fc4bac6715e",
   "metadata": {},
   "outputs": [
    {
     "data": {
      "text/html": [
       "<div>\n",
       "<style scoped>\n",
       "    .dataframe tbody tr th:only-of-type {\n",
       "        vertical-align: middle;\n",
       "    }\n",
       "\n",
       "    .dataframe tbody tr th {\n",
       "        vertical-align: top;\n",
       "    }\n",
       "\n",
       "    .dataframe thead th {\n",
       "        text-align: right;\n",
       "    }\n",
       "</style>\n",
       "<table border=\"1\" class=\"dataframe\">\n",
       "  <thead>\n",
       "    <tr style=\"text-align: right;\">\n",
       "      <th></th>\n",
       "      <th>age</th>\n",
       "      <th>age_encoded</th>\n",
       "    </tr>\n",
       "  </thead>\n",
       "  <tbody>\n",
       "    <tr>\n",
       "      <th>3</th>\n",
       "      <td>age_18_24</td>\n",
       "      <td>0</td>\n",
       "    </tr>\n",
       "    <tr>\n",
       "      <th>0</th>\n",
       "      <td>age_25_34</td>\n",
       "      <td>1</td>\n",
       "    </tr>\n",
       "    <tr>\n",
       "      <th>2</th>\n",
       "      <td>age_35_44</td>\n",
       "      <td>2</td>\n",
       "    </tr>\n",
       "    <tr>\n",
       "      <th>1</th>\n",
       "      <td>age_45_54</td>\n",
       "      <td>3</td>\n",
       "    </tr>\n",
       "    <tr>\n",
       "      <th>4</th>\n",
       "      <td>age_55_64</td>\n",
       "      <td>4</td>\n",
       "    </tr>\n",
       "    <tr>\n",
       "      <th>5</th>\n",
       "      <td>age_65_inf</td>\n",
       "      <td>5</td>\n",
       "    </tr>\n",
       "  </tbody>\n",
       "</table>\n",
       "</div>"
      ],
      "text/plain": [
       "          age  age_encoded\n",
       "3   age_18_24            0\n",
       "0   age_25_34            1\n",
       "2   age_35_44            2\n",
       "1   age_45_54            3\n",
       "4   age_55_64            4\n",
       "5  age_65_inf            5"
      ]
     },
     "execution_count": 22,
     "metadata": {},
     "output_type": "execute_result"
    }
   ],
   "source": [
    "age_categories = np.array(['age_25_34', 'age_45_54', 'age_35_44', 'age_18_24', \n",
    "                           'age_55_64', 'age_65_inf'])\n",
    "\n",
    "label_encoder = LabelEncoder()\n",
    "encoded_ages = label_encoder.fit_transform(age_categories)\n",
    "\n",
    "df_age = pd.DataFrame({'age': age_categories})\n",
    "\n",
    "# Кодирование\n",
    "df_age['age_encoded'] = label_encoder.transform(df_age['age'])\n",
    "df_age = df_age.sort_values(by=['age_encoded'], ascending=True)\n",
    "df_age"
   ]
  },
  {
   "cell_type": "code",
   "execution_count": 23,
   "id": "f6848b87-cfa3-41a5-b154-49dc9728e0f1",
   "metadata": {},
   "outputs": [
    {
     "data": {
      "text/html": [
       "<div>\n",
       "<style scoped>\n",
       "    .dataframe tbody tr th:only-of-type {\n",
       "        vertical-align: middle;\n",
       "    }\n",
       "\n",
       "    .dataframe tbody tr th {\n",
       "        vertical-align: top;\n",
       "    }\n",
       "\n",
       "    .dataframe thead th {\n",
       "        text-align: right;\n",
       "    }\n",
       "</style>\n",
       "<table border=\"1\" class=\"dataframe\">\n",
       "  <thead>\n",
       "    <tr style=\"text-align: right;\">\n",
       "      <th></th>\n",
       "      <th>week</th>\n",
       "      <th>user_id</th>\n",
       "      <th>total_dur</th>\n",
       "      <th>watched_pct</th>\n",
       "      <th>age</th>\n",
       "      <th>income</th>\n",
       "      <th>age_encoded</th>\n",
       "    </tr>\n",
       "  </thead>\n",
       "  <tbody>\n",
       "    <tr>\n",
       "      <th>0</th>\n",
       "      <td>2021-10</td>\n",
       "      <td>46</td>\n",
       "      <td>10647</td>\n",
       "      <td>12.000000</td>\n",
       "      <td>age_25_34</td>\n",
       "      <td>income_20_40</td>\n",
       "      <td>1</td>\n",
       "    </tr>\n",
       "    <tr>\n",
       "      <th>1</th>\n",
       "      <td>2021-10</td>\n",
       "      <td>82</td>\n",
       "      <td>5661</td>\n",
       "      <td>79.000000</td>\n",
       "      <td>age_25_34</td>\n",
       "      <td>income_40_60</td>\n",
       "      <td>1</td>\n",
       "    </tr>\n",
       "    <tr>\n",
       "      <th>2</th>\n",
       "      <td>2021-10</td>\n",
       "      <td>83</td>\n",
       "      <td>1222</td>\n",
       "      <td>18.000000</td>\n",
       "      <td>age_45_54</td>\n",
       "      <td>income_90_150</td>\n",
       "      <td>3</td>\n",
       "    </tr>\n",
       "    <tr>\n",
       "      <th>3</th>\n",
       "      <td>2021-10</td>\n",
       "      <td>133</td>\n",
       "      <td>960</td>\n",
       "      <td>4.666667</td>\n",
       "      <td>age_25_34</td>\n",
       "      <td>income_40_60</td>\n",
       "      <td>1</td>\n",
       "    </tr>\n",
       "    <tr>\n",
       "      <th>4</th>\n",
       "      <td>2021-10</td>\n",
       "      <td>571</td>\n",
       "      <td>2741</td>\n",
       "      <td>56.000000</td>\n",
       "      <td>age_25_34</td>\n",
       "      <td>income_40_60</td>\n",
       "      <td>1</td>\n",
       "    </tr>\n",
       "    <tr>\n",
       "      <th>...</th>\n",
       "      <td>...</td>\n",
       "      <td>...</td>\n",
       "      <td>...</td>\n",
       "      <td>...</td>\n",
       "      <td>...</td>\n",
       "      <td>...</td>\n",
       "      <td>...</td>\n",
       "    </tr>\n",
       "    <tr>\n",
       "      <th>1862752</th>\n",
       "      <td>2021-34</td>\n",
       "      <td>1097479</td>\n",
       "      <td>10993</td>\n",
       "      <td>1.000000</td>\n",
       "      <td>age_18_24</td>\n",
       "      <td>income_20_40</td>\n",
       "      <td>0</td>\n",
       "    </tr>\n",
       "    <tr>\n",
       "      <th>1862753</th>\n",
       "      <td>2021-34</td>\n",
       "      <td>1097502</td>\n",
       "      <td>1387</td>\n",
       "      <td>12.000000</td>\n",
       "      <td>age_18_24</td>\n",
       "      <td>income_20_40</td>\n",
       "      <td>0</td>\n",
       "    </tr>\n",
       "    <tr>\n",
       "      <th>1862754</th>\n",
       "      <td>2021-34</td>\n",
       "      <td>1097508</td>\n",
       "      <td>2464</td>\n",
       "      <td>4.500000</td>\n",
       "      <td>age_18_24</td>\n",
       "      <td>income_40_60</td>\n",
       "      <td>0</td>\n",
       "    </tr>\n",
       "    <tr>\n",
       "      <th>1862755</th>\n",
       "      <td>2021-34</td>\n",
       "      <td>1097521</td>\n",
       "      <td>1577</td>\n",
       "      <td>35.000000</td>\n",
       "      <td>age_25_34</td>\n",
       "      <td>income_20_40</td>\n",
       "      <td>1</td>\n",
       "    </tr>\n",
       "    <tr>\n",
       "      <th>1862756</th>\n",
       "      <td>2021-34</td>\n",
       "      <td>1097525</td>\n",
       "      <td>15</td>\n",
       "      <td>0.000000</td>\n",
       "      <td>age_25_34</td>\n",
       "      <td>income_40_60</td>\n",
       "      <td>1</td>\n",
       "    </tr>\n",
       "  </tbody>\n",
       "</table>\n",
       "<p>1862757 rows × 7 columns</p>\n",
       "</div>"
      ],
      "text/plain": [
       "            week  user_id  total_dur  watched_pct        age         income  \\\n",
       "0        2021-10       46      10647    12.000000  age_25_34   income_20_40   \n",
       "1        2021-10       82       5661    79.000000  age_25_34   income_40_60   \n",
       "2        2021-10       83       1222    18.000000  age_45_54  income_90_150   \n",
       "3        2021-10      133        960     4.666667  age_25_34   income_40_60   \n",
       "4        2021-10      571       2741    56.000000  age_25_34   income_40_60   \n",
       "...          ...      ...        ...          ...        ...            ...   \n",
       "1862752  2021-34  1097479      10993     1.000000  age_18_24   income_20_40   \n",
       "1862753  2021-34  1097502       1387    12.000000  age_18_24   income_20_40   \n",
       "1862754  2021-34  1097508       2464     4.500000  age_18_24   income_40_60   \n",
       "1862755  2021-34  1097521       1577    35.000000  age_25_34   income_20_40   \n",
       "1862756  2021-34  1097525         15     0.000000  age_25_34   income_40_60   \n",
       "\n",
       "         age_encoded  \n",
       "0                  1  \n",
       "1                  1  \n",
       "2                  3  \n",
       "3                  1  \n",
       "4                  1  \n",
       "...              ...  \n",
       "1862752            0  \n",
       "1862753            0  \n",
       "1862754            0  \n",
       "1862755            1  \n",
       "1862756            1  \n",
       "\n",
       "[1862757 rows x 7 columns]"
      ]
     },
     "execution_count": 23,
     "metadata": {},
     "output_type": "execute_result"
    }
   ],
   "source": [
    "df = df.merge(df_age, how='left', on='age')\n",
    "df"
   ]
  },
  {
   "cell_type": "code",
   "execution_count": 24,
   "id": "9237aa38-898c-4b3f-921c-44911ae5884a",
   "metadata": {},
   "outputs": [
    {
     "data": {
      "text/plain": [
       "week           0\n",
       "user_id        0\n",
       "total_dur      0\n",
       "watched_pct    0\n",
       "age            0\n",
       "income         0\n",
       "age_encoded    0\n",
       "dtype: int64"
      ]
     },
     "execution_count": 24,
     "metadata": {},
     "output_type": "execute_result"
    }
   ],
   "source": [
    "pd.isnull(df).sum()"
   ]
  },
  {
   "cell_type": "markdown",
   "id": "6b9ca402-9a60-4806-9934-d10e97baea44",
   "metadata": {},
   "source": [
    "## Перехожу к анализу"
   ]
  },
  {
   "cell_type": "markdown",
   "id": "3d7b9c47-5b1e-49bd-835b-5874ac95388f",
   "metadata": {},
   "source": [
    "### Какие метрики планирую анализировать?\n",
    "\n",
    "Хочу оценить в качестве количественной метрики total_dur - общая продолжительность всех просмотров данного контента в секундах.\n",
    "\n",
    "В качестве дискретной метрики age (age_encoded) - возрастная группа пользователя (группы age_18_24, age_25_34, age_35_44, age_45_54, age_55_64, age_65_inf)\n",
    "\n",
    "\n",
    "### **Нетривиальный вопрос - а какой уровень значимости**\n",
    "\n",
    "\"При выборе критического уровня значимости необходимо обращать внимание на объем выборки. Общая идея тут следующая. При малом объеме выборки более вероятно получить случайный  результат, например, получить различие в двух в выборках при их однородности.  Следовательно, можно взять большую вероятность ошибки первого рода. При увеличении объема выборки случайные отклонения компенсируют друг друга, и получить значимое различие в выборках при их однородности менее вероятно. Следовательно, надо брать меньший уровень значимости. Стандартными уровнями значимости являются 0,1; 0,05; 0,01; 0,001. Поэтому нельзя всегда брать уровень значимость 0,05. Можно придерживаться следующих условных границ зависимости объема выборки от уровня значимости. Если объем выборки небольшой до 100 единиц, то можно вполне отвергнуть нулевую гипотезу при уровне значимости 0,05 или даже 0,1. При объеме выборки, измеряемой сотнями – от 100 до 1000, следует понизить уровень значимости хотя бы до 0,01. А при больших выборках, измеряемых тысячами наблюдений, уверенно отвергать нулевую гипотезу можно только при значимости меньшей 0,001.\"\n",
    "\n",
    "#### **Предлагаю рассмотреть уровень значимости, равный 0,001.**"
   ]
  },
  {
   "cell_type": "code",
   "execution_count": 27,
   "id": "f807e0b0-3af4-4beb-be82-af22f15db27e",
   "metadata": {},
   "outputs": [],
   "source": [
    "alpha = 0.001"
   ]
  },
  {
   "cell_type": "markdown",
   "id": "cbed5f78-ca58-4f2b-be9a-50e3e27c08b2",
   "metadata": {},
   "source": [
    "#### Вытащу данные по первым 12 неделям"
   ]
  },
  {
   "cell_type": "code",
   "execution_count": 29,
   "id": "46de5783-9872-40fa-80d5-b052056c6708",
   "metadata": {},
   "outputs": [],
   "source": [
    "df_week_1 = df.query('week == \"2021-10\"')\n",
    "df_week_2 = df.query('week == \"2021-11\"')\n",
    "df_week_3 = df.query('week == \"2021-12\"')\n",
    "df_week_4 = df.query('week == \"2021-13\"')\n",
    "df_week_5 = df.query('week == \"2021-14\"')\n",
    "df_week_6 = df.query('week == \"2021-15\"')\n",
    "df_week_7 = df.query('week == \"2021-16\"')\n",
    "df_week_8 = df.query('week == \"2021-17\"')\n",
    "df_week_9 = df.query('week == \"2021-18\"')\n",
    "df_week_10 = df.query('week == \"2021-19\"')\n",
    "df_week_11 = df.query('week == \"2021-20\"')\n",
    "df_week_12 = df.query('week == \"2021-21\"')"
   ]
  },
  {
   "cell_type": "markdown",
   "id": "b8c7322a-40cb-4de9-908d-93d9701166e2",
   "metadata": {},
   "source": [
    "## Проверка распределения для непрерывной метрики"
   ]
  },
  {
   "cell_type": "markdown",
   "id": "e92510ce-576e-45bd-a096-9ed8f7205551",
   "metadata": {},
   "source": [
    "### **Формируем гипотезы!**\n",
    "\n",
    "#### Двухвыборочная гипотеза о распределении для непрерывного случая (**Двувыборочный тест Колмогорова-Смирнова**):\n",
    "\n",
    "Посмотрим на схожесть распределений в двух выборках (для непрерывного случая)\n",
    "\n",
    "Будем смотреть на total_dur - общая продолжительность всех просмотров данного контента в секундах.\n",
    "\n",
    "**ПОЧЕМУ?** Критерий работает для непрерывных распределений\n",
    "\n",
    "**ФОРМУЛИРОВКА:** Идентичны ли распределения в двух выборках (выборках A и B)?\n",
    "Под выборками A и B подразумеваются попарные сравнения выборок, соответствующих каждой неделе из общего набора данных.\n",
    "То есть, мы сравниваем данные за неделю 1 и данные за неделю 2; данные за неделю 2 и за неделю 3 и так далее.\n",
    "\n",
    "То есть, мы сравниваем распределения метрик в динамике по разным неделям и делаем выводы о появлении отклонения (распределение начало изменяться или нет). \n",
    "\n",
    "$H_0$ - выборки A и B проведенного за просмотром контента времени к нам пришли из некоторого распределения $F_0$, идентичного по параметрам.\n",
    "\n",
    "$H_1$ - выборки A и B проведенного за просмотром контента времени к нам НЕ пришли из некоторого распределения $F_0$, идентичного по параметрам.\n",
    "\n",
    "$$\n",
    "\\begin{aligned}\n",
    "H_0 : X \\sim F_0 \\\\\n",
    "H_1 : X \\nsim F_0\n",
    "\\end{aligned}\n",
    "$$"
   ]
  },
  {
   "cell_type": "markdown",
   "id": "5d60193e-a39a-4e54-b665-ceef15da4c05",
   "metadata": {},
   "source": [
    "### Посмотрим на распределения"
   ]
  },
  {
   "cell_type": "code",
   "execution_count": 33,
   "id": "6b7802d8-8238-4208-babc-028df9493200",
   "metadata": {},
   "outputs": [
    {
     "data": {
      "text/plain": [
       "<Axes: xlabel='total_dur', ylabel='Density'>"
      ]
     },
     "execution_count": 33,
     "metadata": {},
     "output_type": "execute_result"
    },
    {
     "data": {
      "image/png": "[encoded data removed]",
      "text/plain": [
       "<Figure size 640x480 with 1 Axes>"
      ]
     },
     "metadata": {},
     "output_type": "display_data"
    }
   ],
   "source": [
    "sns.histplot(df_week_1['total_dur'], bins=50, kde=True, color=\"pink\", edgecolor=\"black\", alpha=0.8, stat=\"density\")\n",
    "sns.kdeplot(df_week_1['total_dur'], color=\"orange\", linewidth=2)"
   ]
  },
  {
   "cell_type": "markdown",
   "id": "ffbe176a-a643-4df9-a62d-c72c6ebea1e4",
   "metadata": {},
   "source": [
    "### Перейдем к тестам - вряд ли мы что-то заметим визуально."
   ]
  },
  {
   "cell_type": "code",
   "execution_count": 35,
   "id": "2d305361-66b1-4005-a3c1-b4c1f8989c6d",
   "metadata": {},
   "outputs": [
    {
     "name": "stdout",
     "output_type": "stream",
     "text": [
      "KstestResult(statistic=0.08288135141829678, pvalue=1.961787071652088e-42, statistic_location=12592, statistic_sign=1)\n",
      "KstestResult(statistic=0.02123939996448221, pvalue=1.5403355736440815e-07, statistic_location=4861, statistic_sign=-1)\n",
      "KstestResult(statistic=0.006321164277482638, pvalue=0.46855107745424596, statistic_location=3977, statistic_sign=-1)\n",
      "KstestResult(statistic=0.02466385655052128, pvalue=6.364527073716579e-10, statistic_location=7157, statistic_sign=1)\n",
      "KstestResult(statistic=0.015641813684124317, pvalue=0.0003183892630692439, statistic_location=9595, statistic_sign=1)\n",
      "KstestResult(statistic=0.0658873983178036, pvalue=6.98332225506252e-83, statistic_location=3026, statistic_sign=-1)\n",
      "KstestResult(statistic=0.048330352187513914, pvalue=7.65188018722706e-60, statistic_location=630, statistic_sign=1)\n",
      "KstestResult(statistic=0.03438548029573485, pvalue=1.5022550394673968e-31, statistic_location=10512, statistic_sign=1)\n",
      "KstestResult(statistic=0.010611059353419772, pvalue=0.002320685622449054, statistic_location=6234, statistic_sign=-1)\n",
      "KstestResult(statistic=0.008724257101258182, pvalue=0.022295770256520547, statistic_location=1831, statistic_sign=1)\n",
      "KstestResult(statistic=0.01433965367367876, pvalue=6.079515289216024e-06, statistic_location=849, statistic_sign=1)\n"
     ]
    }
   ],
   "source": [
    "print(sts.ks_2samp(df_week_1['total_dur'], df_week_2['total_dur'], alternative='two-sided'))\n",
    "print(sts.ks_2samp(df_week_2['total_dur'], df_week_3['total_dur'], alternative='two-sided'))\n",
    "print(sts.ks_2samp(df_week_3['total_dur'], df_week_4['total_dur'], alternative='two-sided'))\n",
    "print(sts.ks_2samp(df_week_4['total_dur'], df_week_5['total_dur'], alternative='two-sided'))\n",
    "print(sts.ks_2samp(df_week_5['total_dur'], df_week_6['total_dur'], alternative='two-sided'))\n",
    "print(sts.ks_2samp(df_week_6['total_dur'], df_week_7['total_dur'], alternative='two-sided'))\n",
    "print(sts.ks_2samp(df_week_7['total_dur'], df_week_8['total_dur'], alternative='two-sided'))\n",
    "print(sts.ks_2samp(df_week_8['total_dur'], df_week_9['total_dur'], alternative='two-sided'))\n",
    "print(sts.ks_2samp(df_week_9['total_dur'], df_week_10['total_dur'], alternative='two-sided'))\n",
    "print(sts.ks_2samp(df_week_10['total_dur'], df_week_11['total_dur'], alternative='two-sided'))\n",
    "print(sts.ks_2samp(df_week_11['total_dur'], df_week_12['total_dur'], alternative='two-sided'))"
   ]
  },
  {
   "cell_type": "markdown",
   "id": "f24c0f1e-567e-47ae-a47f-9ff0e3c61a1f",
   "metadata": {},
   "source": [
    "## Результаты теста Колмогорова-Смирнова\n",
    "\n",
    "| Неделя     | p-value                | Сравнение с alpha = 0.001 | H₀ принимается | Интерпретация                                                                                           |\n",
    "|------------|------------------------|---------------------------|----------------|-------------------------------------------------------------------------------------------------------|\n",
    "| Неделя 1-2 | 1.96e-42              | p < 0.001                | Нет            | H₁: Выборки A и B времени просмотра пришли из распределений, которые **не идентичны** по параметрам.  |\n",
    "| Неделя 2-3 | 1.54e-7               | p < 0.001                | Нет            | H₁: Выборки A и B времени просмотра пришли из распределений, которые **не идентичны** по параметрам.  |\n",
    "| Неделя 3-4 | 0.46855               | p >= 0.001               | Да             | H₀: Выборки A и B времени просмотра пришли из распределения F₀, **идентичного** по параметрам.        |\n",
    "| Неделя 4-5 | 6.36e-10              | p < 0.001                | Нет            | H₁: Выборки A и B времени просмотра пришли из распределений, которые **не идентичны** по параметрам.  |\n",
    "| Неделя 5-6 | 0.000318              | p < 0.001                | Нет            | H₁: Выборки A и B времени просмотра пришли из распределений, которые **не идентичны** по параметрам.  |\n",
    "| Неделя 6-7 | 6.98e-83              | p < 0.001                | Нет            | H₁: Выборки A и B времени просмотра пришли из распределений, которые **не идентичны** по параметрам.  |\n",
    "| Неделя 7-8 | 7.65e-60              | p < 0.001                | Нет            | H₁: Выборки A и B времени просмотра пришли из распределений, которые **не идентичны** по параметрам.  |\n",
    "| Неделя 8-9 | 1.50e-31              | p < 0.001                | Нет            | H₁: Выборки A и B времени просмотра пришли из распределений, которые **не идентичны** по параметрам.  |\n",
    "| Неделя 9-10| 0.00232               | p >= 0.001               | Да             | H₀: Выборки A и B времени просмотра пришли из распределения F₀, **идентичного** по параметрам.        |\n",
    "| Неделя 10-11| 0.02229              | p >= 0.001               | Да             | H₀: Выборки A и B времени просмотра пришли из распределения F₀, **идентичного** по параметрам.        |\n",
    "| Неделя 11-12| 6.07e-6              | p < 0.001                | Нет            | H₁: Выборки A и B времени просмотра пришли из распределений, которые **не идентичны** по параметрам.  |\n"
   ]
  },
  {
   "cell_type": "markdown",
   "id": "53b46e86-e33f-4001-90c1-9b55a98f8166",
   "metadata": {},
   "source": [
    "#### Таким образом\n",
    "\n",
    "Т. о., гипотеза об идентичности распределения не отвергается только для недели 3-4 (уверенно), для недели 9-10 и 10-11 (не так уверенно, так как p-value все равно крайне низкий, не отвергаем только из-за скорректированного на объем выборки уровня значимости).\n",
    "\n",
    "##### То есть, распределения сразу же начали меняться; но при этом гипотетическую модель нам не нужно было бы корректировать каждую неделю, так как есть интервалы, когда оно остается идентичным по параметрам."
   ]
  },
  {
   "cell_type": "markdown",
   "id": "2c9e4c91-c83d-4995-87ca-2e55816d725f",
   "metadata": {},
   "source": [
    "### А давайте, допустим, посмотрим на кумулятивную сумму средних! "
   ]
  },
  {
   "cell_type": "code",
   "execution_count": 39,
   "id": "17d586eb-483a-4f7e-812e-a8b6f8bb1029",
   "metadata": {},
   "outputs": [],
   "source": [
    "size = len(df)\n",
    "# Считаем кумулятивную сумму\n",
    "df_week_1_cumsum = np.cumsum(df['total_dur'])\n",
    "# Делим на число наблюдений\n",
    "df_week_1_cumsum_mean = df_week_1_cumsum / np.arange(1, size + 1)"
   ]
  },
  {
   "cell_type": "code",
   "execution_count": 40,
   "id": "aa271d51-7b3c-47e6-b308-aca85ef0c8d3",
   "metadata": {},
   "outputs": [
    {
     "data": {
      "text/plain": [
       "<matplotlib.legend.Legend at 0x26485543f20>"
      ]
     },
     "execution_count": 40,
     "metadata": {},
     "output_type": "execute_result"
    },
    {
     "data": {
      "image/png": "[encoded data removed]",
      "text/plain": [
       "<Figure size 800x400 with 1 Axes>"
      ]
     },
     "metadata": {},
     "output_type": "display_data"
    }
   ],
   "source": [
    "plt.figure(figsize=(10,5))\n",
    "plt.plot(df_week_1_cumsum_mean)\n",
    "plt.xlabel('Наблюдения')\n",
    "plt.ylabel('Значение среднего')\n",
    "plt.legend(['Среднее']) "
   ]
  },
  {
   "cell_type": "markdown",
   "id": "434d9cbe-d099-4e0d-9f2f-aa268eca153f",
   "metadata": {},
   "source": [
    "### Выводы: судя по графику, средние и правда разнятся от недели к неделе."
   ]
  },
  {
   "cell_type": "markdown",
   "id": "8822007a-862f-423b-931c-865e5e2dc817",
   "metadata": {},
   "source": [
    "#### Двухвыборочная гипотеза о медиане для непрерывного случая (**Критерий Уилкоксона-Манна-Уитни**):\n",
    "\n",
    "Давайте предположим, что сама функциональная форма значимо не меняется. А что насчет сдвига в распределениях?\n",
    "\n",
    "Подходит, так как оценим значимость сдвига распределений + для независимых выборок.\n",
    "\n",
    " $H_0$ - $F_X(x) = F_Y(x)$ (Наш критерий проверяет гипотезу о равенстве функций распределения двух выборок против альтернативной гипотезы об их сдвиге.; между выборками нет статистически значимого сдвига)\n",
    "\n",
    "$H_1$ - $F_X(x) = F_Y(x+m), m\\neq0$ (между выборками есть статистически значимый сдвиг)"
   ]
  },
  {
   "cell_type": "code",
   "execution_count": 43,
   "id": "d3e8fd9d-967b-4e16-af6b-b0d8d32bd8d6",
   "metadata": {},
   "outputs": [
    {
     "name": "stdout",
     "output_type": "stream",
     "text": [
      "MannwhitneyuResult(statistic=151452912.5, pvalue=1.5568482950701324e-10)\n",
      "MannwhitneyuResult(statistic=669591910.0, pvalue=3.460416262850338e-05)\n",
      "MannwhitneyuResult(statistic=642756616.5, pvalue=0.7526382244441814)\n",
      "MannwhitneyuResult(statistic=633540472.5, pvalue=3.065129991302497e-05)\n",
      "MannwhitneyuResult(statistic=628011142.0, pvalue=0.00069457963888986)\n",
      "MannwhitneyuResult(statistic=1105065854.0, pvalue=2.27621950093063e-118)\n",
      "MannwhitneyuResult(statistic=1609189888.0, pvalue=2.6676747371931165e-72)\n",
      "MannwhitneyuResult(statistic=1765071213.5, pvalue=5.492364409958832e-31)\n",
      "MannwhitneyuResult(statistic=1816292407.0, pvalue=0.0049630339241563655)\n",
      "MannwhitneyuResult(statistic=1728323719.0, pvalue=0.03424576005462095)\n",
      "MannwhitneyuResult(statistic=1875800683.0, pvalue=3.844164187739716e-07)\n"
     ]
    }
   ],
   "source": [
    "print(stats.mannwhitneyu(df_week_1['total_dur'], df_week_2['total_dur'], alternative='two-sided'))\n",
    "print(stats.mannwhitneyu(df_week_2['total_dur'], df_week_3['total_dur'], alternative='two-sided'))\n",
    "print(stats.mannwhitneyu(df_week_3['total_dur'], df_week_4['total_dur'], alternative='two-sided'))\n",
    "print(stats.mannwhitneyu(df_week_4['total_dur'], df_week_5['total_dur'], alternative='two-sided'))\n",
    "print(stats.mannwhitneyu(df_week_5['total_dur'], df_week_6['total_dur'], alternative='two-sided'))\n",
    "print(stats.mannwhitneyu(df_week_6['total_dur'], df_week_7['total_dur'], alternative='two-sided'))\n",
    "print(stats.mannwhitneyu(df_week_7['total_dur'], df_week_8['total_dur'], alternative='two-sided'))\n",
    "print(stats.mannwhitneyu(df_week_8['total_dur'], df_week_9['total_dur'], alternative='two-sided'))\n",
    "print(stats.mannwhitneyu(df_week_9['total_dur'], df_week_10['total_dur'], alternative='two-sided'))\n",
    "print(stats.mannwhitneyu(df_week_10['total_dur'], df_week_11['total_dur'], alternative='two-sided'))\n",
    "print(stats.mannwhitneyu(df_week_11['total_dur'], df_week_12['total_dur'], alternative='two-sided'))"
   ]
  },
  {
   "cell_type": "markdown",
   "id": "6eacce95-e75b-4767-b46f-491ea7943352",
   "metadata": {},
   "source": [
    "# Результаты теста Манна-Уитни\r\n",
    "\r\n",
    "| Неделя     | p-value                | Сравнение с alpha = 0.001 | H₀ принимается | Интерпретация                                                                                           |\r\n",
    "|------------|------------------------|---------------------------|----------------|-------------------------------------------------------------------------------------------------------|\r\n",
    "| Неделя 1-2 | 1.56e-10               | p < 0.001                | Нет            | H₁: Между выборками есть статистически значимый сдвиг.                                                   |\r\n",
    "| Неделя 2-3 | 3.46e-5                | p < 0.001                | Нет            | H₁: Между выборками есть статистически значимый сдвиг.                                                   |\r\n",
    "| Неделя 3-4 | 0.75264                | p >= 0.001               | Да             | H₀: Между выборками нет статистически значимого сдвига.                                                 |\r\n",
    "| Неделя 4-5 | 3.07e-5                | p < 0.001                | Нет            | H₁: Между выборками есть статистически значимый сдвиг.                                                   |\r\n",
    "| Неделя 5-6 | 0.000695               | p < 0.001                | Нет            | H₁: Между выборками есть статистически значимый сдвиг.                                                   |\r\n",
    "| Неделя 6-7 | 2.28e-118              | p < 0.001                | Нет            | H₁: Между выборками есть статистически значимый сдвиг.                                                   |\r\n",
    "| Неделя 7-8 | 2.67e-72               | p < 0.001                | Нет            | H₁: Между выборками есть статистически значимый сдвиг.                                                   |\r\n",
    "| Неделя 8-9 | 5.49e-31               | p < 0.001                | Нет            | H₁: Между выборками есть статистически значимый сдвиг.                                                   |\r\n",
    "| Неделя 9-10| 0.00496                | p >= 0.001               | Да             | H₀: Между выборками нет статистически значимого сдвига.                                                 |\r\n",
    "| Неделя 10-11| 0.03425               | p >= 0.001               | Да             | H₀: Между выборками нет статистически значимого сдвига.                                                 |\r\n",
    "| Неделя 11-12| 3.84e-7               | p < 0.001                | Нет            | H₁: Между выборками есть статистически значимый сдвиг.                                                   |\r\n"
   ]
  },
  {
   "cell_type": "markdown",
   "id": "e3d764f6-f45e-4b02-b068-6dde01a8c58d",
   "metadata": {},
   "source": [
    "### Таким образом, результаты аналогичны тесту Колмогорова-Смирнова\n",
    "\n",
    "Т. о., гипотеза об идентичности распределения не отвергается только для недели 3-4 (уверенно), для недели 9-10 и 10-11 (не так уверенно, так как p-value все равно крайне низкий, не отвергаем только из-за скорректированного на объем выборки уровня значимости)."
   ]
  },
  {
   "cell_type": "markdown",
   "id": "48106ac5-e3ee-4ff5-a29f-de415355a170",
   "metadata": {},
   "source": [
    "## Двухвыборочная гипотеза о распределении для дискретного случая (**Критерий Пирсона**):\n",
    "\n",
    "**Гипотеза о неизвестном законе распределения:** \n",
    "\n",
    "$H_0$ - возрастные группы пользователей к нам пришли из некоторого распределения $F_0$, идентичного по параметрам.\n",
    "\n",
    "$H_1$ - возрастные группы пользователей к нам НЕ пришли из некоторого распределения $F_0$, идентичного по параметрам.\n",
    "\n",
    "$$\n",
    "\\begin{aligned}\n",
    "H_0 : X \\sim F_0 \\\\\n",
    "H_1 : X \\nsim F_0\n",
    "\\end{aligned}\n",
    "$$"
   ]
  },
  {
   "cell_type": "code",
   "execution_count": 47,
   "id": "5417ba73-c0dc-43cb-bfa9-a4aee1e8408c",
   "metadata": {},
   "outputs": [],
   "source": [
    "# Недели 1 и 2\n",
    "df_week_1_age_encoded = df_week_1['age_encoded']\n",
    "df_week_2_age_encoded = df_week_2['age_encoded']\n",
    "\n",
    "df_week_1_age_encoded_counts = df_week_1_age_encoded.value_counts().sort_index()\n",
    "df_week_2_age_encoded_counts = df_week_2_age_encoded.value_counts().sort_index()\n",
    "\n",
    "\n",
    "contingency_table_1_2 = pd.DataFrame({\n",
    "    'Health': df_week_1_age_encoded_counts,\n",
    "    'Business': df_week_2_age_encoded_counts\n",
    "})\n",
    "\n",
    "\n",
    "# Недели 2 и 3\n",
    "df_week_2_age_encoded = df_week_2['age_encoded']\n",
    "df_week_3_age_encoded = df_week_3['age_encoded']\n",
    "\n",
    "df_week_2_age_encoded_counts = df_week_2_age_encoded.value_counts().sort_index()\n",
    "df_week_3_age_encoded_counts = df_week_3_age_encoded.value_counts().sort_index()\n",
    "\n",
    "contingency_table_2_3 = pd.DataFrame({\n",
    "    'Week 2': df_week_2_age_encoded_counts,\n",
    "    'Week 3': df_week_3_age_encoded_counts\n",
    "})\n",
    "\n",
    "# Недели 3 и 4\n",
    "df_week_3_age_encoded = df_week_3['age_encoded']\n",
    "df_week_4_age_encoded = df_week_4['age_encoded']\n",
    "\n",
    "df_week_3_age_encoded_counts = df_week_3_age_encoded.value_counts().sort_index()\n",
    "df_week_4_age_encoded_counts = df_week_4_age_encoded.value_counts().sort_index()\n",
    "\n",
    "contingency_table_3_4 = pd.DataFrame({\n",
    "    'Week 3': df_week_3_age_encoded_counts,\n",
    "    'Week 4': df_week_4_age_encoded_counts\n",
    "})\n",
    "\n",
    "# Недели 4 и 5\n",
    "df_week_4_age_encoded = df_week_4['age_encoded']\n",
    "df_week_5_age_encoded = df_week_5['age_encoded']\n",
    "\n",
    "df_week_4_age_encoded_counts = df_week_4_age_encoded.value_counts().sort_index()\n",
    "df_week_5_age_encoded_counts = df_week_5_age_encoded.value_counts().sort_index()\n",
    "\n",
    "contingency_table_4_5 = pd.DataFrame({\n",
    "    'Week 4': df_week_4_age_encoded_counts,\n",
    "    'Week 5': df_week_5_age_encoded_counts\n",
    "})\n",
    "\n",
    "# Недели 5 и 6\n",
    "df_week_5_age_encoded = df_week_5['age_encoded']\n",
    "df_week_6_age_encoded = df_week_6['age_encoded']\n",
    "\n",
    "df_week_5_age_encoded_counts = df_week_5_age_encoded.value_counts().sort_index()\n",
    "df_week_6_age_encoded_counts = df_week_6_age_encoded.value_counts().sort_index()\n",
    "\n",
    "contingency_table_5_6 = pd.DataFrame({\n",
    "    'Week 5': df_week_5_age_encoded_counts,\n",
    "    'Week 6': df_week_6_age_encoded_counts\n",
    "})\n",
    "\n",
    "# Недели 6 и 7\n",
    "df_week_6_age_encoded = df_week_6['age_encoded']\n",
    "df_week_7_age_encoded = df_week_7['age_encoded']\n",
    "\n",
    "df_week_6_age_encoded_counts = df_week_6_age_encoded.value_counts().sort_index()\n",
    "df_week_7_age_encoded_counts = df_week_7_age_encoded.value_counts().sort_index()\n",
    "\n",
    "contingency_table_6_7 = pd.DataFrame({\n",
    "    'Week 6': df_week_6_age_encoded_counts,\n",
    "    'Week 7': df_week_7_age_encoded_counts\n",
    "})\n",
    "\n",
    "# Недели 7 и 8\n",
    "df_week_7_age_encoded = df_week_7['age_encoded']\n",
    "df_week_8_age_encoded = df_week_8['age_encoded']\n",
    "\n",
    "df_week_7_age_encoded_counts = df_week_7_age_encoded.value_counts().sort_index()\n",
    "df_week_8_age_encoded_counts = df_week_8_age_encoded.value_counts().sort_index()\n",
    "\n",
    "contingency_table_7_8 = pd.DataFrame({\n",
    "    'Week 7': df_week_7_age_encoded_counts,\n",
    "    'Week 8': df_week_8_age_encoded_counts\n",
    "})\n",
    "\n",
    "# Недели 8 и 9\n",
    "df_week_8_age_encoded = df_week_8['age_encoded']\n",
    "df_week_9_age_encoded = df_week_9['age_encoded']\n",
    "\n",
    "df_week_8_age_encoded_counts = df_week_8_age_encoded.value_counts().sort_index()\n",
    "df_week_9_age_encoded_counts = df_week_9_age_encoded.value_counts().sort_index()\n",
    "\n",
    "contingency_table_8_9 = pd.DataFrame({\n",
    "    'Week 8': df_week_8_age_encoded_counts,\n",
    "    'Week 9': df_week_9_age_encoded_counts\n",
    "})\n",
    "\n",
    "# Недели 9 и 10\n",
    "df_week_9_age_encoded = df_week_9['age_encoded']\n",
    "df_week_10_age_encoded = df_week_10['age_encoded']\n",
    "\n",
    "df_week_9_age_encoded_counts = df_week_9_age_encoded.value_counts().sort_index()\n",
    "df_week_10_age_encoded_counts = df_week_10_age_encoded.value_counts().sort_index()\n",
    "\n",
    "contingency_table_9_10 = pd.DataFrame({\n",
    "    'Week 9': df_week_9_age_encoded_counts,\n",
    "    'Week 10': df_week_10_age_encoded_counts\n",
    "})\n",
    "\n",
    "# Недели 10 и 11\n",
    "df_week_10_age_encoded = df_week_10['age_encoded']\n",
    "df_week_11_age_encoded = df_week_11['age_encoded']\n",
    "\n",
    "df_week_10_age_encoded_counts = df_week_10_age_encoded.value_counts().sort_index()\n",
    "df_week_11_age_encoded_counts = df_week_11_age_encoded.value_counts().sort_index()\n",
    "\n",
    "contingency_table_10_11 = pd.DataFrame({\n",
    "    'Week 10': df_week_10_age_encoded_counts,\n",
    "    'Week 11': df_week_11_age_encoded_counts\n",
    "})\n",
    "\n",
    "# Недели 11 и 12\n",
    "df_week_11_age_encoded = df_week_11['age_encoded']\n",
    "df_week_12_age_encoded = df_week_12['age_encoded']\n",
    "\n",
    "df_week_11_age_encoded_counts = df_week_11_age_encoded.value_counts().sort_index()\n",
    "df_week_12_age_encoded_counts = df_week_12_age_encoded.value_counts().sort_index()\n",
    "\n",
    "contingency_table_11_12 = pd.DataFrame({\n",
    "    'Week 11': df_week_11_age_encoded_counts,\n",
    "    'Week 12': df_week_12_age_encoded_counts\n",
    "})"
   ]
  },
  {
   "cell_type": "code",
   "execution_count": 48,
   "id": "88c8f8cd-9996-4e1a-84f0-c998e0d05a80",
   "metadata": {},
   "outputs": [
    {
     "name": "stdout",
     "output_type": "stream",
     "text": [
      "Chi2ContingencyResult(statistic=9.158830840223896, pvalue=0.10289418407483426, dof=5, expected_freq=array([[ 1307.2083592 ,  2343.93984479,  2435.064102  ,  1576.33381375,\n",
      "          683.23886918,   361.21501109],\n",
      "       [ 5463.7916408 ,  9797.06015521, 10177.935898  ,  6588.66618625,\n",
      "         2855.76113082,  1509.78498891]]))\n",
      "Chi2ContingencyResult(statistic=9.856892696191325, pvalue=0.07939317731426271, dof=5, expected_freq=array([[ 5446.23359385,  9727.67448207, 10142.02365298,  6661.18963735,\n",
      "         2927.53239879,  1488.34623496],\n",
      "       [ 5410.76640615,  9664.32551793, 10075.97634702,  6617.81036265,\n",
      "         2908.46760121,  1478.65376504]]))\n",
      "Chi2ContingencyResult(statistic=10.890276363549944, pvalue=0.05359940754377937, dof=5, expected_freq=array([[ 5373.59411363,  9647.78059895, 10147.09909558,  6576.79549604,\n",
      "         2923.85997575,  1486.87072005],\n",
      "       [ 5291.40588637,  9500.21940105,  9991.90090442,  6476.20450396,\n",
      "         2879.14002425,  1464.12927995]]))\n",
      "Chi2ContingencyResult(statistic=6.196287291060418, pvalue=0.28758521161909006, dof=5, expected_freq=array([[ 5215.34418106,  9606.06533692, 10025.81035035,  6410.15554751,\n",
      "         2843.06628342,  1502.55830074],\n",
      "       [ 5308.65581894,  9777.93466308, 10205.18964965,  6524.84445249,\n",
      "         2893.93371658,  1529.44169926]]))\n",
      "Chi2ContingencyResult(statistic=0.3941468220979671, pvalue=0.9954892782318937, dof=5, expected_freq=array([[ 5216.7250119 ,  9849.35950934, 10226.91237012,  6539.68241521,\n",
      "         2896.60178676,  1510.71890666],\n",
      "       [ 5063.2749881 ,  9559.64049066,  9926.08762988,  6347.31758479,\n",
      "         2811.39821324,  1466.28109334]]))\n",
      "Chi2ContingencyResult(statistic=13.083308275883333, pvalue=0.022610462026959374, dof=5, expected_freq=array([[ 4949.32265816,  9463.90239329,  9949.05578604,  6405.91991466,\n",
      "         2885.52560856,  1520.27363929],\n",
      "       [ 8108.67734184, 15505.09760671, 16299.94421396, 10495.08008534,\n",
      "         4727.47439144,  2490.72636071]]))\n",
      "Chi2ContingencyResult(statistic=80.25326115506631, pvalue=7.427963908897462e-16, dof=5, expected_freq=array([[ 8395.69339961, 15627.36904274, 16003.39845752, 10291.59039664,\n",
      "         4691.01616788,  2617.93253562],\n",
      "       [ 8662.30660039, 16123.63095726, 16511.60154248, 10618.40960336,\n",
      "         4839.98383212,  2701.06746438]]))\n",
      "Chi2ContingencyResult(statistic=25.926755998013785, pvalue=9.220249146587781e-05, dof=5, expected_freq=array([[ 8786.02379518, 16321.10617899, 16360.35139974, 10513.3040734 ,\n",
      "         4696.18122788,  2780.03332481],\n",
      "       [ 9123.97620482, 16948.89382101, 16989.64860026, 10917.6959266 ,\n",
      "         4876.81877212,  2886.96667519]]))\n",
      "Chi2ContingencyResult(statistic=13.48255871320388, pvalue=0.01925285106903189, dof=5, expected_freq=array([[ 8653.75871233, 17102.27164649, 17205.1517358 , 11023.08716915,\n",
      "         4866.22822438,  2893.50251185],\n",
      "       [ 8169.24128767, 16144.72835351, 16241.8482642 , 10405.91283085,\n",
      "         4593.77177562,  2731.49748815]]))\n",
      "Chi2ContingencyResult(statistic=24.970682041601435, pvalue=0.00014116170436431942, dof=5, expected_freq=array([[ 7883.48269726, 16200.60139303, 16171.95573482, 10423.06846529,\n",
      "         4769.50209294,  2838.38961666],\n",
      "       [ 8078.51730274, 16601.39860697, 16572.04426518, 10680.93153471,\n",
      "         4887.49790706,  2908.61038334]]))\n",
      "Chi2ContingencyResult(statistic=14.414357434672766, pvalue=0.01318092705122597, dof=5, expected_freq=array([[ 7834.04027345, 16655.3087901 , 16577.99282391, 10642.05952025,\n",
      "         5012.49073258,  3007.10785971],\n",
      "       [ 8377.95972655, 17811.6912099 , 17729.00717609, 11380.94047975,\n",
      "         5360.50926742,  3215.89214029]]))\n"
     ]
    }
   ],
   "source": [
    "# Chi-square test для таблицы 1-2\n",
    "print(stats.chi2_contingency(contingency_table_1_2.T))\n",
    "\n",
    "# Chi-square test для таблицы 2-3\n",
    "print(stats.chi2_contingency(contingency_table_2_3.T))\n",
    "\n",
    "# Chi-square test для таблицы 3-4\n",
    "print(stats.chi2_contingency(contingency_table_3_4.T))\n",
    "\n",
    "# Chi-square test для таблицы 4-5\n",
    "print(stats.chi2_contingency(contingency_table_4_5.T))\n",
    "\n",
    "# Chi-square test для таблицы 5-6\n",
    "print(stats.chi2_contingency(contingency_table_5_6.T))\n",
    "\n",
    "# Chi-square test для таблицы 6-7\n",
    "print(stats.chi2_contingency(contingency_table_6_7.T))\n",
    "\n",
    "# Chi-square test для таблицы 7-8\n",
    "print(stats.chi2_contingency(contingency_table_7_8.T))\n",
    "\n",
    "# Chi-square test для таблицы 8-9\n",
    "print(stats.chi2_contingency(contingency_table_8_9.T))\n",
    "\n",
    "# Chi-square test для таблицы 9-10\n",
    "print(stats.chi2_contingency(contingency_table_9_10.T))\n",
    "\n",
    "# Chi-square test для таблицы 10-11\n",
    "print(stats.chi2_contingency(contingency_table_10_11.T))\n",
    "\n",
    "# Chi-square test для таблицы 11-12\n",
    "print(stats.chi2_contingency(contingency_table_11_12.T))"
   ]
  },
  {
   "cell_type": "markdown",
   "id": "ec7e0c91-6b8a-4c44-bcdd-553c479aa88e",
   "metadata": {},
   "source": [
    "## Результаты теста Критерия Пирсона\n",
    "\n",
    "| Неделя     | p-value               | Сравнение с alpha = 0.001 | H₀ принимается | Интерпретация                                                                                           |\n",
    "|------------|-----------------------|---------------------------|----------------|-------------------------------------------------------------------------------------------------------|\n",
    "| Неделя 1-2 | 0.10289               | p >= 0.001               | Да             | H₀: Возрастные группы пользователей пришли из некоторого распределения, идентичного по параметрам.     |\n",
    "| Неделя 2-3 | 0.07939               | p >= 0.001               | Да             | H₀: Возрастные группы пользователей пришли из некоторого распределения, идентичного по параметрам.     |\n",
    "| Неделя 3-4 | 0.05360               | p >= 0.001               | Да             | H₀: Возрастные группы пользователей пришли из некоторого распределения, идентичного по параметрам.     |\n",
    "| Неделя 4-5 | 0.28759               | p >= 0.001               | Да             | H₀: Возрастные группы пользователей пришли из некоторого распределения, идентичного по параметрам.     |\n",
    "| Неделя 5-6 | 0.99549               | p >= 0.001               | Да             | H₀: Возрастные группы пользователей пришли из некоторого распределения, идентичного по параметрам.     |\n",
    "| Неделя 6-7 | 0.02261               | p >= 0.001               | Да             | H₀: Возрастные группы пользователей пришли из некоторого распределения, идентичного по параметрам.     |\n",
    "| Неделя 7-8 | 7.43e-16             | p < 0.001                | Нет            | H₁: Возрастные группы пользователей НЕ пришли из некоторого распределения, идентичного по параметрам.  |\n",
    "| Неделя 8-9 | 9.22e-05             | p < 0.001                | Нет            | H₁: Возрастные группы пользователей НЕ пришли из некоторого распределения, идентичного по параметрам.  |\n",
    "| Неделя 9-10| 0.01925               | p >= 0.001               | Да             | H₀: Возрастные группы пользователей пришли из некоторого распределения, идентичного по параметрам.     |\n",
    "| Неделя 10-11| 0.00014              | p < 0.001                | Нет            | H₁: Возрастные группы пользователей НЕ пришли из некоторого распределения, идентичного по параметрам.  |\n",
    "| Неделя 11-12| 0.01318              | p >= 0.001               | Да             | H₀: Возрастные группы пользователей пришли из некоторого распределения, идентичного по параметрам.     |\n"
   ]
  },
  {
   "cell_type": "markdown",
   "id": "e7f5c743-3331-4949-a35b-075358b70f28",
   "metadata": {},
   "source": [
    "#### Выводы: как мы можем заметить, мы нашли достаточно оснований, чтобы отвергнуть гипотезы $H_0$ для недели 7-8, 8-9, 10-11. В контексте данных срезов, возрастные группы пользователей НЕ пришли из некоторого распределения, идентичного по параметрам.\n",
    "\n",
    "То есть, возрастые группы в целом остаются схожими между собой, и значимые изменения наблюдаются лишь начиная с 8-ой недели. Именно тогда и стоило бы обратить внимание на потенциальную необходимость в корректировке нашей модели."
   ]
  }
 ],
 "metadata": {
  "kernelspec": {
   "display_name": "Python 3 (ipykernel)",
   "language": "python",
   "name": "python3"
  },
  "language_info": {
   "codemirror_mode": {
    "name": "ipython",
    "version": 3
   },
   "file_extension": ".py",
   "mimetype": "text/x-python",
   "name": "python",
   "nbconvert_exporter": "python",
   "pygments_lexer": "ipython3",
   "version": "3.12.4"
  }
 },
 "nbformat": 4,
 "nbformat_minor": 5
}
