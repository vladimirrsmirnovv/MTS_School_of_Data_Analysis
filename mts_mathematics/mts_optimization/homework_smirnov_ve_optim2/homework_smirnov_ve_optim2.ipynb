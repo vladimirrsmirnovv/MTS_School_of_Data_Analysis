{
 "cells": [
  {
   "cell_type": "code",
   "execution_count": 1,
   "id": "043fa3b1-398d-40fc-853d-e58094878f73",
   "metadata": {},
   "outputs": [],
   "source": [
    "from scipy.optimize import minimize\n",
    "import numpy as np"
   ]
  },
  {
   "cell_type": "markdown",
   "id": "2690436b-f652-48a5-acda-127bdf8173f0",
   "metadata": {},
   "source": [
    "## Задание 1. \n",
    "Решить аналитически и проверить при помощи оптимизатора в Python. Оптимизатор можно использовать на своё усмотрение."
   ]
  },
  {
   "cell_type": "code",
   "execution_count": 3,
   "id": "56af9c32-c154-4fbc-a692-2cb0c0574917",
   "metadata": {},
   "outputs": [
    {
     "name": "stdout",
     "output_type": "stream",
     "text": [
      "Минимальное значение функции: 0.0\n",
      "Точка минимума: [0. 0. 0. 0. 0. 0. 0. 0. 0. 0.]\n"
     ]
    }
   ],
   "source": [
    "def objective(x):\n",
    "    return np.sum(x**2)\n",
    "\n",
    "# Определение ограничения\n",
    "def constraint_eq(x):\n",
    "    return np.sum(x**4) - 1\n",
    "\n",
    "x0 = np.full(10, 0**(1/4))\n",
    "opt_method = 'SLSQP'\n",
    "res = minimize(objective, x0, method=opt_method, constraints={'type': 'eq', 'fun': constraint_eq})\n",
    "\n",
    "print(\"Минимальное значение функции:\", res.fun)\n",
    "print(\"Точка минимума:\", res.x)"
   ]
  },
  {
   "cell_type": "code",
   "execution_count": 4,
   "id": "7f53756d-1946-419c-8f5b-03eb9bae0070",
   "metadata": {},
   "outputs": [
    {
     "name": "stdout",
     "output_type": "stream",
     "text": [
      "Минимальное значение функции: 3.1622776601542704\n",
      "Точка минимума: [0.56234425 0.56234425 0.56234425 0.56234425 0.56234042 0.56234042\n",
      " 0.56234039 0.56234039 0.5623427  0.56233191]\n"
     ]
    }
   ],
   "source": [
    "initial_guess = np.array([10**(1/4)]*10)\n",
    "\n",
    "method = 'SLSQP'\n",
    "\n",
    "result = minimize(objective, initial_guess, method=method, constraints={'type': 'eq', 'fun': constraint_eq})\n",
    "\n",
    "print(\"Минимальное значение функции:\", result.fun)\n",
    "print(\"Точка минимума:\", result.x)"
   ]
  },
  {
   "cell_type": "markdown",
   "id": "9f1aa4d1-9ec4-4dca-9efd-171ed5eb10df",
   "metadata": {},
   "source": [
    "#### Заметно, что аналитическое решение было корректным"
   ]
  },
  {
   "cell_type": "markdown",
   "id": "5d5ae48f-1c91-46c7-90fe-a778aea7d38e",
   "metadata": {},
   "source": [
    "## Задача 2.\n",
    "1. Решить аналитически и проверить при помощи оптимизатора в Python. Оптимизатор можно использовать на своё усмотрение (например, ORTools).\n",
    "2. Также дополнительно помимо оптимизатора использовать какой-нибудь метаэвристический алгоритм (имитация отжига / квантовый отжиг / муравьиный алгоритм / генетический алгоритм) для проверки результатов.\n",
    "3. Дать оценку устойчивости метаэвристики в зависимости от начальной точки и от количества итераций."
   ]
  },
  {
   "cell_type": "code",
   "execution_count": 7,
   "id": "903657b6-d2b0-4edb-abbe-f3de00153b8c",
   "metadata": {},
   "outputs": [
    {
     "name": "stdout",
     "output_type": "stream",
     "text": [
      "Optimal cost: 18\n",
      "Vehicle 0 follows route:\n",
      " 1 -> 2 -> 4 -> 5 -> 3 -> 1\n",
      "\n"
     ]
    }
   ],
   "source": [
    "import random\n",
    "import numpy as np\n",
    "from numpy.random import choice\n",
    "from ortools.constraint_solver import routing_enums_pb2, pywrapcp\n",
    "\n",
    "class ACO_Solver:\n",
    "    def __init__(self, cost_matrix, ants, elite_ants, iterations, evaporation, alpha=1, beta=1):\n",
    "        self.cost_matrix = cost_matrix\n",
    "        self.pheromones = np.ones_like(cost_matrix) / len(cost_matrix)\n",
    "        self.ants = ants\n",
    "        self.elite_ants = elite_ants\n",
    "        self.iterations = iterations\n",
    "        self.evaporation = evaporation\n",
    "        self.alpha = alpha\n",
    "        self.beta = beta\n",
    "        self.total_nodes = len(cost_matrix)\n",
    "        self.nodes_list = range(self.total_nodes)\n",
    "\n",
    "    def optimize(self):\n",
    "        best_route = None\n",
    "        best_length = float(\"inf\")\n",
    "        for _ in range(self.iterations):\n",
    "            generated_routes = self.construct_routes()\n",
    "            self.enhance_pheromones(generated_routes)\n",
    "            current_best = min(generated_routes, key=lambda x: x[1])\n",
    "            if current_best[1] < best_length:\n",
    "                best_route, best_length = current_best\n",
    "            self.pheromones *= self.evaporation\n",
    "        return best_route, best_length\n",
    "\n",
    "    def construct_routes(self):\n",
    "        routes = []\n",
    "        for _ in range(self.ants):\n",
    "            tour = self.generate_tour(0)\n",
    "            routes.append((tour, self.evaluate_route(tour)))\n",
    "        return routes\n",
    "\n",
    "    def generate_tour(self, start):\n",
    "        path = []\n",
    "        visited = {start}\n",
    "        prev_node = start\n",
    "        for _ in range(self.total_nodes - 1):\n",
    "            next_node = self.pick_next_node(prev_node, visited)\n",
    "            path.append((prev_node, next_node))\n",
    "            prev_node = next_node\n",
    "            visited.add(next_node)\n",
    "        path.append((prev_node, start))\n",
    "        return path\n",
    "\n",
    "    def pick_next_node(self, current, visited):\n",
    "        local_pheromones = np.copy(self.pheromones[current])\n",
    "        local_pheromones[list(visited)] = 0\n",
    "        weights = (local_pheromones ** self.alpha) * (1.0 / self.cost_matrix[current]) ** self.beta\n",
    "        weights /= weights.sum()\n",
    "        return choice(self.nodes_list, 1, p=weights)[0]\n",
    "\n",
    "    def evaluate_route(self, path):\n",
    "        return sum(self.cost_matrix[i][j] for i, j in path)\n",
    "\n",
    "    def enhance_pheromones(self, routes):\n",
    "        top_routes = sorted(routes, key=lambda x: x[1])[:self.elite_ants]\n",
    "        for route, length in top_routes:\n",
    "            for i, j in route:\n",
    "                self.pheromones[i][j] += 1.0 / length\n",
    "\n",
    "\n",
    "def setup_problem():\n",
    "    params = {}\n",
    "    params[\"cost_matrix\"] = [\n",
    "        [0, 4, 5, 7, 5],\n",
    "        [8, 0, 5, 6, 6],\n",
    "        [3, 5, 0, 9, 6],\n",
    "        [3, 5, 6, 0, 2],\n",
    "        [6, 2, 3, 8, 0],\n",
    "    ]\n",
    "    params[\"vehicles\"] = 1\n",
    "    params[\"start\"] = 0\n",
    "    return params\n",
    "\n",
    "\n",
    "def display_result(params, manager, model, solution):\n",
    "    print(f\"Optimal cost: {solution.ObjectiveValue()}\")\n",
    "    for vid in range(params[\"vehicles\"]):\n",
    "        idx = model.Start(vid)\n",
    "        route_plan = f\"Vehicle {vid} follows route:\\n\"\n",
    "        while not model.IsEnd(idx):\n",
    "            route_plan += f\" {manager.IndexToNode(idx) + 1} ->\"\n",
    "            idx = solution.Value(model.NextVar(idx))\n",
    "        route_plan += f\" {manager.IndexToNode(idx) + 1}\\n\"\n",
    "        print(route_plan)\n",
    "\n",
    "\n",
    "def solve_vrp():\n",
    "    params = setup_problem()\n",
    "    manager = pywrapcp.RoutingIndexManager(\n",
    "        len(params[\"cost_matrix\"]), params[\"vehicles\"], params[\"start\"]\n",
    "    )\n",
    "    model = pywrapcp.RoutingModel(manager)\n",
    "\n",
    "    def distance_function(i, j):\n",
    "        return params[\"cost_matrix\"][manager.IndexToNode(i)][manager.IndexToNode(j)]\n",
    "\n",
    "    transit_callback_idx = model.RegisterTransitCallback(distance_function)\n",
    "    model.SetArcCostEvaluatorOfAllVehicles(transit_callback_idx)\n",
    "    model.AddDimension(transit_callback_idx, 0, 3000, True, \"Distance\")\n",
    "    search_config = pywrapcp.DefaultRoutingSearchParameters()\n",
    "    search_config.first_solution_strategy = routing_enums_pb2.FirstSolutionStrategy.PATH_CHEAPEST_ARC\n",
    "    solution = model.SolveWithParameters(search_config)\n",
    "    if solution:\n",
    "        display_result(params, manager, model, solution)\n",
    "\n",
    "\n",
    "if __name__ == \"__main__\":\n",
    "    solve_vrp()"
   ]
  },
  {
   "cell_type": "markdown",
   "id": "9772405a-10e7-4e9e-bcc5-c3d30dabc146",
   "metadata": {},
   "source": [
    "Результаты совпали с аналитическим решением, что подтверждает корректность метода.\n",
    "\n",
    "Стоимость маршрута зависит от начальной температуры: чем она ближе к минимальному значению, тем выше вероятность получения некорректного решения."
   ]
  }
 ],
 "metadata": {
  "kernelspec": {
   "display_name": "Python 3 (ipykernel)",
   "language": "python",
   "name": "python3"
  },
  "language_info": {
   "codemirror_mode": {
    "name": "ipython",
    "version": 3
   },
   "file_extension": ".py",
   "mimetype": "text/x-python",
   "name": "python",
   "nbconvert_exporter": "python",
   "pygments_lexer": "ipython3",
   "version": "3.12.4"
  }
 },
 "nbformat": 4,
 "nbformat_minor": 5
}
