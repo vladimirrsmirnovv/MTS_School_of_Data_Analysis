{
 "cells": [
  {
   "cell_type": "markdown",
   "id": "875ce01f-f02d-4863-9234-051dc1f934df",
   "metadata": {},
   "source": [
    "# **Решить задачу линейного программирования симплекс-методом (с использованием симплекс таблиц).**"
   ]
  },
  {
   "cell_type": "markdown",
   "id": "9c0af14e-990c-4a9e-92ce-263347258110",
   "metadata": {},
   "source": [
    "## **Итоговый результат проверить через симплекс-метод из scipy.optimize**"
   ]
  },
  {
   "cell_type": "code",
   "execution_count": 1,
   "id": "ced0d86e-6bbe-488c-912c-ffcb077569ed",
   "metadata": {},
   "outputs": [],
   "source": [
    "import numpy as np\n",
    "import pandas as pd\n",
    "from scipy.optimize import linprog"
   ]
  },
  {
   "cell_type": "code",
   "execution_count": 43,
   "id": "8ebadfc5-4a3c-4978-aa83-80816cc6c368",
   "metadata": {},
   "outputs": [
    {
     "name": "stdout",
     "output_type": "stream",
     "text": [
      "Оптимальные значения переменных: [0.54545455 8.18181818 0.         0.         0.         0.        ]\n",
      "Максимальное значение целевой функции: 25.636363636363637\n"
     ]
    }
   ],
   "source": [
    "c = [-2, -3, 0, 1, 0, 0]  # * (-1), т. к. min ->\n",
    "\n",
    "A = [\n",
    "    [2, -1, 0, -2, 1, 0],\n",
    "    [3, 2, 1, -3, 0, 0],   \n",
    "    [-1, 3, 0, 4, 0, 1]  \n",
    "]\n",
    "\n",
    "b = [16, 18, 24]\n",
    "\n",
    "bounds = [(0, None)] * 6\n",
    "\n",
    "res = linprog(c, A_ub=A, b_ub=b, bounds=bounds)\n",
    "\n",
    "print(\"Оптимальные значения переменных:\", res.x)\n",
    "print(\"Максимальное значение целевой функции:\", -res.fun)  # Инверсия знака, т.к. решали на минимум"
   ]
  }
 ],
 "metadata": {
  "kernelspec": {
   "display_name": "Python 3 (ipykernel)",
   "language": "python",
   "name": "python3"
  },
  "language_info": {
   "codemirror_mode": {
    "name": "ipython",
    "version": 3
   },
   "file_extension": ".py",
   "mimetype": "text/x-python",
   "name": "python",
   "nbconvert_exporter": "python",
   "pygments_lexer": "ipython3",
   "version": "3.12.4"
  }
 },
 "nbformat": 4,
 "nbformat_minor": 5
}
